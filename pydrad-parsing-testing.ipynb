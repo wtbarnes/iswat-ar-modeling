{
 "cells": [
  {
   "cell_type": "code",
   "execution_count": 1,
   "id": "b7721644-5499-4838-b3ad-a746b8678145",
   "metadata": {},
   "outputs": [
    {
     "ename": "ImportError",
     "evalue": "cannot import name 'parse_ine_file' from 'pydrad.parse.util' (/Users/wtbarnes/Documents/codes/pydrad/pydrad/parse/util.py)",
     "output_type": "error",
     "traceback": [
      "\u001b[0;31m---------------------------------------------------------------------------\u001b[0m",
      "\u001b[0;31mImportError\u001b[0m                               Traceback (most recent call last)",
      "Cell \u001b[0;32mIn[1], line 1\u001b[0m\n\u001b[0;32m----> 1\u001b[0m \u001b[38;5;28;01mimport\u001b[39;00m \u001b[38;5;21;01mpydrad\u001b[39;00m\u001b[38;5;21;01m.\u001b[39;00m\u001b[38;5;21;01mparse\u001b[39;00m\n\u001b[1;32m      2\u001b[0m \u001b[38;5;28;01mimport\u001b[39;00m \u001b[38;5;21;01mnumpy\u001b[39;00m \u001b[38;5;28;01mas\u001b[39;00m \u001b[38;5;21;01mnp\u001b[39;00m\n",
      "File \u001b[0;32m~/Documents/codes/pydrad/pydrad/parse/__init__.py:4\u001b[0m\n\u001b[1;32m      1\u001b[0m \u001b[38;5;124;03m\"\"\"\u001b[39;00m\n\u001b[1;32m      2\u001b[0m \u001b[38;5;124;03mObjects for easily parsing HYDRAD results\u001b[39;00m\n\u001b[1;32m      3\u001b[0m \u001b[38;5;124;03m\"\"\"\u001b[39;00m\n\u001b[0;32m----> 4\u001b[0m \u001b[38;5;28;01mfrom\u001b[39;00m \u001b[38;5;21;01mpydrad\u001b[39;00m\u001b[38;5;21;01m.\u001b[39;00m\u001b[38;5;21;01mparse\u001b[39;00m\u001b[38;5;21;01m.\u001b[39;00m\u001b[38;5;21;01mparse\u001b[39;00m \u001b[38;5;28;01mimport\u001b[39;00m \u001b[38;5;241m*\u001b[39m\n",
      "File \u001b[0;32m~/Documents/codes/pydrad/pydrad/parse/parse.py:15\u001b[0m\n\u001b[1;32m     12\u001b[0m \u001b[38;5;28;01mfrom\u001b[39;00m \u001b[38;5;21;01mscipy\u001b[39;00m\u001b[38;5;21;01m.\u001b[39;00m\u001b[38;5;21;01minterpolate\u001b[39;00m \u001b[38;5;28;01mimport\u001b[39;00m splev, splrep\n\u001b[1;32m     14\u001b[0m \u001b[38;5;28;01mfrom\u001b[39;00m \u001b[38;5;21;01mpydrad\u001b[39;00m \u001b[38;5;28;01mimport\u001b[39;00m log\n\u001b[0;32m---> 15\u001b[0m \u001b[38;5;28;01mfrom\u001b[39;00m \u001b[38;5;21;01mpydrad\u001b[39;00m\u001b[38;5;21;01m.\u001b[39;00m\u001b[38;5;21;01mparse\u001b[39;00m\u001b[38;5;21;01m.\u001b[39;00m\u001b[38;5;21;01mutil\u001b[39;00m \u001b[38;5;28;01mimport\u001b[39;00m parse_ine_file\n\u001b[1;32m     16\u001b[0m \u001b[38;5;28;01mfrom\u001b[39;00m \u001b[38;5;21;01mpydrad\u001b[39;00m\u001b[38;5;21;01m.\u001b[39;00m\u001b[38;5;21;01mconfigure\u001b[39;00m \u001b[38;5;28;01mimport\u001b[39;00m Configure\n\u001b[1;32m     17\u001b[0m \u001b[38;5;28;01mfrom\u001b[39;00m \u001b[38;5;21;01mpydrad\u001b[39;00m\u001b[38;5;21;01m.\u001b[39;00m\u001b[38;5;21;01mvisualize\u001b[39;00m \u001b[38;5;28;01mimport\u001b[39;00m (animate_strand, plot_histogram, plot_profile,\n\u001b[1;32m     18\u001b[0m                               plot_strand, plot_time_distance, plot_time_mesh)\n",
      "\u001b[0;31mImportError\u001b[0m: cannot import name 'parse_ine_file' from 'pydrad.parse.util' (/Users/wtbarnes/Documents/codes/pydrad/pydrad/parse/util.py)"
     ]
    }
   ],
   "source": [
    "import pydrad.parse\n",
    "import numpy as np"
   ]
  },
  {
   "cell_type": "code",
   "execution_count": 4,
   "id": "6ea1f37b-295e-4d23-86f8-d5d58e371018",
   "metadata": {},
   "outputs": [],
   "source": [
    "s = pydrad.parse.Strand('../esis-two-modeling/notebooks/hydrad_runs/beam_heating_run/',)"
   ]
  },
  {
   "cell_type": "code",
   "execution_count": 5,
   "id": "4cd2a155-e38d-4be0-ac66-ac4c0297e89b",
   "metadata": {},
   "outputs": [
    {
     "name": "stderr",
     "output_type": "stream",
     "text": [
      "WARNING: ../esis-two-modeling/notebooks/hydrad_runs/beam_heating_run/Results/profile0.Hstate not found. Skipping parsing of hstate files. Set read_hstate=False to suppress this warning. [pydrad.parse.parse]\n",
      "WARNING: ../esis-two-modeling/notebooks/hydrad_runs/beam_heating_run/Results/profile0.ine not found. Skipping parsing of ine files. Set read_ine=False to suppress this warning. [pydrad.parse.parse]\n",
      "WARNING: ../esis-two-modeling/notebooks/hydrad_runs/beam_heating_run/Results/profile0.trm not found. Skipping parsing of trm files. Set read_trm=False to suppress this warning. [pydrad.parse.parse]\n"
     ]
    },
    {
     "data": {
      "text/plain": [
       "HYDRAD Timestep Profile\n",
       "-----------------------\n",
       "Filename: ../esis-two-modeling/notebooks/hydrad_runs/beam_heating_run/Results/profile0.phy\n",
       "Timestep #: 0"
      ]
     },
     "execution_count": 5,
     "metadata": {},
     "output_type": "execute_result"
    }
   ],
   "source": [
    "s[0]"
   ]
  },
  {
   "cell_type": "code",
   "execution_count": 12,
   "id": "a669d479-4934-44bb-9567-539e06ec0f13",
   "metadata": {},
   "outputs": [],
   "source": [
    "import matplotlib.pyplot as plt"
   ]
  },
  {
   "cell_type": "code",
   "execution_count": 18,
   "id": "9392b490-30d0-495d-8d0b-924281c1f0e3",
   "metadata": {},
   "outputs": [
    {
     "name": "stderr",
     "output_type": "stream",
     "text": [
      "WARNING: ../esis-two-modeling/notebooks/hydrad_runs/beam_heating_run/Results/profile0.Hstate not found. Skipping parsing of hstate files. Set read_hstate=False to suppress this warning. [pydrad.parse.parse]\n",
      "WARNING: ../esis-two-modeling/notebooks/hydrad_runs/beam_heating_run/Results/profile0.ine not found. Skipping parsing of ine files. Set read_ine=False to suppress this warning. [pydrad.parse.parse]\n",
      "WARNING: ../esis-two-modeling/notebooks/hydrad_runs/beam_heating_run/Results/profile0.trm not found. Skipping parsing of trm files. Set read_trm=False to suppress this warning. [pydrad.parse.parse]\n",
      "WARNING: ../esis-two-modeling/notebooks/hydrad_runs/beam_heating_run/Results/profile0.Hstate not found. Skipping parsing of hstate files. Set read_hstate=False to suppress this warning. [pydrad.parse.parse]\n",
      "WARNING: ../esis-two-modeling/notebooks/hydrad_runs/beam_heating_run/Results/profile0.ine not found. Skipping parsing of ine files. Set read_ine=False to suppress this warning. [pydrad.parse.parse]\n",
      "WARNING: ../esis-two-modeling/notebooks/hydrad_runs/beam_heating_run/Results/profile0.trm not found. Skipping parsing of trm files. Set read_trm=False to suppress this warning. [pydrad.parse.parse]\n"
     ]
    },
    {
     "ename": "ValueError",
     "evalue": "operands could not be broadcast together with shapes (304,) (305,) ",
     "output_type": "error",
     "traceback": [
      "\u001b[0;31m---------------------------------------------------------------------------\u001b[0m",
      "\u001b[0;31mValueError\u001b[0m                                Traceback (most recent call last)",
      "Cell \u001b[0;32mIn[18], line 1\u001b[0m\n\u001b[0;32m----> 1\u001b[0m plt\u001b[38;5;241m.\u001b[39mhist((\u001b[43ms\u001b[49m\u001b[43m[\u001b[49m\u001b[38;5;241;43m0\u001b[39;49m\u001b[43m]\u001b[49m\u001b[38;5;241;43m.\u001b[39;49m\u001b[43mcoordinate\u001b[49m\u001b[43m \u001b[49m\u001b[38;5;241;43m-\u001b[39;49m\u001b[43m \u001b[49m\u001b[43ms\u001b[49m\u001b[43m[\u001b[49m\u001b[38;5;241;43m0\u001b[39;49m\u001b[43m]\u001b[49m\u001b[38;5;241;43m.\u001b[39;49m\u001b[43mgrid_edges\u001b[49m)\u001b[38;5;241m.\u001b[39mto_value(\u001b[38;5;124m'\u001b[39m\u001b[38;5;124mMm\u001b[39m\u001b[38;5;124m'\u001b[39m))\n",
      "File \u001b[0;32m~/mambaforge/envs/pydrad-dev/lib/python3.11/site-packages/astropy/units/quantity.py:691\u001b[0m, in \u001b[0;36mQuantity.__array_ufunc__\u001b[0;34m(self, function, method, *inputs, **kwargs)\u001b[0m\n\u001b[1;32m    689\u001b[0m     \u001b[38;5;28;01mreturn\u001b[39;00m \u001b[38;5;28mNotImplemented\u001b[39m\n\u001b[1;32m    690\u001b[0m \u001b[38;5;28;01melse\u001b[39;00m:\n\u001b[0;32m--> 691\u001b[0m     \u001b[38;5;28;01mraise\u001b[39;00m e\n",
      "File \u001b[0;32m~/mambaforge/envs/pydrad-dev/lib/python3.11/site-packages/astropy/units/quantity.py:666\u001b[0m, in \u001b[0;36mQuantity.__array_ufunc__\u001b[0;34m(self, function, method, *inputs, **kwargs)\u001b[0m\n\u001b[1;32m    663\u001b[0m     arrays\u001b[38;5;241m.\u001b[39mappend(converter(input_) \u001b[38;5;28;01mif\u001b[39;00m converter \u001b[38;5;28;01melse\u001b[39;00m input_)\n\u001b[1;32m    665\u001b[0m \u001b[38;5;66;03m# Call our superclass's __array_ufunc__\u001b[39;00m\n\u001b[0;32m--> 666\u001b[0m result \u001b[38;5;241m=\u001b[39m \u001b[38;5;28;43msuper\u001b[39;49m\u001b[43m(\u001b[49m\u001b[43m)\u001b[49m\u001b[38;5;241;43m.\u001b[39;49m\u001b[43m__array_ufunc__\u001b[49m\u001b[43m(\u001b[49m\u001b[43mfunction\u001b[49m\u001b[43m,\u001b[49m\u001b[43m \u001b[49m\u001b[43mmethod\u001b[49m\u001b[43m,\u001b[49m\u001b[43m \u001b[49m\u001b[38;5;241;43m*\u001b[39;49m\u001b[43marrays\u001b[49m\u001b[43m,\u001b[49m\u001b[43m \u001b[49m\u001b[38;5;241;43m*\u001b[39;49m\u001b[38;5;241;43m*\u001b[39;49m\u001b[43mkwargs\u001b[49m\u001b[43m)\u001b[49m\n\u001b[1;32m    667\u001b[0m \u001b[38;5;66;03m# If unit is None, a plain array is expected (e.g., comparisons), which\u001b[39;00m\n\u001b[1;32m    668\u001b[0m \u001b[38;5;66;03m# means we're done.\u001b[39;00m\n\u001b[1;32m    669\u001b[0m \u001b[38;5;66;03m# We're also done if the result was None (for method 'at') or\u001b[39;00m\n\u001b[1;32m    670\u001b[0m \u001b[38;5;66;03m# NotImplemented, which can happen if other inputs/outputs override\u001b[39;00m\n\u001b[1;32m    671\u001b[0m \u001b[38;5;66;03m# __array_ufunc__; hopefully, they can then deal with us.\u001b[39;00m\n\u001b[1;32m    672\u001b[0m \u001b[38;5;28;01mif\u001b[39;00m unit \u001b[38;5;129;01mis\u001b[39;00m \u001b[38;5;28;01mNone\u001b[39;00m \u001b[38;5;129;01mor\u001b[39;00m result \u001b[38;5;129;01mis\u001b[39;00m \u001b[38;5;28;01mNone\u001b[39;00m \u001b[38;5;129;01mor\u001b[39;00m result \u001b[38;5;129;01mis\u001b[39;00m \u001b[38;5;28mNotImplemented\u001b[39m:\n",
      "\u001b[0;31mValueError\u001b[0m: operands could not be broadcast together with shapes (304,) (305,) "
     ]
    }
   ],
   "source": [
    "plt.hist((s[0].coordinate - s[0].grid_edges).to_value('Mm'))"
   ]
  },
  {
   "cell_type": "code",
   "execution_count": 27,
   "id": "aa4383c4-384e-415d-adb2-16774d7c2579",
   "metadata": {},
   "outputs": [],
   "source": [
    "foo = np.loadtxt('../esis-two-modeling/notebooks/hydrad_runs/beam_heating_run_lower_energy/Results/profile0.amr',\n",
    "                 dtype=float,\n",
    "                 skiprows=4)"
   ]
  },
  {
   "cell_type": "code",
   "execution_count": 38,
   "id": "dd158ed7-3a2a-4a29-8722-bf18872700d6",
   "metadata": {},
   "outputs": [
    {
     "data": {
      "text/plain": [
       "array([2., 2., 2., 2., 2., 2., 2., 2., 2., 2., 2., 2., 2., 2., 2., 2., 2.,\n",
       "       2., 2., 2., 2., 2., 2., 2., 2., 2., 2., 2., 2., 2., 2., 2., 2., 2.,\n",
       "       2., 2., 2., 2., 2., 3., 4., 5., 6., 6., 7., 8., 8., 7., 7., 7., 7.,\n",
       "       6., 6., 6., 5., 5., 5., 4., 3., 3., 2., 2., 1., 1., 0., 0., 0., 0.,\n",
       "       0., 0., 0., 0., 0., 0., 0., 0., 0., 0., 0., 0., 0., 0., 0., 0., 0.,\n",
       "       0., 0., 0., 0., 0., 0., 0., 0., 0., 0., 0., 0., 0., 0., 0., 0., 0.,\n",
       "       0., 0., 0., 0., 0., 0., 0., 0., 0., 0., 0., 0., 0., 0., 0., 0., 0.,\n",
       "       0., 0., 0., 0., 0., 0., 0., 0., 0., 0., 0., 0., 0., 0., 0., 0., 0.,\n",
       "       0., 0., 0., 0., 0., 0., 0., 0., 0., 0., 0., 0., 0., 0., 0., 0., 0.,\n",
       "       0., 0., 0., 0., 0., 0., 0., 0., 0., 0., 0., 0., 0., 0., 0., 0., 0.,\n",
       "       0., 0., 0., 0., 0., 0., 0., 0., 0., 0., 0., 0., 0., 0., 0., 0., 0.,\n",
       "       0., 0., 0., 0., 0., 0., 0., 0., 0., 0., 0., 0., 0., 0., 0., 0., 0.,\n",
       "       0., 0., 0., 0., 0., 0., 0., 0., 0., 0., 0., 0., 0., 0., 0., 0., 0.,\n",
       "       0., 0., 0., 0., 0., 0., 0., 0., 0., 0., 0., 0., 0., 0., 0., 0., 0.,\n",
       "       0., 0., 1., 1., 2., 2., 3., 3., 4., 5., 5., 5., 6., 6., 6., 7., 7.,\n",
       "       7., 7., 8., 8., 7., 6., 6., 5., 4., 3., 2., 2., 2., 2., 2., 2., 2.,\n",
       "       2., 2., 2., 2., 2., 2., 2., 2., 2., 2., 2., 2., 2., 2., 2., 2., 2.,\n",
       "       2., 2., 2., 2., 2., 2., 2., 2., 2., 2., 2., 2., 2., 2., 2.])"
      ]
     },
     "execution_count": 38,
     "metadata": {},
     "output_type": "execute_result"
    }
   ],
   "source": [
    "foo[:,6]"
   ]
  },
  {
   "cell_type": "code",
   "execution_count": 29,
   "id": "f3233cdb-dbf1-4bde-985b-8f2d6361ad8b",
   "metadata": {},
   "outputs": [],
   "source": [
    "import pathlib"
   ]
  },
  {
   "cell_type": "code",
   "execution_count": 31,
   "id": "83c5084c-8b82-4176-a0b4-86ab69f196e1",
   "metadata": {},
   "outputs": [
    {
     "data": {
      "text/plain": [
       "False"
      ]
     },
     "execution_count": 31,
     "metadata": {},
     "output_type": "execute_result"
    }
   ],
   "source": [
    "pathlib.Path().is_file()"
   ]
  },
  {
   "cell_type": "code",
   "execution_count": 39,
   "id": "5cd52050-a329-4588-8cdf-7b35ac7ac270",
   "metadata": {},
   "outputs": [],
   "source": [
    "import astropy.constants"
   ]
  },
  {
   "cell_type": "code",
   "execution_count": 41,
   "id": "421fc2be-8b66-49c2-975c-58d81999575b",
   "metadata": {},
   "outputs": [],
   "source": [
    "m_h = astropy.constants.m_p + astropy.constants.m_n\n",
    "m_he = 2*m_h"
   ]
  },
  {
   "cell_type": "code",
   "execution_count": 42,
   "id": "15a4fcd4-a936-47bb-9c73-22dbcbf3ad97",
   "metadata": {},
   "outputs": [],
   "source": [
    "m_ion = (m_h + m_he)/2"
   ]
  },
  {
   "cell_type": "code",
   "execution_count": 44,
   "id": "96d50c38-4b77-48aa-b8b0-272dad63df65",
   "metadata": {},
   "outputs": [
    {
     "data": {
      "text/latex": [
       "$5.0213241 \\times 10^{-27} \\; \\mathrm{kg}$"
      ],
      "text/plain": [
       "<Quantity 5.02132413e-27 kg>"
      ]
     },
     "execution_count": 44,
     "metadata": {},
     "output_type": "execute_result"
    }
   ],
   "source": [
    "m_ion"
   ]
  },
  {
   "cell_type": "code",
   "execution_count": 47,
   "id": "fdcb3add-82d0-424a-a8d5-498ee78df63f",
   "metadata": {},
   "outputs": [],
   "source": [
    "import astropy.units as u"
   ]
  },
  {
   "cell_type": "code",
   "execution_count": 91,
   "id": "63afde2c-3f30-4a8a-a47e-ca7455361bbe",
   "metadata": {
    "scrolled": true
   },
   "outputs": [
    {
     "name": "stderr",
     "output_type": "stream",
     "text": [
      "WARNING: ../source/main.cpp:91:1: warning: 'sprintf' is deprecated: This function is provided for compatibility reasons only.  Due to security concerns inherent in the design of sprintf(3), it is highly recommended that you use snprintf(3) instead. [-Wdeprecated-declarations]\n",
      "sprintf( szGravityTableFilename, \"%s.table\", Params.szOutputFilename );\n",
      "^\n",
      "/Library/Developer/CommandLineTools/SDKs/MacOSX.sdk/usr/include/stdio.h:180:1: note: 'sprintf' has been explicitly marked deprecated here\n",
      "__deprecated_msg(\"This function is provided for compatibility reasons only.  Due to security concerns inherent in the design of sprintf(3), it is highly recommended that you use snprintf(3) instead.\")\n",
      "^\n",
      "/Library/Developer/CommandLineTools/SDKs/MacOSX.sdk/usr/include/sys/cdefs.h:215:48: note: expanded from macro '__deprecated_msg'\n",
      "        #define __deprecated_msg(_msg) __attribute__((__deprecated__(_msg)))\n",
      "                                                      ^\n",
      "../source/main.cpp:92:1: warning: 'sprintf' is deprecated: This function is provided for compatibility reasons only.  Due to security concerns inherent in the design of sprintf(3), it is highly recommended that you use snprintf(3) instead. [-Wdeprecated-declarations]\n",
      "sprintf( szGravityFilename, \"%s.gravity\", Params.szOutputFilename );\n",
      "^\n",
      "/Library/Developer/CommandLineTools/SDKs/MacOSX.sdk/usr/include/stdio.h:180:1: note: 'sprintf' has been explicitly marked deprecated here\n",
      "__deprecated_msg(\"This function is provided for compatibility reasons only.  Due to security concerns inherent in the design of sprintf(3), it is highly recommended that you use snprintf(3) instead.\")\n",
      "^\n",
      "/Library/Developer/CommandLineTools/SDKs/MacOSX.sdk/usr/include/sys/cdefs.h:215:48: note: expanded from macro '__deprecated_msg'\n",
      "        #define __deprecated_msg(_msg) __attribute__((__deprecated__(_msg)))\n",
      "                                                      ^\n",
      "2 warnings generated.\n",
      "../source/misc.cpp:70:1: warning: 'sprintf' is deprecated: This function is provided for compatibility reasons only.  Due to security concerns inherent in the design of sprintf(3), it is highly recommended that you use snprintf(3) instead. [-Wdeprecated-declarations]\n",
      "sprintf( szGravityFilename, \"%s.table\", Params.szOutputFilename );\n",
      "^\n",
      "/Library/Developer/CommandLineTools/SDKs/MacOSX.sdk/usr/include/stdio.h:180:1: note: 'sprintf' has been explicitly marked deprecated here\n",
      "__deprecated_msg(\"This function is provided for compatibility reasons only.  Due to security concerns inherent in the design of sprintf(3), it is highly recommended that you use snprintf(3) instead.\")\n",
      "^\n",
      "/Library/Developer/CommandLineTools/SDKs/MacOSX.sdk/usr/include/sys/cdefs.h:215:48: note: expanded from macro '__deprecated_msg'\n",
      "        #define __deprecated_msg(_msg) __attribute__((__deprecated__(_msg)))\n",
      "                                                      ^\n",
      "../source/misc.cpp:274:1: warning: 'sprintf' is deprecated: This function is provided for compatibility reasons only.  Due to security concerns inherent in the design of sprintf(3), it is highly recommended that you use snprintf(3) instead. [-Wdeprecated-declarations]\n",
      "sprintf( szPHYFilename, \"%s.phy\", Params.szOutputFilename );\n",
      "^\n",
      "/Library/Developer/CommandLineTools/SDKs/MacOSX.sdk/usr/include/stdio.h:180:1: note: 'sprintf' has been explicitly marked deprecated here\n",
      "__deprecated_msg(\"This function is provided for compatibility reasons only.  Due to security concerns inherent in the design of sprintf(3), it is highly recommended that you use snprintf(3) instead.\")\n",
      "^\n",
      "/Library/Developer/CommandLineTools/SDKs/MacOSX.sdk/usr/include/sys/cdefs.h:215:48: note: expanded from macro '__deprecated_msg'\n",
      "        #define __deprecated_msg(_msg) __attribute__((__deprecated__(_msg)))\n",
      "                                                      ^\n",
      "../source/misc.cpp:309:1: warning: 'sprintf' is deprecated: This function is provided for compatibility reasons only.  Due to security concerns inherent in the design of sprintf(3), it is highly recommended that you use snprintf(3) instead. [-Wdeprecated-declarations]\n",
      "sprintf( szSOLFilename, \"%s.sol\", Params.szOutputFilename );\n",
      "^\n",
      "/Library/Developer/CommandLineTools/SDKs/MacOSX.sdk/usr/include/stdio.h:180:1: note: 'sprintf' has been explicitly marked deprecated here\n",
      "__deprecated_msg(\"This function is provided for compatibility reasons only.  Due to security concerns inherent in the design of sprintf(3), it is highly recommended that you use snprintf(3) instead.\")\n",
      "^\n",
      "/Library/Developer/CommandLineTools/SDKs/MacOSX.sdk/usr/include/sys/cdefs.h:215:48: note: expanded from macro '__deprecated_msg'\n",
      "        #define __deprecated_msg(_msg) __attribute__((__deprecated__(_msg)))\n",
      "                                                      ^\n",
      "3 warnings generated.\n",
      "../../Radiation_Model/source/radiation.cpp:93:1: warning: 'sprintf' is deprecated: This function is provided for compatibility reasons only.  Due to security concerns inherent in the design of sprintf(3), it is highly recommended that you use snprintf(3) instead. [-Wdeprecated-declarations]\n",
      "sprintf( szRangesFilename, \"Radiation_Model/atomic_data/ranges/%s.rng\", buffer1 );\n",
      "^\n",
      "/Library/Developer/CommandLineTools/SDKs/MacOSX.sdk/usr/include/stdio.h:180:1: note: 'sprintf' has been explicitly marked deprecated here\n",
      "__deprecated_msg(\"This function is provided for compatibility reasons only.  Due to security concerns inherent in the design of sprintf(3), it is highly recommended that you use snprintf(3) instead.\")\n",
      "^\n",
      "/Library/Developer/CommandLineTools/SDKs/MacOSX.sdk/usr/include/sys/cdefs.h:215:48: note: expanded from macro '__deprecated_msg'\n",
      "        #define __deprecated_msg(_msg) __attribute__((__deprecated__(_msg)))\n",
      "                                                      ^\n",
      "../../Radiation_Model/source/radiation.cpp:100:1: warning: 'sprintf' is deprecated: This function is provided for compatibility reasons only.  Due to security concerns inherent in the design of sprintf(3), it is highly recommended that you use snprintf(3) instead. [-Wdeprecated-declarations]\n",
      "sprintf( szAbundFilename, \"Radiation_Model/atomic_data/abundances/%s.ab\", buffer3 );\n",
      "^\n",
      "/Library/Developer/CommandLineTools/SDKs/MacOSX.sdk/usr/include/stdio.h:180:1: note: 'sprintf' has been explicitly marked deprecated here\n",
      "__deprecated_msg(\"This function is provided for compatibility reasons only.  Due to security concerns inherent in the design of sprintf(3), it is highly recommended that you use snprintf(3) instead.\")\n",
      "^\n",
      "/Library/Developer/CommandLineTools/SDKs/MacOSX.sdk/usr/include/sys/cdefs.h:215:48: note: expanded from macro '__deprecated_msg'\n",
      "        #define __deprecated_msg(_msg) __attribute__((__deprecated__(_msg)))\n",
      "                                                      ^\n",
      "../../Radiation_Model/source/radiation.cpp:123:5: warning: 'sprintf' is deprecated: This function is provided for compatibility reasons only.  Due to security concerns inherent in the design of sprintf(3), it is highly recommended that you use snprintf(3) instead. [-Wdeprecated-declarations]\n",
      "    sprintf( szEmissFilename, \"Radiation_Model/atomic_data/emissivities/%s/%s.em\", buffer2, buffer1 );\n",
      "    ^\n",
      "/Library/Developer/CommandLineTools/SDKs/MacOSX.sdk/usr/include/stdio.h:180:1: note: 'sprintf' has been explicitly marked deprecated here\n",
      "__deprecated_msg(\"This function is provided for compatibility reasons only.  Due to security concerns inherent in the design of sprintf(3), it is highly recommended that you use snprintf(3) instead.\")\n",
      "^\n",
      "/Library/Developer/CommandLineTools/SDKs/MacOSX.sdk/usr/include/sys/cdefs.h:215:48: note: expanded from macro '__deprecated_msg'\n",
      "        #define __deprecated_msg(_msg) __attribute__((__deprecated__(_msg)))\n",
      "                                                      ^\n",
      "../../Radiation_Model/source/radiation.cpp:124:5: warning: 'sprintf' is deprecated: This function is provided for compatibility reasons only.  Due to security concerns inherent in the design of sprintf(3), it is highly recommended that you use snprintf(3) instead. [-Wdeprecated-declarations]\n",
      "    sprintf( szRatesFilename, \"Radiation_Model/atomic_data/rates/%s/%s.rts\", buffer4, buffer1 );\n",
      "    ^\n",
      "/Library/Developer/CommandLineTools/SDKs/MacOSX.sdk/usr/include/stdio.h:180:1: note: 'sprintf' has been explicitly marked deprecated here\n",
      "__deprecated_msg(\"This function is provided for compatibility reasons only.  Due to security concerns inherent in the design of sprintf(3), it is highly recommended that you use snprintf(3) instead.\")\n",
      "^\n",
      "/Library/Developer/CommandLineTools/SDKs/MacOSX.sdk/usr/include/sys/cdefs.h:215:48: note: expanded from macro '__deprecated_msg'\n",
      "        #define __deprecated_msg(_msg) __attribute__((__deprecated__(_msg)))\n",
      "                                                      ^\n",
      "../../Radiation_Model/source/radiation.cpp:125:5: warning: 'sprintf' is deprecated: This function is provided for compatibility reasons only.  Due to security concerns inherent in the design of sprintf(3), it is highly recommended that you use snprintf(3) instead. [-Wdeprecated-declarations]\n",
      "    sprintf( szIonFracFilename, \"Radiation_Model/atomic_data/balances/%s/%s.bal\", buffer4, buffer1 );\n",
      "    ^\n",
      "/Library/Developer/CommandLineTools/SDKs/MacOSX.sdk/usr/include/stdio.h:180:1: note: 'sprintf' has been explicitly marked deprecated here\n",
      "__deprecated_msg(\"This function is provided for compatibility reasons only.  Due to security concerns inherent in the design of sprintf(3), it is highly recommended that you use snprintf(3) instead.\")\n",
      "^\n",
      "/Library/Developer/CommandLineTools/SDKs/MacOSX.sdk/usr/include/sys/cdefs.h:215:48: note: expanded from macro '__deprecated_msg'\n",
      "        #define __deprecated_msg(_msg) __attribute__((__deprecated__(_msg)))\n",
      "                                                      ^\n",
      "5 warnings generated.\n",
      " [pydrad.configure.util]\n"
     ]
    },
    {
     "name": "stdout",
     "output_type": "stream",
     "text": [
      "INFO: \n",
      "\n",
      "Calculating initial hydrostatic conditions...\n",
      "\n",
      "Peak heating range = 2.5119e-03 -> 2.5704e-03 erg cm^-3 s^-1\n",
      "\n",
      "Optimum peak heating rate = 2.5323e-03 erg cm^-3 s^-1\n",
      "\n",
      "Writing initial conditions file...\n",
      "\n",
      "Done!\n",
      "\n",
      " [pydrad.configure.util]\n"
     ]
    },
    {
     "name": "stderr",
     "output_type": "stream",
     "text": [
      "WARNING: ../source/mesh.cpp:203:5: warning: 'sprintf' is deprecated: This function is provided for compatibility reasons only.  Due to security concerns inherent in the design of sprintf(3), it is highly recommended that you use snprintf(3) instead. [-Wdeprecated-declarations]\n",
      "    sprintf( szIonFilename, \"Results/profile%i.ine\", iFileNumber );\n",
      "    ^\n",
      "/Library/Developer/CommandLineTools/SDKs/MacOSX.sdk/usr/include/stdio.h:180:1: note: 'sprintf' has been explicitly marked deprecated here\n",
      "__deprecated_msg(\"This function is provided for compatibility reasons only.  Due to security concerns inherent in the design of sprintf(3), it is highly recommended that you use snprintf(3) instead.\")\n",
      "^\n",
      "/Library/Developer/CommandLineTools/SDKs/MacOSX.sdk/usr/include/sys/cdefs.h:215:48: note: expanded from macro '__deprecated_msg'\n",
      "        #define __deprecated_msg(_msg) __attribute__((__deprecated__(_msg)))\n",
      "                                                      ^\n",
      "../source/mesh.cpp:1866:1: warning: 'sprintf' is deprecated: This function is provided for compatibility reasons only.  Due to security concerns inherent in the design of sprintf(3), it is highly recommended that you use snprintf(3) instead. [-Wdeprecated-declarations]\n",
      "sprintf( szPhysicalFilename, \"Results/profile%i.phy\", iFileNumber );\n",
      "^\n",
      "/Library/Developer/CommandLineTools/SDKs/MacOSX.sdk/usr/include/stdio.h:180:1: note: 'sprintf' has been explicitly marked deprecated here\n",
      "__deprecated_msg(\"This function is provided for compatibility reasons only.  Due to security concerns inherent in the design of sprintf(3), it is highly recommended that you use snprintf(3) instead.\")\n",
      "^\n",
      "/Library/Developer/CommandLineTools/SDKs/MacOSX.sdk/usr/include/sys/cdefs.h:215:48: note: expanded from macro '__deprecated_msg'\n",
      "        #define __deprecated_msg(_msg) __attribute__((__deprecated__(_msg)))\n",
      "                                                      ^\n",
      "../source/mesh.cpp:1874:1: warning: 'sprintf' is deprecated: This function is provided for compatibility reasons only.  Due to security concerns inherent in the design of sprintf(3), it is highly recommended that you use snprintf(3) instead. [-Wdeprecated-declarations]\n",
      "sprintf( szNEqIonFilename, \"Results/profile%i.ine\", iFileNumber );\n",
      "^\n",
      "/Library/Developer/CommandLineTools/SDKs/MacOSX.sdk/usr/include/stdio.h:180:1: note: 'sprintf' has been explicitly marked deprecated here\n",
      "__deprecated_msg(\"This function is provided for compatibility reasons only.  Due to security concerns inherent in the design of sprintf(3), it is highly recommended that you use snprintf(3) instead.\")\n",
      "^\n",
      "/Library/Developer/CommandLineTools/SDKs/MacOSX.sdk/usr/include/sys/cdefs.h:215:48: note: expanded from macro '__deprecated_msg'\n",
      "        #define __deprecated_msg(_msg) __attribute__((__deprecated__(_msg)))\n",
      "                                                      ^\n",
      "../source/mesh.cpp:1882:1: warning: 'sprintf' is deprecated: This function is provided for compatibility reasons only.  Due to security concerns inherent in the design of sprintf(3), it is highly recommended that you use snprintf(3) instead. [-Wdeprecated-declarations]\n",
      "sprintf( szScaleFilename, \"Results/profile%i.scl\", iFileNumber );\n",
      "^\n",
      "/Library/Developer/CommandLineTools/SDKs/MacOSX.sdk/usr/include/stdio.h:180:1: note: 'sprintf' has been explicitly marked deprecated here\n",
      "__deprecated_msg(\"This function is provided for compatibility reasons only.  Due to security concerns inherent in the design of sprintf(3), it is highly recommended that you use snprintf(3) instead.\")\n",
      "^\n",
      "/Library/Developer/CommandLineTools/SDKs/MacOSX.sdk/usr/include/sys/cdefs.h:215:48: note: expanded from macro '__deprecated_msg'\n",
      "        #define __deprecated_msg(_msg) __attribute__((__deprecated__(_msg)))\n",
      "                                                      ^\n",
      "../source/mesh.cpp:1890:1: warning: 'sprintf' is deprecated: This function is provided for compatibility reasons only.  Due to security concerns inherent in the design of sprintf(3), it is highly recommended that you use snprintf(3) instead. [-Wdeprecated-declarations]\n",
      "sprintf( szTermsFilename, \"Results/profile%i.trm\", iFileNumber );\n",
      "^\n",
      "/Library/Developer/CommandLineTools/SDKs/MacOSX.sdk/usr/include/stdio.h:180:1: note: 'sprintf' has been explicitly marked deprecated here\n",
      "__deprecated_msg(\"This function is provided for compatibility reasons only.  Due to security concerns inherent in the design of sprintf(3), it is highly recommended that you use snprintf(3) instead.\")\n",
      "^\n",
      "/Library/Developer/CommandLineTools/SDKs/MacOSX.sdk/usr/include/sys/cdefs.h:215:48: note: expanded from macro '__deprecated_msg'\n",
      "        #define __deprecated_msg(_msg) __attribute__((__deprecated__(_msg)))\n",
      "                                                      ^\n",
      "../source/mesh.cpp:2030:1: warning: 'sprintf' is deprecated: This function is provided for compatibility reasons only.  Due to security concerns inherent in the design of sprintf(3), it is highly recommended that you use snprintf(3) instead. [-Wdeprecated-declarations]\n",
      "sprintf( szAMRFilename, \"Results/profile%i.amr\", iFileNumber );\n",
      "^\n",
      "/Library/Developer/CommandLineTools/SDKs/MacOSX.sdk/usr/include/stdio.h:180:1: note: 'sprintf' has been explicitly marked deprecated here\n",
      "__deprecated_msg(\"This function is provided for compatibility reasons only.  Due to security concerns inherent in the design of sprintf(3), it is highly recommended that you use snprintf(3) instead.\")\n",
      "^\n",
      "/Library/Developer/CommandLineTools/SDKs/MacOSX.sdk/usr/include/sys/cdefs.h:215:48: note: expanded from macro '__deprecated_msg'\n",
      "        #define __deprecated_msg(_msg) __attribute__((__deprecated__(_msg)))\n",
      "                                                      ^\n",
      "6 warnings generated.\n",
      "../../Radiation_Model/source/radiation.cpp:93:1: warning: 'sprintf' is deprecated: This function is provided for compatibility reasons only.  Due to security concerns inherent in the design of sprintf(3), it is highly recommended that you use snprintf(3) instead. [-Wdeprecated-declarations]\n",
      "sprintf( szRangesFilename, \"Radiation_Model/atomic_data/ranges/%s.rng\", buffer1 );\n",
      "^\n",
      "/Library/Developer/CommandLineTools/SDKs/MacOSX.sdk/usr/include/stdio.h:180:1: note: 'sprintf' has been explicitly marked deprecated here\n",
      "__deprecated_msg(\"This function is provided for compatibility reasons only.  Due to security concerns inherent in the design of sprintf(3), it is highly recommended that you use snprintf(3) instead.\")\n",
      "^\n",
      "/Library/Developer/CommandLineTools/SDKs/MacOSX.sdk/usr/include/sys/cdefs.h:215:48: note: expanded from macro '__deprecated_msg'\n",
      "        #define __deprecated_msg(_msg) __attribute__((__deprecated__(_msg)))\n",
      "                                                      ^\n",
      "../../Radiation_Model/source/radiation.cpp:100:1: warning: 'sprintf' is deprecated: This function is provided for compatibility reasons only.  Due to security concerns inherent in the design of sprintf(3), it is highly recommended that you use snprintf(3) instead. [-Wdeprecated-declarations]\n",
      "sprintf( szAbundFilename, \"Radiation_Model/atomic_data/abundances/%s.ab\", buffer3 );\n",
      "^\n",
      "/Library/Developer/CommandLineTools/SDKs/MacOSX.sdk/usr/include/stdio.h:180:1: note: 'sprintf' has been explicitly marked deprecated here\n",
      "__deprecated_msg(\"This function is provided for compatibility reasons only.  Due to security concerns inherent in the design of sprintf(3), it is highly recommended that you use snprintf(3) instead.\")\n",
      "^\n",
      "/Library/Developer/CommandLineTools/SDKs/MacOSX.sdk/usr/include/sys/cdefs.h:215:48: note: expanded from macro '__deprecated_msg'\n",
      "        #define __deprecated_msg(_msg) __attribute__((__deprecated__(_msg)))\n",
      "                                                      ^\n",
      "../../Radiation_Model/source/radiation.cpp:123:5: warning: 'sprintf' is deprecated: This function is provided for compatibility reasons only.  Due to security concerns inherent in the design of sprintf(3), it is highly recommended that you use snprintf(3) instead. [-Wdeprecated-declarations]\n",
      "    sprintf( szEmissFilename, \"Radiation_Model/atomic_data/emissivities/%s/%s.em\", buffer2, buffer1 );\n",
      "    ^\n",
      "/Library/Developer/CommandLineTools/SDKs/MacOSX.sdk/usr/include/stdio.h:180:1: note: 'sprintf' has been explicitly marked deprecated here\n",
      "__deprecated_msg(\"This function is provided for compatibility reasons only.  Due to security concerns inherent in the design of sprintf(3), it is highly recommended that you use snprintf(3) instead.\")\n",
      "^\n",
      "/Library/Developer/CommandLineTools/SDKs/MacOSX.sdk/usr/include/sys/cdefs.h:215:48: note: expanded from macro '__deprecated_msg'\n",
      "        #define __deprecated_msg(_msg) __attribute__((__deprecated__(_msg)))\n",
      "                                                      ^\n",
      "../../Radiation_Model/source/radiation.cpp:124:5: warning: 'sprintf' is deprecated: This function is provided for compatibility reasons only.  Due to security concerns inherent in the design of sprintf(3), it is highly recommended that you use snprintf(3) instead. [-Wdeprecated-declarations]\n",
      "    sprintf( szRatesFilename, \"Radiation_Model/atomic_data/rates/%s/%s.rts\", buffer4, buffer1 );\n",
      "    ^\n",
      "/Library/Developer/CommandLineTools/SDKs/MacOSX.sdk/usr/include/stdio.h:180:1: note: 'sprintf' has been explicitly marked deprecated here\n",
      "__deprecated_msg(\"This function is provided for compatibility reasons only.  Due to security concerns inherent in the design of sprintf(3), it is highly recommended that you use snprintf(3) instead.\")\n",
      "^\n",
      "/Library/Developer/CommandLineTools/SDKs/MacOSX.sdk/usr/include/sys/cdefs.h:215:48: note: expanded from macro '__deprecated_msg'\n",
      "        #define __deprecated_msg(_msg) __attribute__((__deprecated__(_msg)))\n",
      "                                                      ^\n",
      "../../Radiation_Model/source/radiation.cpp:125:5: warning: 'sprintf' is deprecated: This function is provided for compatibility reasons only.  Due to security concerns inherent in the design of sprintf(3), it is highly recommended that you use snprintf(3) instead. [-Wdeprecated-declarations]\n",
      "    sprintf( szIonFracFilename, \"Radiation_Model/atomic_data/balances/%s/%s.bal\", buffer4, buffer1 );\n",
      "    ^\n",
      "/Library/Developer/CommandLineTools/SDKs/MacOSX.sdk/usr/include/stdio.h:180:1: note: 'sprintf' has been explicitly marked deprecated here\n",
      "__deprecated_msg(\"This function is provided for compatibility reasons only.  Due to security concerns inherent in the design of sprintf(3), it is highly recommended that you use snprintf(3) instead.\")\n",
      "^\n",
      "/Library/Developer/CommandLineTools/SDKs/MacOSX.sdk/usr/include/sys/cdefs.h:215:48: note: expanded from macro '__deprecated_msg'\n",
      "        #define __deprecated_msg(_msg) __attribute__((__deprecated__(_msg)))\n",
      "                                                      ^\n",
      "5 warnings generated.\n",
      " [pydrad.configure.util]\n",
      "WARNING: UnitsWarning: The unit 'erg' has been deprecated in the VOUnit standard. Suggested: cm**2.g.s**-2. [astropy.units.format.utils]\n",
      "WARNING: UnitsWarning: The unit 'erg' has been deprecated in the VOUnit standard. Suggested: cm**2.g.s**-2. [astropy.units.format.utils]\n",
      "WARNING: UnitsWarning: The unit 'erg' has been deprecated in the VOUnit standard. Suggested: cm**2.g.s**-2. [astropy.units.format.utils]\n",
      "WARNING: UnitsWarning: The unit 'erg' has been deprecated in the VOUnit standard. Suggested: cm**2.g.s**-2. [astropy.units.format.utils]\n"
     ]
    }
   ],
   "source": [
    "test_config = {\n",
    "    'general': {\n",
    "        'footpoint_height': 5.e+08*u.cm,\n",
    "        'loop_inclination': 0.*u.deg,\n",
    "        'force_single_fluid': False,\n",
    "        'heat_flux_timestep_limit':  1.e-10*u.s,\n",
    "        'logging_frequency': 1000,\n",
    "        'minimum_collisional_coupling_timescale':  0.01*u.s,\n",
    "        'output_interval':  1.*u.s,\n",
    "        'heat_flux_limiting_coefficient': 0.167,\n",
    "        'use_kinetic_model': False,\n",
    "        'write_file_equation_terms': True,\n",
    "        'write_file_hydrogen_level_populations': True,\n",
    "        'write_file_ion_populations': True,\n",
    "        'write_file_physical': True,\n",
    "        'write_file_timescales': True,\n",
    "        'loop_length':  90.*u.Mm,\n",
    "        'total_time':  2.*u.s,\n",
    "    },\n",
    "    'grid': {\n",
    "        'adapt': True,\n",
    "        'adapt_every_n_time_steps': 1000,\n",
    "        'enforce_conservation': True,\n",
    "        'linear_restriction': True,\n",
    "        'maximum_cell_width':  0.5*u.Mm,\n",
    "        'maximum_fractional_difference': 0.1,\n",
    "        'maximum_refinement_level': 12,\n",
    "        'initial_refinement_level': 10,\n",
    "        'maximum_variation': 0.1,\n",
    "        'minimum_delta_s':  1.*u.cm,\n",
    "        'minimum_fractional_difference': 0.05,\n",
    "        'refine_on_density': True,\n",
    "        'refine_on_electron_energy': True,\n",
    "        'refine_on_hydrogen_energy': True,\n",
    "    },\n",
    "    'heating': {\n",
    "        'alfven_wave': False,\n",
    "        'background': {'use_initial_conditions': True},\n",
    "        'beam': False,\n",
    "        'events': [],\n",
    "        'electron_heating': 1.0,\n",
    "    },\n",
    "    'initial_conditions': {\n",
    "        'footpoint_density':  1.e+12*u.cm**(-3),\n",
    "        'footpoint_temperature':  10000.*u.K,\n",
    "        'heating_range_fine_tuning': 10000.0,\n",
    "        'heating_range_lower_bound':  1.e-08*u.erg / (u.cm**3*u.s),\n",
    "        'heating_range_step_size': 0.01,\n",
    "        'heating_range_upper_bound':  100.*u.erg / (u.cm**3*u.s),\n",
    "        'isothermal': False,\n",
    "        'use_poly_fit_gravity': False,\n",
    "        'use_poly_fit_magnetic_field': False,\n",
    "        'heating_location':  45.*u.Mm,\n",
    "        'heating_scale_height':  1.e+300*u.cm\n",
    "    },\n",
    "    'radiation': {\n",
    "        'abundance_dataset': 'asplund',\n",
    "        'decouple_ionization_state_solver': True,\n",
    "        'density_dependent_rates': False,\n",
    "        'elements_equilibrium': [],\n",
    "        'elements_nonequilibrium': ['O','Mg','Si'],\n",
    "        'emissivity_dataset': 'chianti_v7',\n",
    "        'nlte_chromosphere': False,\n",
    "        'optically_thick_radiation': False,\n",
    "        'ranges_dataset': 'ranges',\n",
    "        'rates_dataset': 'chianti_v7',\n",
    "        'use_power_law_radiative_losses': True\n",
    "    },\n",
    "    'solver': {\n",
    "        'cutoff_ion_fraction': 1e-15,\n",
    "        'epsilon': 0.01,\n",
    "        'epsilon_d': 0.1,\n",
    "        'epsilon_r': 1.8649415311920072,\n",
    "        'maximum_optically_thin_density': 1.e+12*u.cm**(-3),\n",
    "        'minimum_radiation_temperature':  20000.*u.K,\n",
    "        'minimum_temperature':  10000.*u.K,\n",
    "        'safety_advection': 1.0,\n",
    "        'safety_atomic': 1.0,\n",
    "        'safety_conduction': 1.0,\n",
    "        'safety_radiation': 0.1,\n",
    "        'safety_viscosity': 1.0,\n",
    "        'timestep_increase_limit': 0.05,\n",
    "        'zero_over_temperature_interval':  500.*u.K,\n",
    "    }\n",
    "}\n",
    "conf = pydrad.configure.Configure(test_config)\n",
    "conf.setup_simulation('hydrad-parsing-testing', 'hydrad-clean/', overwrite=True)"
   ]
  },
  {
   "cell_type": "code",
   "execution_count": 62,
   "id": "04481150-82a6-4441-a0a3-b445fdcf4cb2",
   "metadata": {},
   "outputs": [],
   "source": [
    "from pandas import read_csv\n",
    "units = {\n",
    "    'mass': 'g cm-3 s-1',\n",
    "    'momentum': 'dyne cm-3 s-1',\n",
    "    'electron': 'erg cm-3 s-1',\n",
    "    'hydrogen': 'erg cm-3 s-1',\n",
    "}\n",
    "columns = {\n",
    "    'mass': [\n",
    "        'mass_drhobydt',\n",
    "        'mass_advection',\n",
    "    ],\n",
    "    'momentum': [\n",
    "        'momentum_drho_vbydt',\n",
    "        'momentum_advection',\n",
    "        'momentum_pressure_gradient',\n",
    "        'momentum_gravity',\n",
    "        'momentum_viscous_stress',\n",
    "        'momentum_numerical_viscosity',\n",
    "    ],\n",
    "    'electron': [\n",
    "        'electron_dTEKEbydt',\n",
    "        'electron_enthalpy',\n",
    "        'electron_conduction',\n",
    "        'electron_gravity',\n",
    "        'electron_collisions',\n",
    "        'electron_heating',\n",
    "        'electron_radiative_loss',\n",
    "        'electron_electric_field',\n",
    "        'electron_viscous_stress',\n",
    "        'electron_numerical_viscosity',\n",
    "        'electron_ionization'\n",
    "    ],\n",
    "    'hydrogen': [\n",
    "        'hydrogen_dTEKEbydt',\n",
    "        'hydrogen_enthalpy',\n",
    "        'hydrogen_conduction',\n",
    "        'hydrogen_gravity',\n",
    "        'hydrogen_collisions',\n",
    "        'hydrogen_heating',\n",
    "        'hydrogen_radiative_loss',\n",
    "        'hydrogen_electric_field',\n",
    "        'hydrogen_viscous_stress',\n",
    "        'hydrogen_numerical_viscosity',\n",
    "        'hydrogen_ionization',\n",
    "    ]\n",
    "}\n",
    "tables = []\n",
    "for i,(k,v) in enumerate(columns.items()):\n",
    "    df = read_csv('hydrad-parsing-testing/Results/profile0.trm',\n",
    "                  sep='\\t',\n",
    "                  header=None,\n",
    "                  names=v,\n",
    "                  skiprows=lambda x: x % 5 != (i+1))\n",
    "    tables.append(astropy.table.QTable.from_pandas(df, units={c: units[k]  for c in df.columns}))\n",
    "trm_tab = astropy.table.hstack(tables)"
   ]
  },
  {
   "cell_type": "code",
   "execution_count": 89,
   "id": "0ab62db0-5a96-49a1-8712-b813d6679259",
   "metadata": {},
   "outputs": [],
   "source": [
    "foo_amr = astropy.table.QTable.read('hydrad-parsing-testing/Results/profile0.amr',\n",
    "                                    format='ascii',\n",
    "                                    data_start=4,\n",
    "                                    names=['grid_centers']+[f'col{i}' for i in range(1,19)],\n",
    "                                    #guess=False,\n",
    "                                   )"
   ]
  },
  {
   "cell_type": "code",
   "execution_count": 90,
   "id": "eb727653-a331-4d9e-9153-0051680d42e7",
   "metadata": {},
   "outputs": [
    {
     "data": {
      "text/html": [
       "<div><i>QTable length=617</i>\n",
       "<table id=\"table6272018064\" class=\"table-striped table-bordered table-condensed\">\n",
       "<thead><tr><th>grid_centers</th><th>col1</th><th>col2</th><th>col3</th><th>col4</th><th>col5</th><th>col6</th><th>col7</th><th>col8</th><th>col9</th><th>col10</th><th>col11</th><th>col12</th><th>col13</th><th>col14</th><th>col15</th><th>col16</th><th>col17</th><th>col18</th></tr></thead>\n",
       "<thead><tr><th>float64</th><th>float64</th><th>float64</th><th>float64</th><th>float64</th><th>float64</th><th>int64</th><th>int64</th><th>int64</th><th>int64</th><th>int64</th><th>int64</th><th>int64</th><th>int64</th><th>int64</th><th>int64</th><th>int64</th><th>int64</th><th>int64</th></tr></thead>\n",
       "<tr><td>1562500.0</td><td>3125000.0</td><td>8.738008403898667e-08</td><td>0.0</td><td>83314.9580657312</td><td>83314.9580657312</td><td>4</td><td>0</td><td>180</td><td>540</td><td>1260</td><td>0</td><td>0</td><td>0</td><td>0</td><td>0</td><td>0</td><td>0</td><td>0</td></tr>\n",
       "<tr><td>4687500.0</td><td>3125000.0</td><td>8.169649409211103e-08</td><td>0.0</td><td>77895.78202241816</td><td>77895.78202241816</td><td>4</td><td>0</td><td>180</td><td>540</td><td>1260</td><td>0</td><td>0</td><td>0</td><td>0</td><td>0</td><td>0</td><td>0</td><td>0</td></tr>\n",
       "<tr><td>7812500.0</td><td>3125000.0</td><td>7.638199260113276e-08</td><td>0.0</td><td>72828.52357639097</td><td>72828.52357639097</td><td>4</td><td>0</td><td>180</td><td>540</td><td>1261</td><td>0</td><td>0</td><td>0</td><td>0</td><td>0</td><td>0</td><td>0</td><td>0</td></tr>\n",
       "<tr><td>10937500.0</td><td>3125000.0</td><td>7.141362890433716e-08</td><td>0.0</td><td>68091.29978442096</td><td>68091.29978442096</td><td>4</td><td>0</td><td>180</td><td>540</td><td>1261</td><td>0</td><td>0</td><td>0</td><td>0</td><td>0</td><td>0</td><td>0</td><td>0</td></tr>\n",
       "<tr><td>14062500.0</td><td>3125000.0</td><td>6.676883699108881e-08</td><td>0.0</td><td>63662.59445949049</td><td>63662.59445949049</td><td>4</td><td>0</td><td>180</td><td>541</td><td>1262</td><td>0</td><td>0</td><td>0</td><td>0</td><td>0</td><td>0</td><td>0</td><td>0</td></tr>\n",
       "<tr><td>17187500.0</td><td>3125000.0</td><td>6.242652306868728e-08</td><td>0.0</td><td>59522.29514149363</td><td>59522.29514149363</td><td>4</td><td>0</td><td>180</td><td>541</td><td>1262</td><td>0</td><td>0</td><td>0</td><td>0</td><td>0</td><td>0</td><td>0</td><td>0</td></tr>\n",
       "<tr><td>20312500.0</td><td>3125000.0</td><td>5.836696947146007e-08</td><td>0.0</td><td>55651.601476703065</td><td>55651.601476703065</td><td>4</td><td>0</td><td>180</td><td>541</td><td>1263</td><td>0</td><td>0</td><td>0</td><td>0</td><td>0</td><td>0</td><td>0</td><td>0</td></tr>\n",
       "<tr><td>23437500.0</td><td>3125000.0</td><td>5.457174483796579e-08</td><td>0.0</td><td>52032.93957373984</td><td>52032.93957373984</td><td>4</td><td>0</td><td>180</td><td>541</td><td>1263</td><td>0</td><td>0</td><td>0</td><td>0</td><td>0</td><td>0</td><td>0</td><td>0</td></tr>\n",
       "<tr><td>26562500.0</td><td>3125000.0</td><td>5.102362015514713e-08</td><td>0.0</td><td>48649.881953548866</td><td>48649.881953548866</td><td>4</td><td>0</td><td>181</td><td>542</td><td>1264</td><td>0</td><td>0</td><td>0</td><td>0</td><td>0</td><td>0</td><td>0</td><td>0</td></tr>\n",
       "<tr><td>29687500.0</td><td>3125000.0</td><td>4.770649028565306e-08</td><td>0.0</td><td>45487.07272745363</td><td>45487.07272745363</td><td>4</td><td>0</td><td>181</td><td>542</td><td>1264</td><td>0</td><td>0</td><td>0</td><td>0</td><td>0</td><td>0</td><td>0</td><td>0</td></tr>\n",
       "<tr><td>32812500.0</td><td>3125000.0</td><td>4.4605300613917533e-08</td><td>0.0</td><td>42530.15765583109</td><td>42530.15765583109</td><td>4</td><td>0</td><td>181</td><td>542</td><td>1265</td><td>0</td><td>0</td><td>0</td><td>0</td><td>0</td><td>0</td><td>0</td><td>0</td></tr>\n",
       "<tr><td>35937500.0</td><td>3125000.0</td><td>4.170597848366626e-08</td><td>0.0</td><td>39765.71877530592</td><td>39765.71877530592</td><td>4</td><td>0</td><td>181</td><td>542</td><td>1265</td><td>0</td><td>0</td><td>0</td><td>0</td><td>0</td><td>0</td><td>0</td><td>0</td></tr>\n",
       "<tr><td>39062500.0</td><td>3125000.0</td><td>3.899536911307563e-08</td><td>0.0</td><td>37181.2132952863</td><td>37181.2132952863</td><td>4</td><td>0</td><td>181</td><td>543</td><td>1266</td><td>0</td><td>0</td><td>0</td><td>0</td><td>0</td><td>0</td><td>0</td><td>0</td></tr>\n",
       "<tr><td>42187500.0</td><td>3125000.0</td><td>3.6461175690163594e-08</td><td>0.0</td><td>34764.91648025732</td><td>34764.91648025732</td><td>4</td><td>0</td><td>181</td><td>543</td><td>1266</td><td>0</td><td>0</td><td>0</td><td>0</td><td>0</td><td>0</td><td>0</td><td>0</td></tr>\n",
       "<tr><td>45312500.0</td><td>3125000.0</td><td>3.409190338114221e-08</td><td>0.0</td><td>32505.86826299603</td><td>32505.86826299603</td><td>4</td><td>0</td><td>181</td><td>543</td><td>1267</td><td>0</td><td>0</td><td>0</td><td>0</td><td>0</td><td>0</td><td>0</td><td>0</td></tr>\n",
       "<tr><td>48437500.0</td><td>3125000.0</td><td>3.18768069952637e-08</td><td>0.0</td><td>30393.823344171284</td><td>30393.823344171284</td><td>4</td><td>0</td><td>181</td><td>543</td><td>1267</td><td>0</td><td>0</td><td>0</td><td>0</td><td>0</td><td>0</td><td>0</td><td>0</td></tr>\n",
       "<tr><td>51562500.0</td><td>3125000.0</td><td>2.980584206348323e-08</td><td>0.0</td><td>28419.20454694164</td><td>28419.20454694164</td><td>4</td><td>1</td><td>182</td><td>544</td><td>1268</td><td>0</td><td>0</td><td>0</td><td>0</td><td>0</td><td>0</td><td>0</td><td>0</td></tr>\n",
       "<tr><td>54687500.0</td><td>3125000.0</td><td>2.7869619112581487e-08</td><td>0.0</td><td>26573.059218352686</td><td>26573.059218352686</td><td>4</td><td>1</td><td>182</td><td>544</td><td>1268</td><td>0</td><td>0</td><td>0</td><td>0</td><td>0</td><td>0</td><td>0</td><td>0</td></tr>\n",
       "<tr><td>57812500.0</td><td>3125000.0</td><td>2.6059360925248278e-08</td><td>0.0</td><td>24847.018477781643</td><td>24847.018477781643</td><td>4</td><td>1</td><td>182</td><td>544</td><td>1269</td><td>0</td><td>0</td><td>0</td><td>0</td><td>0</td><td>0</td><td>0</td><td>0</td></tr>\n",
       "<tr><td>60937500.0</td><td>3125000.0</td><td>2.436686258801915e-08</td><td>0.0</td><td>23233.25912353738</td><td>23233.25912353738</td><td>4</td><td>1</td><td>182</td><td>544</td><td>1269</td><td>0</td><td>0</td><td>0</td><td>0</td><td>0</td><td>0</td><td>0</td><td>0</td></tr>\n",
       "<tr><td>64062500.0</td><td>3125000.0</td><td>2.278445414878354e-08</td><td>0.0</td><td>21724.46802762871</td><td>21724.46802762871</td><td>4</td><td>1</td><td>182</td><td>545</td><td>1270</td><td>0</td><td>0</td><td>0</td><td>0</td><td>0</td><td>0</td><td>0</td><td>0</td></tr>\n",
       "<tr><td>67187500.0</td><td>3125000.0</td><td>2.1304965712608954e-08</td><td>0.0</td><td>20313.808855412502</td><td>20313.808855412502</td><td>4</td><td>1</td><td>182</td><td>545</td><td>1270</td><td>0</td><td>0</td><td>0</td><td>0</td><td>0</td><td>0</td><td>0</td><td>0</td></tr>\n",
       "<tr><td>70312500.0</td><td>3125000.0</td><td>1.9921694814275612e-08</td><td>0.0</td><td>18994.890956034327</td><td>18994.890956034327</td><td>4</td><td>1</td><td>182</td><td>545</td><td>1271</td><td>0</td><td>0</td><td>0</td><td>0</td><td>0</td><td>0</td><td>0</td><td>0</td></tr>\n",
       "<tr><td>73437500.0</td><td>3125000.0</td><td>1.862837592186743e-08</td><td>0.0</td><td>17761.74028478378</td><td>17761.74028478378</td><td>4</td><td>1</td><td>182</td><td>545</td><td>1271</td><td>0</td><td>0</td><td>0</td><td>0</td><td>0</td><td>0</td><td>0</td><td>0</td></tr>\n",
       "<tr><td>76562500.0</td><td>3125000.0</td><td>1.7419151931520196e-08</td><td>0.0</td><td>16608.772223973658</td><td>16608.772223973658</td><td>4</td><td>1</td><td>183</td><td>546</td><td>1272</td><td>0</td><td>0</td><td>0</td><td>0</td><td>0</td><td>0</td><td>0</td><td>0</td></tr>\n",
       "<tr><td>79687500.0</td><td>3125000.0</td><td>1.6288547521400983e-08</td><td>0.0</td><td>15530.7661765546</td><td>15530.7661765546</td><td>4</td><td>1</td><td>183</td><td>546</td><td>1272</td><td>0</td><td>0</td><td>0</td><td>0</td><td>0</td><td>0</td><td>0</td><td>0</td></tr>\n",
       "<tr><td>82812500.0</td><td>3125000.0</td><td>1.5231444246014488e-08</td><td>0.0</td><td>14522.84181909258</td><td>14522.84181909258</td><td>4</td><td>1</td><td>183</td><td>546</td><td>1273</td><td>0</td><td>0</td><td>0</td><td>0</td><td>0</td><td>0</td><td>0</td><td>0</td></tr>\n",
       "<tr><td>85937500.0</td><td>3125000.0</td><td>1.424305725647775e-08</td><td>0.0</td><td>13580.436905070912</td><td>13580.436905070912</td><td>4</td><td>1</td><td>183</td><td>546</td><td>1273</td><td>0</td><td>0</td><td>0</td><td>0</td><td>0</td><td>0</td><td>0</td><td>0</td></tr>\n",
       "<tr><td>...</td><td>...</td><td>...</td><td>...</td><td>...</td><td>...</td><td>...</td><td>...</td><td>...</td><td>...</td><td>...</td><td>...</td><td>...</td><td>...</td><td>...</td><td>...</td><td>...</td><td>...</td><td>...</td></tr>\n",
       "<tr><td>8914062500.0</td><td>3125000.0</td><td>1.4243249739385876e-08</td><td>0.0</td><td>13580.620433223754</td><td>13580.620433223754</td><td>4</td><td>178</td><td>536</td><td>1253</td><td>2686</td><td>0</td><td>0</td><td>0</td><td>0</td><td>0</td><td>0</td><td>0</td><td>0</td></tr>\n",
       "<tr><td>8917187500.0</td><td>3125000.0</td><td>1.52316500906772e-08</td><td>0.0</td><td>14523.03808737992</td><td>14523.03808737992</td><td>4</td><td>178</td><td>536</td><td>1253</td><td>2686</td><td>0</td><td>0</td><td>0</td><td>0</td><td>0</td><td>0</td><td>0</td><td>0</td></tr>\n",
       "<tr><td>8920312500.0</td><td>3125000.0</td><td>1.628876765706701e-08</td><td>0.0</td><td>15530.976070994342</td><td>15530.976070994342</td><td>4</td><td>178</td><td>536</td><td>1253</td><td>2687</td><td>0</td><td>0</td><td>0</td><td>0</td><td>0</td><td>0</td><td>0</td><td>0</td></tr>\n",
       "<tr><td>8923437500.0</td><td>3125000.0</td><td>1.741938735218099e-08</td><td>0.0</td><td>16608.996692314442</td><td>16608.996692314442</td><td>4</td><td>178</td><td>536</td><td>1253</td><td>2687</td><td>0</td><td>0</td><td>0</td><td>0</td><td>0</td><td>0</td><td>0</td><td>0</td></tr>\n",
       "<tr><td>8926562500.0</td><td>3125000.0</td><td>1.8628627690806397e-08</td><td>0.0</td><td>17761.98034084258</td><td>17761.98034084258</td><td>4</td><td>178</td><td>537</td><td>1254</td><td>2688</td><td>0</td><td>0</td><td>0</td><td>0</td><td>0</td><td>0</td><td>0</td><td>0</td></tr>\n",
       "<tr><td>8929687500.0</td><td>3125000.0</td><td>1.9921964068772286e-08</td><td>0.0</td><td>18995.14768418178</td><td>18995.14768418178</td><td>4</td><td>178</td><td>537</td><td>1254</td><td>2688</td><td>0</td><td>0</td><td>0</td><td>0</td><td>0</td><td>0</td><td>0</td><td>0</td></tr>\n",
       "<tr><td>8932812500.0</td><td>3125000.0</td><td>2.1305253669216316e-08</td><td>0.0</td><td>20314.083415604688</td><td>20314.083415604688</td><td>4</td><td>178</td><td>537</td><td>1254</td><td>2689</td><td>0</td><td>0</td><td>0</td><td>0</td><td>0</td><td>0</td><td>0</td><td>0</td></tr>\n",
       "<tr><td>8935937500.0</td><td>3125000.0</td><td>2.278476210887293e-08</td><td>0.0</td><td>21724.761660694134</td><td>21724.761660694134</td><td>4</td><td>178</td><td>537</td><td>1254</td><td>2689</td><td>0</td><td>0</td><td>0</td><td>0</td><td>0</td><td>0</td><td>0</td><td>0</td></tr>\n",
       "<tr><td>8939062500.0</td><td>3125000.0</td><td>2.436719194354343e-08</td><td>0.0</td><td>23233.573156671995</td><td>23233.573156671995</td><td>4</td><td>178</td><td>537</td><td>1255</td><td>2690</td><td>0</td><td>0</td><td>0</td><td>0</td><td>0</td><td>0</td><td>0</td><td>0</td></tr>\n",
       "<tr><td>8942187500.0</td><td>3125000.0</td><td>2.6059713165219703e-08</td><td>0.0</td><td>24847.354330725375</td><td>24847.354330725375</td><td>4</td><td>178</td><td>537</td><td>1255</td><td>2690</td><td>0</td><td>0</td><td>0</td><td>0</td><td>0</td><td>0</td><td>0</td><td>0</td></tr>\n",
       "<tr><td>8945312500.0</td><td>3125000.0</td><td>2.7869995829840226e-08</td><td>0.0</td><td>26573.418409843056</td><td>26573.418409843056</td><td>4</td><td>178</td><td>537</td><td>1255</td><td>2691</td><td>0</td><td>0</td><td>0</td><td>0</td><td>0</td><td>0</td><td>0</td><td>0</td></tr>\n",
       "<tr><td>8948437500.0</td><td>3125000.0</td><td>2.980624496176037e-08</td><td>0.0</td><td>28419.588701448167</td><td>28419.588701448167</td><td>4</td><td>178</td><td>537</td><td>1255</td><td>2691</td><td>0</td><td>0</td><td>0</td><td>0</td><td>0</td><td>0</td><td>0</td><td>0</td></tr>\n",
       "<tr><td>8951562500.0</td><td>3125000.0</td><td>3.1877237897135146e-08</td><td>0.0</td><td>30394.234199479393</td><td>30394.234199479393</td><td>4</td><td>179</td><td>538</td><td>1256</td><td>2692</td><td>0</td><td>0</td><td>0</td><td>0</td><td>0</td><td>0</td><td>0</td><td>0</td></tr>\n",
       "<tr><td>8954687500.0</td><td>3125000.0</td><td>3.409236423628015e-08</td><td>0.0</td><td>32506.307678074576</td><td>32506.307678074576</td><td>4</td><td>179</td><td>538</td><td>1256</td><td>2692</td><td>0</td><td>0</td><td>0</td><td>0</td><td>0</td><td>0</td><td>0</td><td>0</td></tr>\n",
       "<tr><td>8957812500.0</td><td>3125000.0</td><td>3.6461668583994806e-08</td><td>0.0</td><td>34765.386443514166</td><td>34765.386443514166</td><td>4</td><td>179</td><td>538</td><td>1256</td><td>2693</td><td>0</td><td>0</td><td>0</td><td>0</td><td>0</td><td>0</td><td>0</td><td>0</td></tr>\n",
       "<tr><td>8960937500.0</td><td>3125000.0</td><td>3.899589627655219e-08</td><td>0.0</td><td>37181.7159338844</td><td>37181.7159338844</td><td>4</td><td>179</td><td>538</td><td>1256</td><td>2693</td><td>0</td><td>0</td><td>0</td><td>0</td><td>0</td><td>0</td><td>0</td><td>0</td></tr>\n",
       "<tr><td>8964062500.0</td><td>3125000.0</td><td>4.170654230333666e-08</td><td>0.0</td><td>39766.256364765955</td><td>39766.256364765955</td><td>4</td><td>179</td><td>538</td><td>1257</td><td>2694</td><td>0</td><td>0</td><td>0</td><td>0</td><td>0</td><td>0</td><td>0</td><td>0</td></tr>\n",
       "<tr><td>8967187500.0</td><td>3125000.0</td><td>4.4605903642513614e-08</td><td>0.0</td><td>42530.732630125836</td><td>42530.732630125836</td><td>4</td><td>179</td><td>538</td><td>1257</td><td>2694</td><td>0</td><td>0</td><td>0</td><td>0</td><td>0</td><td>0</td><td>0</td><td>0</td></tr>\n",
       "<tr><td>8970312500.0</td><td>3125000.0</td><td>4.770713525411648e-08</td><td>0.0</td><td>45487.68769047495</td><td>45487.68769047495</td><td>4</td><td>179</td><td>538</td><td>1257</td><td>2695</td><td>0</td><td>0</td><td>0</td><td>0</td><td>0</td><td>0</td><td>0</td><td>0</td></tr>\n",
       "<tr><td>8973437500.0</td><td>3125000.0</td><td>5.1024309984895543e-08</td><td>0.0</td><td>48650.53969080321</td><td>48650.53969080321</td><td>4</td><td>179</td><td>538</td><td>1257</td><td>2695</td><td>0</td><td>0</td><td>0</td><td>0</td><td>0</td><td>0</td><td>0</td><td>0</td></tr>\n",
       "<tr><td>8976562500.0</td><td>3125000.0</td><td>5.457248265388321e-08</td><td>0.0</td><td>52033.643064734344</td><td>52033.643064734344</td><td>4</td><td>179</td><td>539</td><td>1258</td><td>2696</td><td>0</td><td>0</td><td>0</td><td>0</td><td>0</td><td>0</td><td>0</td><td>0</td></tr>\n",
       "<tr><td>8979687500.0</td><td>3125000.0</td><td>5.8367758616645113e-08</td><td>0.0</td><td>55652.35390900755</td><td>55652.35390900755</td><td>4</td><td>179</td><td>539</td><td>1258</td><td>2696</td><td>0</td><td>0</td><td>0</td><td>0</td><td>0</td><td>0</td><td>0</td><td>0</td></tr>\n",
       "<tr><td>8982812500.0</td><td>3125000.0</td><td>6.242736711943897e-08</td><td>0.0</td><td>59523.099925029324</td><td>59523.099925029324</td><td>4</td><td>179</td><td>539</td><td>1258</td><td>2697</td><td>0</td><td>0</td><td>0</td><td>0</td><td>0</td><td>0</td><td>0</td><td>0</td></tr>\n",
       "<tr><td>8985937500.0</td><td>3125000.0</td><td>6.676973977281309e-08</td><td>0.0</td><td>63663.45524169651</td><td>63663.45524169651</td><td>4</td><td>179</td><td>539</td><td>1258</td><td>2697</td><td>0</td><td>0</td><td>0</td><td>0</td><td>0</td><td>0</td><td>0</td><td>0</td></tr>\n",
       "<tr><td>8989062500.0</td><td>3125000.0</td><td>7.141459450963441e-08</td><td>0.0</td><td>68092.22046750034</td><td>68092.22046750034</td><td>4</td><td>179</td><td>539</td><td>1259</td><td>2698</td><td>0</td><td>0</td><td>0</td><td>0</td><td>0</td><td>0</td><td>0</td><td>0</td></tr>\n",
       "<tr><td>8992187500.0</td><td>3125000.0</td><td>7.638302540815148e-08</td><td>0.0</td><td>72829.5083348105</td><td>72829.5083348105</td><td>4</td><td>179</td><td>539</td><td>1259</td><td>2698</td><td>0</td><td>0</td><td>0</td><td>0</td><td>0</td><td>0</td><td>0</td><td>0</td></tr>\n",
       "<tr><td>8995312500.0</td><td>3125000.0</td><td>8.169759878396697e-08</td><td>0.0</td><td>77896.83532142406</td><td>77896.83532142406</td><td>4</td><td>179</td><td>539</td><td>1259</td><td>2699</td><td>0</td><td>0</td><td>0</td><td>0</td><td>0</td><td>0</td><td>0</td><td>0</td></tr>\n",
       "<tr><td>8998437500.0</td><td>3125000.0</td><td>8.7381081151064e-08</td><td>0.0</td><td>83315.90878982151</td><td>83315.90878982151</td><td>4</td><td>179</td><td>539</td><td>1259</td><td>2699</td><td>0</td><td>0</td><td>0</td><td>0</td><td>0</td><td>0</td><td>0</td><td>0</td></tr>\n",
       "</table></div>"
      ],
      "text/plain": [
       "<QTable length=617>\n",
       "grid_centers    col1            col2            col3         col4        ... col14 col15 col16 col17 col18\n",
       "  float64     float64         float64         float64      float64       ... int64 int64 int64 int64 int64\n",
       "------------ --------- ---------------------- ------- ------------------ ... ----- ----- ----- ----- -----\n",
       "   1562500.0 3125000.0  8.738008403898667e-08     0.0   83314.9580657312 ...     0     0     0     0     0\n",
       "   4687500.0 3125000.0  8.169649409211103e-08     0.0  77895.78202241816 ...     0     0     0     0     0\n",
       "   7812500.0 3125000.0  7.638199260113276e-08     0.0  72828.52357639097 ...     0     0     0     0     0\n",
       "  10937500.0 3125000.0  7.141362890433716e-08     0.0  68091.29978442096 ...     0     0     0     0     0\n",
       "  14062500.0 3125000.0  6.676883699108881e-08     0.0  63662.59445949049 ...     0     0     0     0     0\n",
       "  17187500.0 3125000.0  6.242652306868728e-08     0.0  59522.29514149363 ...     0     0     0     0     0\n",
       "  20312500.0 3125000.0  5.836696947146007e-08     0.0 55651.601476703065 ...     0     0     0     0     0\n",
       "  23437500.0 3125000.0  5.457174483796579e-08     0.0  52032.93957373984 ...     0     0     0     0     0\n",
       "  26562500.0 3125000.0  5.102362015514713e-08     0.0 48649.881953548866 ...     0     0     0     0     0\n",
       "  29687500.0 3125000.0  4.770649028565306e-08     0.0  45487.07272745363 ...     0     0     0     0     0\n",
       "  32812500.0 3125000.0 4.4605300613917533e-08     0.0  42530.15765583109 ...     0     0     0     0     0\n",
       "  35937500.0 3125000.0  4.170597848366626e-08     0.0  39765.71877530592 ...     0     0     0     0     0\n",
       "  39062500.0 3125000.0  3.899536911307563e-08     0.0   37181.2132952863 ...     0     0     0     0     0\n",
       "  42187500.0 3125000.0 3.6461175690163594e-08     0.0  34764.91648025732 ...     0     0     0     0     0\n",
       "  45312500.0 3125000.0  3.409190338114221e-08     0.0  32505.86826299603 ...     0     0     0     0     0\n",
       "  48437500.0 3125000.0   3.18768069952637e-08     0.0 30393.823344171284 ...     0     0     0     0     0\n",
       "  51562500.0 3125000.0  2.980584206348323e-08     0.0  28419.20454694164 ...     0     0     0     0     0\n",
       "  54687500.0 3125000.0 2.7869619112581487e-08     0.0 26573.059218352686 ...     0     0     0     0     0\n",
       "  57812500.0 3125000.0 2.6059360925248278e-08     0.0 24847.018477781643 ...     0     0     0     0     0\n",
       "  60937500.0 3125000.0  2.436686258801915e-08     0.0  23233.25912353738 ...     0     0     0     0     0\n",
       "  64062500.0 3125000.0  2.278445414878354e-08     0.0  21724.46802762871 ...     0     0     0     0     0\n",
       "  67187500.0 3125000.0 2.1304965712608954e-08     0.0 20313.808855412502 ...     0     0     0     0     0\n",
       "  70312500.0 3125000.0 1.9921694814275612e-08     0.0 18994.890956034327 ...     0     0     0     0     0\n",
       "  73437500.0 3125000.0  1.862837592186743e-08     0.0  17761.74028478378 ...     0     0     0     0     0\n",
       "  76562500.0 3125000.0 1.7419151931520196e-08     0.0 16608.772223973658 ...     0     0     0     0     0\n",
       "  79687500.0 3125000.0 1.6288547521400983e-08     0.0   15530.7661765546 ...     0     0     0     0     0\n",
       "  82812500.0 3125000.0 1.5231444246014488e-08     0.0  14522.84181909258 ...     0     0     0     0     0\n",
       "  85937500.0 3125000.0  1.424305725647775e-08     0.0 13580.436905070912 ...     0     0     0     0     0\n",
       "         ...       ...                    ...     ...                ... ...   ...   ...   ...   ...   ...\n",
       "8914062500.0 3125000.0 1.4243249739385876e-08     0.0 13580.620433223754 ...     0     0     0     0     0\n",
       "8917187500.0 3125000.0   1.52316500906772e-08     0.0  14523.03808737992 ...     0     0     0     0     0\n",
       "8920312500.0 3125000.0  1.628876765706701e-08     0.0 15530.976070994342 ...     0     0     0     0     0\n",
       "8923437500.0 3125000.0  1.741938735218099e-08     0.0 16608.996692314442 ...     0     0     0     0     0\n",
       "8926562500.0 3125000.0 1.8628627690806397e-08     0.0  17761.98034084258 ...     0     0     0     0     0\n",
       "8929687500.0 3125000.0 1.9921964068772286e-08     0.0  18995.14768418178 ...     0     0     0     0     0\n",
       "8932812500.0 3125000.0 2.1305253669216316e-08     0.0 20314.083415604688 ...     0     0     0     0     0\n",
       "8935937500.0 3125000.0  2.278476210887293e-08     0.0 21724.761660694134 ...     0     0     0     0     0\n",
       "8939062500.0 3125000.0  2.436719194354343e-08     0.0 23233.573156671995 ...     0     0     0     0     0\n",
       "8942187500.0 3125000.0 2.6059713165219703e-08     0.0 24847.354330725375 ...     0     0     0     0     0\n",
       "8945312500.0 3125000.0 2.7869995829840226e-08     0.0 26573.418409843056 ...     0     0     0     0     0\n",
       "8948437500.0 3125000.0  2.980624496176037e-08     0.0 28419.588701448167 ...     0     0     0     0     0\n",
       "8951562500.0 3125000.0 3.1877237897135146e-08     0.0 30394.234199479393 ...     0     0     0     0     0\n",
       "8954687500.0 3125000.0  3.409236423628015e-08     0.0 32506.307678074576 ...     0     0     0     0     0\n",
       "8957812500.0 3125000.0 3.6461668583994806e-08     0.0 34765.386443514166 ...     0     0     0     0     0\n",
       "8960937500.0 3125000.0  3.899589627655219e-08     0.0   37181.7159338844 ...     0     0     0     0     0\n",
       "8964062500.0 3125000.0  4.170654230333666e-08     0.0 39766.256364765955 ...     0     0     0     0     0\n",
       "8967187500.0 3125000.0 4.4605903642513614e-08     0.0 42530.732630125836 ...     0     0     0     0     0\n",
       "8970312500.0 3125000.0  4.770713525411648e-08     0.0  45487.68769047495 ...     0     0     0     0     0\n",
       "8973437500.0 3125000.0 5.1024309984895543e-08     0.0  48650.53969080321 ...     0     0     0     0     0\n",
       "8976562500.0 3125000.0  5.457248265388321e-08     0.0 52033.643064734344 ...     0     0     0     0     0\n",
       "8979687500.0 3125000.0 5.8367758616645113e-08     0.0  55652.35390900755 ...     0     0     0     0     0\n",
       "8982812500.0 3125000.0  6.242736711943897e-08     0.0 59523.099925029324 ...     0     0     0     0     0\n",
       "8985937500.0 3125000.0  6.676973977281309e-08     0.0  63663.45524169651 ...     0     0     0     0     0\n",
       "8989062500.0 3125000.0  7.141459450963441e-08     0.0  68092.22046750034 ...     0     0     0     0     0\n",
       "8992187500.0 3125000.0  7.638302540815148e-08     0.0   72829.5083348105 ...     0     0     0     0     0\n",
       "8995312500.0 3125000.0  8.169759878396697e-08     0.0  77896.83532142406 ...     0     0     0     0     0\n",
       "8998437500.0 3125000.0    8.7381081151064e-08     0.0  83315.90878982151 ...     0     0     0     0     0"
      ]
     },
     "execution_count": 90,
     "metadata": {},
     "output_type": "execute_result"
    }
   ],
   "source": [
    "foo_amr"
   ]
  },
  {
   "cell_type": "code",
   "execution_count": 54,
   "id": "bff52f56-a218-4dfe-a399-1b824342a74b",
   "metadata": {},
   "outputs": [],
   "source": [
    "import astropy.table"
   ]
  },
  {
   "cell_type": "code",
   "execution_count": 57,
   "id": "d3c85ad3-28a9-4e65-9598-2ceebad7e09b",
   "metadata": {},
   "outputs": [
    {
     "ename": "TypeError",
     "evalue": "Expected a Mapping \"column-name\" -> \"unit\"",
     "output_type": "error",
     "traceback": [
      "\u001b[0;31m---------------------------------------------------------------------------\u001b[0m",
      "\u001b[0;31mTypeError\u001b[0m                                 Traceback (most recent call last)",
      "Cell \u001b[0;32mIn[57], line 1\u001b[0m\n\u001b[0;32m----> 1\u001b[0m \u001b[43mastropy\u001b[49m\u001b[38;5;241;43m.\u001b[39;49m\u001b[43mtable\u001b[49m\u001b[38;5;241;43m.\u001b[39;49m\u001b[43mQTable\u001b[49m\u001b[38;5;241;43m.\u001b[39;49m\u001b[43mfrom_pandas\u001b[49m\u001b[43m(\u001b[49m\u001b[43mterms\u001b[49m\u001b[43m[\u001b[49m\u001b[38;5;124;43m'\u001b[39;49m\u001b[38;5;124;43mmass\u001b[39;49m\u001b[38;5;124;43m'\u001b[39;49m\u001b[43m]\u001b[49m\u001b[43m,\u001b[49m\u001b[43munits\u001b[49m\u001b[38;5;241;43m=\u001b[39;49m\u001b[38;5;124;43m'\u001b[39;49m\u001b[38;5;124;43mg cm-3\u001b[39;49m\u001b[38;5;124;43m'\u001b[39;49m\u001b[43m)\u001b[49m\n",
      "File \u001b[0;32m~/mambaforge/envs/pydrad-dev/lib/python3.11/site-packages/astropy/table/table.py:4113\u001b[0m, in \u001b[0;36mTable.from_pandas\u001b[0;34m(cls, dataframe, index, units)\u001b[0m\n\u001b[1;32m   4111\u001b[0m \u001b[38;5;28;01melse\u001b[39;00m:\n\u001b[1;32m   4112\u001b[0m     \u001b[38;5;28;01mif\u001b[39;00m \u001b[38;5;129;01mnot\u001b[39;00m \u001b[38;5;28misinstance\u001b[39m(units, Mapping):\n\u001b[0;32m-> 4113\u001b[0m         \u001b[38;5;28;01mraise\u001b[39;00m \u001b[38;5;167;01mTypeError\u001b[39;00m(\u001b[38;5;124m'\u001b[39m\u001b[38;5;124mExpected a Mapping \u001b[39m\u001b[38;5;124m\"\u001b[39m\u001b[38;5;124mcolumn-name\u001b[39m\u001b[38;5;124m\"\u001b[39m\u001b[38;5;124m -> \u001b[39m\u001b[38;5;124m\"\u001b[39m\u001b[38;5;124munit\u001b[39m\u001b[38;5;124m\"\u001b[39m\u001b[38;5;124m'\u001b[39m)\n\u001b[1;32m   4115\u001b[0m     not_found \u001b[38;5;241m=\u001b[39m \u001b[38;5;28mset\u001b[39m(units\u001b[38;5;241m.\u001b[39mkeys()) \u001b[38;5;241m-\u001b[39m \u001b[38;5;28mset\u001b[39m(names)\n\u001b[1;32m   4116\u001b[0m     \u001b[38;5;28;01mif\u001b[39;00m not_found:\n",
      "\u001b[0;31mTypeError\u001b[0m: Expected a Mapping \"column-name\" -> \"unit\""
     ]
    }
   ],
   "source": [
    "astropy.table.QTable.from_pandas()"
   ]
  },
  {
   "cell_type": "code",
   "execution_count": 59,
   "id": "a966d230-74cd-4307-a5bf-ede0befeabf0",
   "metadata": {},
   "outputs": [
    {
     "data": {
      "text/plain": [
       "{'mass_drhobydt': 'g cm-3', 'mass_advection': 'g cm-3'}"
      ]
     },
     "execution_count": 59,
     "metadata": {},
     "output_type": "execute_result"
    }
   ],
   "source": [
    "{c: 'g cm-3'  for c in terms['mass'].columns}"
   ]
  },
  {
   "cell_type": "code",
   "execution_count": 2,
   "id": "88fbf818-792e-4a77-bcd7-7e8403110a1b",
   "metadata": {},
   "outputs": [],
   "source": [
    "from pydrad.parse.util import read_amr_file, read_hstate_file, read_phy_file, read_ine_file, read_trm_file"
   ]
  },
  {
   "cell_type": "code",
   "execution_count": 19,
   "id": "6be46b68-5c25-4802-8b38-31047027da0e",
   "metadata": {},
   "outputs": [],
   "source": [
    "foo_amr = read_amr_file('hydrad-parsing-testing/Results/profile0.amr')"
   ]
  },
  {
   "cell_type": "code",
   "execution_count": 23,
   "id": "3ed72e56-e047-42c9-be73-5454b47d15a5",
   "metadata": {},
   "outputs": [
    {
     "data": {
      "text/latex": [
       "$\\mathrm{cm}$"
      ],
      "text/plain": [
       "Unit(\"cm\")"
      ]
     },
     "execution_count": 23,
     "metadata": {},
     "output_type": "execute_result"
    }
   ],
   "source": [
    "foo_amr['grid_widths'].unit"
   ]
  },
  {
   "cell_type": "code",
   "execution_count": 26,
   "id": "0ae5fe8a-eb56-4816-8f5b-4e765df751e3",
   "metadata": {},
   "outputs": [
    {
     "data": {
      "text/plain": [
       "False"
      ]
     },
     "execution_count": 26,
     "metadata": {},
     "output_type": "execute_result"
    }
   ],
   "source": [
    "'electron_mass_density' in  foo_amr.columns"
   ]
  },
  {
   "cell_type": "code",
   "execution_count": 4,
   "id": "f557a9a5-6e68-42bf-81ed-f10cb986c997",
   "metadata": {},
   "outputs": [
    {
     "data": {
      "text/html": [
       "<div><i>QTable length=617</i>\n",
       "<table id=\"table5882775312\" class=\"table-striped table-bordered table-condensed\">\n",
       "<thead><tr><th>coordinate</th><th>velocity</th><th>sound_speed</th><th>electron_density</th><th>ion_density</th><th>electron_pressure</th><th>ion_pressure</th><th>electron_temperature</th><th>ion_temperature</th><th>electron_heat_flux</th><th>ion_heat_flux</th></tr></thead>\n",
       "<thead><tr><th>cm</th><th>cm / s</th><th>cm / s</th><th>1 / cm3</th><th>1 / cm3</th><th>dyn / cm2</th><th>dyn / cm2</th><th>K</th><th>K</th><th>erg / (s cm2)</th><th>erg / (s cm2)</th></tr></thead>\n",
       "<thead><tr><th>float64</th><th>float64</th><th>float64</th><th>float64</th><th>float64</th><th>float64</th><th>float64</th><th>float64</th><th>float64</th><th>float64</th><th>float64</th></tr></thead>\n",
       "<tr><td>1562500.0</td><td>0.0</td><td>1455623.32</td><td>4.0248772e+16</td><td>4.0248772e+16</td><td>55543.3054</td><td>55543.3054</td><td>10000.0</td><td>10000.0</td><td>0.0</td><td>0.0</td></tr>\n",
       "<tr><td>4687500.0</td><td>0.0</td><td>1455623.32</td><td>3.76308126e+16</td><td>3.76308126e+16</td><td>51930.5213</td><td>51930.5213</td><td>10000.0</td><td>10000.0</td><td>0.0</td><td>0.0</td></tr>\n",
       "<tr><td>7812500.0</td><td>0.0</td><td>1455623.32</td><td>3.51828616e+16</td><td>3.51828616e+16</td><td>48552.3491</td><td>48552.3491</td><td>10000.0</td><td>10000.0</td><td>-0.0</td><td>-0.0</td></tr>\n",
       "<tr><td>10937500.0</td><td>0.0</td><td>1455623.32</td><td>3.28943477e+16</td><td>3.28943477e+16</td><td>45394.1999</td><td>45394.1999</td><td>10000.0</td><td>10000.0</td><td>-0.0</td><td>-0.0</td></tr>\n",
       "<tr><td>14062500.0</td><td>0.0</td><td>1455623.32</td><td>3.07548766e+16</td><td>3.07548766e+16</td><td>42441.7296</td><td>42441.7296</td><td>10000.0</td><td>10000.0</td><td>-0.0</td><td>-0.0</td></tr>\n",
       "<tr><td>17187500.0</td><td>0.0</td><td>1455623.32</td><td>2.8754732e+16</td><td>2.8754732e+16</td><td>39681.5301</td><td>39681.5301</td><td>10000.0</td><td>10000.0</td><td>-0.0</td><td>-0.0</td></tr>\n",
       "<tr><td>20312500.0</td><td>0.0</td><td>1455623.32</td><td>2.68848316e+16</td><td>2.68848316e+16</td><td>37101.0677</td><td>37101.0677</td><td>10000.0</td><td>10000.0</td><td>-0.0</td><td>-0.0</td></tr>\n",
       "<tr><td>23437500.0</td><td>0.0</td><td>1455623.32</td><td>2.51366858e+16</td><td>2.51366858e+16</td><td>34688.6264</td><td>34688.6264</td><td>10000.0</td><td>10000.0</td><td>-0.0</td><td>-0.0</td></tr>\n",
       "<tr><td>26562500.0</td><td>0.0</td><td>1455623.32</td><td>2.35023584e+16</td><td>2.35023584e+16</td><td>32433.2546</td><td>32433.2546</td><td>10000.0</td><td>10000.0</td><td>-0.0</td><td>-0.0</td></tr>\n",
       "<tr><td>29687500.0</td><td>0.0</td><td>1455623.32</td><td>2.19744313e+16</td><td>2.19744313e+16</td><td>30324.7152</td><td>30324.7152</td><td>10000.0</td><td>10000.0</td><td>-0.0</td><td>-0.0</td></tr>\n",
       "<tr><td>32812500.0</td><td>0.0</td><td>1455623.32</td><td>2.05459699e+16</td><td>2.05459699e+16</td><td>28353.4384</td><td>28353.4384</td><td>10000.0</td><td>10000.0</td><td>-0.0</td><td>-0.0</td></tr>\n",
       "<tr><td>35937500.0</td><td>0.0</td><td>1455623.32</td><td>1.92104922e+16</td><td>1.92104922e+16</td><td>26510.4792</td><td>26510.4792</td><td>10000.0</td><td>10000.0</td><td>-0.0</td><td>-0.0</td></tr>\n",
       "<tr><td>39062500.0</td><td>0.0</td><td>1455623.32</td><td>1.79619388e+16</td><td>1.79619388e+16</td><td>24787.4755</td><td>24787.4755</td><td>10000.0</td><td>10000.0</td><td>-0.0</td><td>-0.0</td></tr>\n",
       "<tr><td>42187500.0</td><td>0.0</td><td>1455623.32</td><td>1.67946456e+16</td><td>1.67946456e+16</td><td>23176.611</td><td>23176.611</td><td>10000.0</td><td>10000.0</td><td>-0.0</td><td>-0.0</td></tr>\n",
       "<tr><td>45312500.0</td><td>0.0</td><td>1455623.32</td><td>1.5703318e+16</td><td>1.5703318e+16</td><td>21670.5788</td><td>21670.5788</td><td>10000.0</td><td>10000.0</td><td>-0.0</td><td>-0.0</td></tr>\n",
       "<tr><td>48437500.0</td><td>0.0</td><td>1455623.32</td><td>1.46830064e+16</td><td>1.46830064e+16</td><td>20262.5489</td><td>20262.5489</td><td>10000.0</td><td>10000.0</td><td>-0.0</td><td>-0.0</td></tr>\n",
       "<tr><td>51562500.0</td><td>0.0</td><td>1455623.32</td><td>1.37290843e+16</td><td>1.37290843e+16</td><td>18946.1364</td><td>18946.1364</td><td>10000.0</td><td>10000.0</td><td>-0.0</td><td>-0.0</td></tr>\n",
       "<tr><td>54687500.0</td><td>0.0</td><td>1455623.32</td><td>1.28372267e+16</td><td>1.28372267e+16</td><td>17715.3728</td><td>17715.3728</td><td>10000.0</td><td>10000.0</td><td>-0.0</td><td>-0.0</td></tr>\n",
       "<tr><td>57812500.0</td><td>0.0</td><td>1455623.32</td><td>1.20033906e+16</td><td>1.20033906e+16</td><td>16564.679</td><td>16564.679</td><td>10000.0</td><td>10000.0</td><td>-0.0</td><td>-0.0</td></tr>\n",
       "<tr><td>60937500.0</td><td>0.0</td><td>1455623.32</td><td>1.12237967e+16</td><td>1.12237967e+16</td><td>15488.8394</td><td>15488.8394</td><td>10000.0</td><td>10000.0</td><td>-0.0</td><td>-0.0</td></tr>\n",
       "<tr><td>64062500.0</td><td>0.0</td><td>1455623.32</td><td>1.04949121e+16</td><td>1.04949121e+16</td><td>14482.9787</td><td>14482.9787</td><td>10000.0</td><td>10000.0</td><td>-0.0</td><td>-0.0</td></tr>\n",
       "<tr><td>67187500.0</td><td>0.0</td><td>1455623.32</td><td>9813434230000000.0</td><td>9813434230000000.0</td><td>13542.5392</td><td>13542.5392</td><td>10000.0</td><td>10000.0</td><td>-0.0</td><td>-0.0</td></tr>\n",
       "<tr><td>70312500.0</td><td>0.0</td><td>1455623.32</td><td>9176275820000000.0</td><td>9176275820000000.0</td><td>12663.2606</td><td>12663.2606</td><td>10000.0</td><td>10000.0</td><td>-0.0</td><td>-0.0</td></tr>\n",
       "<tr><td>73437500.0</td><td>0.0</td><td>1455623.32</td><td>8580550860000000.0</td><td>8580550860000000.0</td><td>11841.1602</td><td>11841.1602</td><td>10000.0</td><td>10000.0</td><td>-0.0</td><td>-0.0</td></tr>\n",
       "<tr><td>76562500.0</td><td>0.0</td><td>1455623.32</td><td>8023561460000000.0</td><td>8023561460000000.0</td><td>11072.5148</td><td>11072.5148</td><td>10000.0</td><td>10000.0</td><td>-0.0</td><td>-0.0</td></tr>\n",
       "<tr><td>79687500.0</td><td>0.0</td><td>1455623.32</td><td>7502785590000000.0</td><td>7502785590000000.0</td><td>10353.8441</td><td>10353.8441</td><td>10000.0</td><td>10000.0</td><td>-0.0</td><td>-0.0</td></tr>\n",
       "<tr><td>82812500.0</td><td>0.0</td><td>1455623.32</td><td>7015865610000000.0</td><td>7015865610000000.0</td><td>9681.89455</td><td>9681.89455</td><td>10000.0</td><td>10000.0</td><td>-0.0</td><td>-0.0</td></tr>\n",
       "<tr><td>...</td><td>...</td><td>...</td><td>...</td><td>...</td><td>...</td><td>...</td><td>...</td><td>...</td><td>...</td><td>...</td></tr>\n",
       "<tr><td>8914062500.0</td><td>0.0</td><td>1455623.32</td><td>6560686200000000.0</td><td>6560686200000000.0</td><td>9053.74696</td><td>9053.74696</td><td>10000.0</td><td>10000.0</td><td>-0.0</td><td>-0.0</td></tr>\n",
       "<tr><td>8917187500.0</td><td>0.0</td><td>1455623.32</td><td>7015960430000000.0</td><td>7015960430000000.0</td><td>9682.02539</td><td>9682.02539</td><td>10000.0</td><td>10000.0</td><td>-0.0</td><td>-0.0</td></tr>\n",
       "<tr><td>8920312500.0</td><td>0.0</td><td>1455623.32</td><td>7502886990000000.0</td><td>7502886990000000.0</td><td>10353.984</td><td>10353.984</td><td>10000.0</td><td>10000.0</td><td>-0.0</td><td>-0.0</td></tr>\n",
       "<tr><td>8923437500.0</td><td>0.0</td><td>1455623.32</td><td>8023669900000000.0</td><td>8023669900000000.0</td><td>11072.6645</td><td>11072.6645</td><td>10000.0</td><td>10000.0</td><td>-0.0</td><td>-0.0</td></tr>\n",
       "<tr><td>8926562500.0</td><td>0.0</td><td>1455623.32</td><td>8580666830000000.0</td><td>8580666830000000.0</td><td>11841.3202</td><td>11841.3202</td><td>10000.0</td><td>10000.0</td><td>-0.0</td><td>-0.0</td></tr>\n",
       "<tr><td>8929687500.0</td><td>0.0</td><td>1455623.32</td><td>9176399850000000.0</td><td>9176399850000000.0</td><td>12663.4318</td><td>12663.4318</td><td>10000.0</td><td>10000.0</td><td>-0.0</td><td>-0.0</td></tr>\n",
       "<tr><td>8932812500.0</td><td>0.0</td><td>1455623.32</td><td>9813566870000000.0</td><td>9813566870000000.0</td><td>13542.7223</td><td>13542.7223</td><td>10000.0</td><td>10000.0</td><td>-0.0</td><td>-0.0</td></tr>\n",
       "<tr><td>8935937500.0</td><td>0.0</td><td>1455623.32</td><td>1.04950539e+16</td><td>1.04950539e+16</td><td>14483.1744</td><td>14483.1744</td><td>10000.0</td><td>10000.0</td><td>-0.0</td><td>-0.0</td></tr>\n",
       "<tr><td>8939062500.0</td><td>0.0</td><td>1455623.32</td><td>1.12239484e+16</td><td>1.12239484e+16</td><td>15489.0488</td><td>15489.0488</td><td>10000.0</td><td>10000.0</td><td>-0.0</td><td>-0.0</td></tr>\n",
       "<tr><td>8942187500.0</td><td>0.0</td><td>1455623.32</td><td>1.20035528e+16</td><td>1.20035528e+16</td><td>16564.9029</td><td>16564.9029</td><td>10000.0</td><td>10000.0</td><td>-0.0</td><td>-0.0</td></tr>\n",
       "<tr><td>8945312500.0</td><td>0.0</td><td>1455623.32</td><td>1.28374002e+16</td><td>1.28374002e+16</td><td>17715.6123</td><td>17715.6123</td><td>10000.0</td><td>10000.0</td><td>-0.0</td><td>-0.0</td></tr>\n",
       "<tr><td>8948437500.0</td><td>0.0</td><td>1455623.32</td><td>1.37292699e+16</td><td>1.37292699e+16</td><td>18946.3925</td><td>18946.3925</td><td>10000.0</td><td>10000.0</td><td>-0.0</td><td>-0.0</td></tr>\n",
       "<tr><td>8951562500.0</td><td>0.0</td><td>1455623.32</td><td>1.46832049e+16</td><td>1.46832049e+16</td><td>20262.8228</td><td>20262.8228</td><td>10000.0</td><td>10000.0</td><td>-0.0</td><td>-0.0</td></tr>\n",
       "<tr><td>8954687500.0</td><td>0.0</td><td>1455623.32</td><td>1.57035303e+16</td><td>1.57035303e+16</td><td>21670.8718</td><td>21670.8718</td><td>10000.0</td><td>10000.0</td><td>-0.0</td><td>-0.0</td></tr>\n",
       "<tr><td>8957812500.0</td><td>0.0</td><td>1455623.32</td><td>1.67948727e+16</td><td>1.67948727e+16</td><td>23176.9243</td><td>23176.9243</td><td>10000.0</td><td>10000.0</td><td>-0.0</td><td>-0.0</td></tr>\n",
       "<tr><td>8960937500.0</td><td>0.0</td><td>1455623.32</td><td>1.79621816e+16</td><td>1.79621816e+16</td><td>24787.8106</td><td>24787.8106</td><td>10000.0</td><td>10000.0</td><td>-0.0</td><td>-0.0</td></tr>\n",
       "<tr><td>8964062500.0</td><td>0.0</td><td>1455623.32</td><td>1.92107519e+16</td><td>1.92107519e+16</td><td>26510.8376</td><td>26510.8376</td><td>10000.0</td><td>10000.0</td><td>-0.0</td><td>-0.0</td></tr>\n",
       "<tr><td>8967187500.0</td><td>0.0</td><td>1455623.32</td><td>2.05462476e+16</td><td>2.05462476e+16</td><td>28353.8218</td><td>28353.8218</td><td>10000.0</td><td>10000.0</td><td>-0.0</td><td>-0.0</td></tr>\n",
       "<tr><td>8970312500.0</td><td>0.0</td><td>1455623.32</td><td>2.19747284e+16</td><td>2.19747284e+16</td><td>30325.1251</td><td>30325.1251</td><td>10000.0</td><td>10000.0</td><td>-0.0</td><td>-0.0</td></tr>\n",
       "<tr><td>8973437500.0</td><td>0.0</td><td>1455623.32</td><td>2.35026762e+16</td><td>2.35026762e+16</td><td>32433.6931</td><td>32433.6931</td><td>10000.0</td><td>10000.0</td><td>-0.0</td><td>-0.0</td></tr>\n",
       "<tr><td>8976562500.0</td><td>0.0</td><td>1455623.32</td><td>2.51370256e+16</td><td>2.51370256e+16</td><td>34689.0954</td><td>34689.0954</td><td>10000.0</td><td>10000.0</td><td>-0.0</td><td>-0.0</td></tr>\n",
       "<tr><td>8979687500.0</td><td>0.0</td><td>1455623.32</td><td>2.68851951e+16</td><td>2.68851951e+16</td><td>37101.5693</td><td>37101.5693</td><td>10000.0</td><td>10000.0</td><td>-0.0</td><td>-0.0</td></tr>\n",
       "<tr><td>8982812500.0</td><td>0.0</td><td>1455623.32</td><td>2.87551207e+16</td><td>2.87551207e+16</td><td>39682.0666</td><td>39682.0666</td><td>10000.0</td><td>10000.0</td><td>-0.0</td><td>-0.0</td></tr>\n",
       "<tr><td>8985937500.0</td><td>0.0</td><td>1455623.32</td><td>3.07552924e+16</td><td>3.07552924e+16</td><td>42442.3035</td><td>42442.3035</td><td>10000.0</td><td>10000.0</td><td>-0.0</td><td>-0.0</td></tr>\n",
       "<tr><td>8989062500.0</td><td>0.0</td><td>1455623.32</td><td>3.28947925e+16</td><td>3.28947925e+16</td><td>45394.8136</td><td>45394.8136</td><td>10000.0</td><td>10000.0</td><td>-0.0</td><td>-0.0</td></tr>\n",
       "<tr><td>8992187500.0</td><td>0.0</td><td>1455623.32</td><td>3.51833374e+16</td><td>3.51833374e+16</td><td>48553.0056</td><td>48553.0056</td><td>10000.0</td><td>10000.0</td><td>-0.0</td><td>-0.0</td></tr>\n",
       "<tr><td>8995312500.0</td><td>0.0</td><td>1455623.32</td><td>3.76313214e+16</td><td>3.76313214e+16</td><td>51931.2235</td><td>51931.2235</td><td>10000.0</td><td>10000.0</td><td>0.0</td><td>0.0</td></tr>\n",
       "<tr><td>8998437500.0</td><td>0.0</td><td>1455623.32</td><td>4.02492313e+16</td><td>4.02492313e+16</td><td>55543.9392</td><td>55543.9392</td><td>10000.0</td><td>10000.0</td><td>0.0</td><td>0.0</td></tr>\n",
       "</table></div>"
      ],
      "text/plain": [
       "<QTable length=617>\n",
       " coordinate  velocity sound_speed  electron_density  ... ion_temperature electron_heat_flux ion_heat_flux\n",
       "     cm       cm / s     cm / s        1 / cm3       ...        K          erg / (s cm2)    erg / (s cm2)\n",
       "  float64    float64    float64        float64       ...     float64          float64          float64   \n",
       "------------ -------- ----------- ------------------ ... --------------- ------------------ -------------\n",
       "   1562500.0      0.0  1455623.32      4.0248772e+16 ...         10000.0                0.0           0.0\n",
       "   4687500.0      0.0  1455623.32     3.76308126e+16 ...         10000.0                0.0           0.0\n",
       "   7812500.0      0.0  1455623.32     3.51828616e+16 ...         10000.0               -0.0          -0.0\n",
       "  10937500.0      0.0  1455623.32     3.28943477e+16 ...         10000.0               -0.0          -0.0\n",
       "  14062500.0      0.0  1455623.32     3.07548766e+16 ...         10000.0               -0.0          -0.0\n",
       "  17187500.0      0.0  1455623.32      2.8754732e+16 ...         10000.0               -0.0          -0.0\n",
       "  20312500.0      0.0  1455623.32     2.68848316e+16 ...         10000.0               -0.0          -0.0\n",
       "  23437500.0      0.0  1455623.32     2.51366858e+16 ...         10000.0               -0.0          -0.0\n",
       "  26562500.0      0.0  1455623.32     2.35023584e+16 ...         10000.0               -0.0          -0.0\n",
       "  29687500.0      0.0  1455623.32     2.19744313e+16 ...         10000.0               -0.0          -0.0\n",
       "  32812500.0      0.0  1455623.32     2.05459699e+16 ...         10000.0               -0.0          -0.0\n",
       "  35937500.0      0.0  1455623.32     1.92104922e+16 ...         10000.0               -0.0          -0.0\n",
       "  39062500.0      0.0  1455623.32     1.79619388e+16 ...         10000.0               -0.0          -0.0\n",
       "  42187500.0      0.0  1455623.32     1.67946456e+16 ...         10000.0               -0.0          -0.0\n",
       "  45312500.0      0.0  1455623.32      1.5703318e+16 ...         10000.0               -0.0          -0.0\n",
       "  48437500.0      0.0  1455623.32     1.46830064e+16 ...         10000.0               -0.0          -0.0\n",
       "  51562500.0      0.0  1455623.32     1.37290843e+16 ...         10000.0               -0.0          -0.0\n",
       "  54687500.0      0.0  1455623.32     1.28372267e+16 ...         10000.0               -0.0          -0.0\n",
       "  57812500.0      0.0  1455623.32     1.20033906e+16 ...         10000.0               -0.0          -0.0\n",
       "  60937500.0      0.0  1455623.32     1.12237967e+16 ...         10000.0               -0.0          -0.0\n",
       "  64062500.0      0.0  1455623.32     1.04949121e+16 ...         10000.0               -0.0          -0.0\n",
       "  67187500.0      0.0  1455623.32 9813434230000000.0 ...         10000.0               -0.0          -0.0\n",
       "  70312500.0      0.0  1455623.32 9176275820000000.0 ...         10000.0               -0.0          -0.0\n",
       "  73437500.0      0.0  1455623.32 8580550860000000.0 ...         10000.0               -0.0          -0.0\n",
       "  76562500.0      0.0  1455623.32 8023561460000000.0 ...         10000.0               -0.0          -0.0\n",
       "  79687500.0      0.0  1455623.32 7502785590000000.0 ...         10000.0               -0.0          -0.0\n",
       "  82812500.0      0.0  1455623.32 7015865610000000.0 ...         10000.0               -0.0          -0.0\n",
       "         ...      ...         ...                ... ...             ...                ...           ...\n",
       "8914062500.0      0.0  1455623.32 6560686200000000.0 ...         10000.0               -0.0          -0.0\n",
       "8917187500.0      0.0  1455623.32 7015960430000000.0 ...         10000.0               -0.0          -0.0\n",
       "8920312500.0      0.0  1455623.32 7502886990000000.0 ...         10000.0               -0.0          -0.0\n",
       "8923437500.0      0.0  1455623.32 8023669900000000.0 ...         10000.0               -0.0          -0.0\n",
       "8926562500.0      0.0  1455623.32 8580666830000000.0 ...         10000.0               -0.0          -0.0\n",
       "8929687500.0      0.0  1455623.32 9176399850000000.0 ...         10000.0               -0.0          -0.0\n",
       "8932812500.0      0.0  1455623.32 9813566870000000.0 ...         10000.0               -0.0          -0.0\n",
       "8935937500.0      0.0  1455623.32     1.04950539e+16 ...         10000.0               -0.0          -0.0\n",
       "8939062500.0      0.0  1455623.32     1.12239484e+16 ...         10000.0               -0.0          -0.0\n",
       "8942187500.0      0.0  1455623.32     1.20035528e+16 ...         10000.0               -0.0          -0.0\n",
       "8945312500.0      0.0  1455623.32     1.28374002e+16 ...         10000.0               -0.0          -0.0\n",
       "8948437500.0      0.0  1455623.32     1.37292699e+16 ...         10000.0               -0.0          -0.0\n",
       "8951562500.0      0.0  1455623.32     1.46832049e+16 ...         10000.0               -0.0          -0.0\n",
       "8954687500.0      0.0  1455623.32     1.57035303e+16 ...         10000.0               -0.0          -0.0\n",
       "8957812500.0      0.0  1455623.32     1.67948727e+16 ...         10000.0               -0.0          -0.0\n",
       "8960937500.0      0.0  1455623.32     1.79621816e+16 ...         10000.0               -0.0          -0.0\n",
       "8964062500.0      0.0  1455623.32     1.92107519e+16 ...         10000.0               -0.0          -0.0\n",
       "8967187500.0      0.0  1455623.32     2.05462476e+16 ...         10000.0               -0.0          -0.0\n",
       "8970312500.0      0.0  1455623.32     2.19747284e+16 ...         10000.0               -0.0          -0.0\n",
       "8973437500.0      0.0  1455623.32     2.35026762e+16 ...         10000.0               -0.0          -0.0\n",
       "8976562500.0      0.0  1455623.32     2.51370256e+16 ...         10000.0               -0.0          -0.0\n",
       "8979687500.0      0.0  1455623.32     2.68851951e+16 ...         10000.0               -0.0          -0.0\n",
       "8982812500.0      0.0  1455623.32     2.87551207e+16 ...         10000.0               -0.0          -0.0\n",
       "8985937500.0      0.0  1455623.32     3.07552924e+16 ...         10000.0               -0.0          -0.0\n",
       "8989062500.0      0.0  1455623.32     3.28947925e+16 ...         10000.0               -0.0          -0.0\n",
       "8992187500.0      0.0  1455623.32     3.51833374e+16 ...         10000.0               -0.0          -0.0\n",
       "8995312500.0      0.0  1455623.32     3.76313214e+16 ...         10000.0                0.0           0.0\n",
       "8998437500.0      0.0  1455623.32     4.02492313e+16 ...         10000.0                0.0           0.0"
      ]
     },
     "execution_count": 4,
     "metadata": {},
     "output_type": "execute_result"
    }
   ],
   "source": [
    "read_phy_file('hydrad-parsing-testing/Results/profile0.phy')"
   ]
  },
  {
   "cell_type": "code",
   "execution_count": 5,
   "id": "cdf7d03d-6c4d-4e41-bfc2-938c2440b07d",
   "metadata": {},
   "outputs": [
    {
     "data": {
      "text/html": [
       "<div><i>QTable length=617</i>\n",
       "<table id=\"table5884844112\" class=\"table-striped table-bordered table-condensed\">\n",
       "<thead><tr><th>mass_drhobydt</th><th>mass_advection</th><th>momentum_drho_vbydt</th><th>momentum_advection</th><th>momentum_pressure_gradient</th><th>momentum_gravity</th><th>momentum_viscous_stress</th><th>momentum_numerical_viscosity</th><th>electron_dTEKEbydt</th><th>electron_enthalpy</th><th>electron_conduction</th><th>electron_gravity</th><th>electron_collisions</th><th>electron_heating</th><th>electron_radiative_loss</th><th>electron_electric_field</th><th>electron_viscous_stress</th><th>electron_numerical_viscosity</th><th>electron_ionization</th><th>hydrogen_dTEKEbydt</th><th>hydrogen_enthalpy</th><th>hydrogen_conduction</th><th>hydrogen_gravity</th><th>hydrogen_collisions</th><th>hydrogen_heating</th><th>hydrogen_radiative_loss</th><th>hydrogen_electric_field</th><th>hydrogen_viscous_stress</th><th>hydrogen_numerical_viscosity</th><th>hydrogen_ionization</th></tr></thead>\n",
       "<thead><tr><th>g / (s cm3)</th><th>g / (s cm3)</th><th>dyn / (s cm3)</th><th>dyn / (s cm3)</th><th>dyn / (s cm3)</th><th>dyn / (s cm3)</th><th>dyn / (s cm3)</th><th>dyn / (s cm3)</th><th>erg / (s cm3)</th><th>erg / (s cm3)</th><th>erg / (s cm3)</th><th>erg / (s cm3)</th><th>erg / (s cm3)</th><th>erg / (s cm3)</th><th>erg / (s cm3)</th><th>erg / (s cm3)</th><th>erg / (s cm3)</th><th>erg / (s cm3)</th><th>erg / (s cm3)</th><th>erg / (s cm3)</th><th>erg / (s cm3)</th><th>erg / (s cm3)</th><th>erg / (s cm3)</th><th>erg / (s cm3)</th><th>erg / (s cm3)</th><th>erg / (s cm3)</th><th>erg / (s cm3)</th><th>erg / (s cm3)</th><th>erg / (s cm3)</th><th>erg / (s cm3)</th></tr></thead>\n",
       "<thead><tr><th>float64</th><th>float64</th><th>float64</th><th>float64</th><th>float64</th><th>float64</th><th>float64</th><th>float64</th><th>float64</th><th>float64</th><th>float64</th><th>float64</th><th>float64</th><th>float64</th><th>float64</th><th>float64</th><th>float64</th><th>float64</th><th>float64</th><th>float64</th><th>float64</th><th>float64</th><th>float64</th><th>float64</th><th>float64</th><th>float64</th><th>float64</th><th>float64</th><th>float64</th><th>float64</th></tr></thead>\n",
       "<tr><td>0.0</td><td>0.0</td><td>0.0</td><td>0.0</td><td>0.0</td><td>0.0</td><td>0.0</td><td>0.0</td><td>0.0</td><td>0.0</td><td>0.0</td><td>0.0</td><td>0.0</td><td>0.0</td><td>0.0</td><td>0.0</td><td>0.0</td><td>0.0</td><td>0.0</td><td>0.0</td><td>0.0</td><td>0.0</td><td>0.0</td><td>0.0</td><td>0.0</td><td>0.0</td><td>0.0</td><td>0.0</td><td>0.0</td><td>0.0</td></tr>\n",
       "<tr><td>0.0</td><td>0.0</td><td>0.0</td><td>0.0</td><td>0.0</td><td>0.0</td><td>0.0</td><td>0.0</td><td>0.0</td><td>0.0</td><td>0.0</td><td>0.0</td><td>0.0</td><td>0.0</td><td>0.0</td><td>0.0</td><td>0.0</td><td>0.0</td><td>0.0</td><td>0.0</td><td>0.0</td><td>0.0</td><td>0.0</td><td>0.0</td><td>0.0</td><td>0.0</td><td>0.0</td><td>0.0</td><td>0.0</td><td>0.0</td></tr>\n",
       "<tr><td>-0.0</td><td>-0.0</td><td>3.96461446e-07</td><td>-0.0</td><td>0.00209046557</td><td>-0.00209006911</td><td>0.0</td><td>0.0</td><td>7282852.36</td><td>-0.0</td><td>-0.0</td><td>0.0</td><td>0.0</td><td>0.0025323179</td><td>7282852.36</td><td>-0.0</td><td>0.0</td><td>0.0</td><td>0.0</td><td>1e-300</td><td>-0.0</td><td>-0.0</td><td>-0.0</td><td>-0.0</td><td>1e-300</td><td>0.0</td><td>0.0</td><td>0.0</td><td>0.0</td><td>0.0</td></tr>\n",
       "<tr><td>-0.0</td><td>-0.0</td><td>3.42318023e-07</td><td>-0.0</td><td>0.00195428811</td><td>-0.0019539458</td><td>0.0</td><td>0.0</td><td>6809129.98</td><td>-0.0</td><td>-0.0</td><td>0.0</td><td>0.0</td><td>0.0025323179</td><td>6809129.98</td><td>-0.0</td><td>0.0</td><td>0.0</td><td>0.0</td><td>1e-300</td><td>-0.0</td><td>-0.0</td><td>-0.0</td><td>-0.0</td><td>1e-300</td><td>0.0</td><td>0.0</td><td>0.0</td><td>0.0</td><td>0.0</td></tr>\n",
       "<tr><td>-0.0</td><td>-0.0</td><td>3.19998881e-07</td><td>-0.0</td><td>0.00182701665</td><td>-0.00182669665</td><td>0.0</td><td>0.0</td><td>6366259.45</td><td>-0.0</td><td>-0.0</td><td>0.0</td><td>0.0</td><td>0.0025323179</td><td>6366259.45</td><td>-0.0</td><td>0.0</td><td>0.0</td><td>0.0</td><td>1e-300</td><td>-0.0</td><td>-0.0</td><td>-0.0</td><td>-0.0</td><td>1e-300</td><td>0.0</td><td>0.0</td><td>0.0</td><td>0.0</td><td>0.0</td></tr>\n",
       "<tr><td>-0.0</td><td>-0.0</td><td>2.99135675e-07</td><td>-0.0</td><td>0.00170804186</td><td>-0.00170774272</td><td>0.0</td><td>0.0</td><td>5952229.52</td><td>-0.0</td><td>-0.0</td><td>0.0</td><td>0.0</td><td>0.0025323179</td><td>5952229.51</td><td>-0.0</td><td>0.0</td><td>0.0</td><td>0.0</td><td>1e-300</td><td>-0.0</td><td>-0.0</td><td>-0.0</td><td>-0.0</td><td>1e-300</td><td>0.0</td><td>0.0</td><td>0.0</td><td>0.0</td><td>0.0</td></tr>\n",
       "<tr><td>-0.0</td><td>-0.0</td><td>2.79633146e-07</td><td>-0.0</td><td>0.00159682248</td><td>-0.00159654285</td><td>0.0</td><td>0.0</td><td>5565160.15</td><td>-0.0</td><td>-0.0</td><td>0.0</td><td>0.0</td><td>0.0025323179</td><td>5565160.15</td><td>-0.0</td><td>0.0</td><td>0.0</td><td>0.0</td><td>1e-300</td><td>-0.0</td><td>-0.0</td><td>-0.0</td><td>-0.0</td><td>1e-300</td><td>0.0</td><td>0.0</td><td>0.0</td><td>0.0</td><td>0.0</td></tr>\n",
       "<tr><td>-0.0</td><td>-0.0</td><td>2.6140296e-07</td><td>-0.0</td><td>0.00149285261</td><td>-0.00149259121</td><td>0.0</td><td>0.0</td><td>5203293.96</td><td>-0.0</td><td>-0.0</td><td>0.0</td><td>0.0</td><td>0.0025323179</td><td>5203293.96</td><td>-0.0</td><td>0.0</td><td>0.0</td><td>0.0</td><td>1e-300</td><td>-0.0</td><td>-0.0</td><td>-0.0</td><td>-0.0</td><td>1e-300</td><td>0.0</td><td>0.0</td><td>0.0</td><td>0.0</td><td>0.0</td></tr>\n",
       "<tr><td>-0.0</td><td>-0.0</td><td>2.4436191e-07</td><td>-0.0</td><td>0.00139565932</td><td>-0.00139541496</td><td>0.0</td><td>0.0</td><td>4864988.2</td><td>-0.0</td><td>-0.0</td><td>0.0</td><td>0.0</td><td>0.0025323179</td><td>4864988.2</td><td>-0.0</td><td>0.0</td><td>0.0</td><td>0.0</td><td>1e-300</td><td>-0.0</td><td>-0.0</td><td>-0.0</td><td>-0.0</td><td>1e-300</td><td>0.0</td><td>0.0</td><td>0.0</td><td>0.0</td><td>0.0</td></tr>\n",
       "<tr><td>-0.0</td><td>-0.0</td><td>2.28432198e-07</td><td>-0.0</td><td>0.00130480059</td><td>-0.00130457216</td><td>0.0</td><td>0.0</td><td>4548707.28</td><td>-0.0</td><td>-0.0</td><td>0.0</td><td>0.0</td><td>0.0025323179</td><td>4548707.27</td><td>-0.0</td><td>0.0</td><td>0.0</td><td>0.0</td><td>1e-300</td><td>-0.0</td><td>-0.0</td><td>-0.0</td><td>-0.0</td><td>1e-300</td><td>0.0</td><td>0.0</td><td>0.0</td><td>0.0</td><td>0.0</td></tr>\n",
       "<tr><td>-0.0</td><td>-0.0</td><td>2.13541682e-07</td><td>-0.0</td><td>0.00121986322</td><td>-0.00121964968</td><td>0.0</td><td>0.0</td><td>4253015.77</td><td>-0.0</td><td>-0.0</td><td>0.0</td><td>0.0</td><td>0.0025323179</td><td>4253015.77</td><td>-0.0</td><td>0.0</td><td>0.0</td><td>0.0</td><td>1e-300</td><td>-0.0</td><td>-0.0</td><td>-0.0</td><td>-0.0</td><td>1e-300</td><td>0.0</td><td>0.0</td><td>0.0</td><td>0.0</td><td>0.0</td></tr>\n",
       "<tr><td>-0.0</td><td>-0.0</td><td>1.99622391e-07</td><td>-0.0</td><td>0.001140461</td><td>-0.00114026137</td><td>0.0</td><td>0.0</td><td>3976571.88</td><td>-0.0</td><td>-0.0</td><td>0.0</td><td>0.0</td><td>0.0025323179</td><td>3976571.88</td><td>-0.0</td><td>0.0</td><td>0.0</td><td>0.0</td><td>1e-300</td><td>-0.0</td><td>-0.0</td><td>-0.0</td><td>-0.0</td><td>1e-300</td><td>0.0</td><td>0.0</td><td>0.0</td><td>0.0</td><td>0.0</td></tr>\n",
       "<tr><td>-0.0</td><td>-0.0</td><td>1.86610795e-07</td><td>-0.0</td><td>0.00106623289</td><td>-0.00106604628</td><td>0.0</td><td>0.0</td><td>3718121.33</td><td>-0.0</td><td>-0.0</td><td>0.0</td><td>0.0</td><td>0.0025323179</td><td>3718121.33</td><td>-0.0</td><td>0.0</td><td>0.0</td><td>0.0</td><td>1e-300</td><td>-0.0</td><td>-0.0</td><td>-0.0</td><td>-0.0</td><td>1e-300</td><td>0.0</td><td>0.0</td><td>0.0</td><td>0.0</td><td>0.0</td></tr>\n",
       "<tr><td>-0.0</td><td>-0.0</td><td>1.74447969e-07</td><td>-0.0</td><td>0.000996841464</td><td>-0.000996667016</td><td>0.0</td><td>0.0</td><td>3476491.65</td><td>-0.0</td><td>-0.0</td><td>0.0</td><td>0.0</td><td>0.0025323179</td><td>3476491.65</td><td>-0.0</td><td>0.0</td><td>0.0</td><td>0.0</td><td>1e-300</td><td>-0.0</td><td>-0.0</td><td>-0.0</td><td>-0.0</td><td>1e-300</td><td>0.0</td><td>0.0</td><td>0.0</td><td>0.0</td><td>0.0</td></tr>\n",
       "<tr><td>-0.0</td><td>-0.0</td><td>1.63078394e-07</td><td>-0.0</td><td>0.00093197127</td><td>-0.000931808191</td><td>0.0</td><td>0.0</td><td>3250586.83</td><td>-0.0</td><td>-0.0</td><td>0.0</td><td>0.0</td><td>0.0025323179</td><td>3250586.83</td><td>-0.0</td><td>0.0</td><td>0.0</td><td>0.0</td><td>1e-300</td><td>-0.0</td><td>-0.0</td><td>-0.0</td><td>-0.0</td><td>1e-300</td><td>0.0</td><td>0.0</td><td>0.0</td><td>0.0</td><td>0.0</td></tr>\n",
       "<tr><td>-0.0</td><td>-0.0</td><td>1.52450189e-07</td><td>-0.0</td><td>0.000871327464</td><td>-0.000871175014</td><td>0.0</td><td>0.0</td><td>3039382.34</td><td>-0.0</td><td>-0.0</td><td>0.0</td><td>0.0</td><td>0.0025323179</td><td>3039382.33</td><td>-0.0</td><td>0.0</td><td>0.0</td><td>0.0</td><td>1e-300</td><td>-0.0</td><td>-0.0</td><td>-0.0</td><td>-0.0</td><td>1e-300</td><td>0.0</td><td>0.0</td><td>0.0</td><td>0.0</td><td>0.0</td></tr>\n",
       "<tr><td>-0.0</td><td>-0.0</td><td>1.42515224e-07</td><td>-0.0</td><td>0.000814634439</td><td>-0.000814491924</td><td>0.0</td><td>0.0</td><td>2841920.46</td><td>-0.0</td><td>-0.0</td><td>0.0</td><td>0.0</td><td>0.0025323179</td><td>2841920.45</td><td>-0.0</td><td>0.0</td><td>0.0</td><td>0.0</td><td>1e-300</td><td>-0.0</td><td>-0.0</td><td>-0.0</td><td>-0.0</td><td>1e-300</td><td>0.0</td><td>0.0</td><td>0.0</td><td>0.0</td><td>0.0</td></tr>\n",
       "<tr><td>-0.0</td><td>-0.0</td><td>1.33228152e-07</td><td>-0.0</td><td>0.000761634573</td><td>-0.000761501344</td><td>0.0</td><td>0.0</td><td>2657305.92</td><td>-0.0</td><td>-0.0</td><td>0.0</td><td>0.0</td><td>0.0025323179</td><td>2657305.92</td><td>-0.0</td><td>0.0</td><td>0.0</td><td>0.0</td><td>1e-300</td><td>-0.0</td><td>-0.0</td><td>-0.0</td><td>-0.0</td><td>1e-300</td><td>0.0</td><td>0.0</td><td>0.0</td><td>0.0</td><td>0.0</td></tr>\n",
       "<tr><td>-0.0</td><td>-0.0</td><td>1.24546609e-07</td><td>-0.0</td><td>0.000712087051</td><td>-0.000711962505</td><td>0.0</td><td>0.0</td><td>2484701.85</td><td>-0.0</td><td>-0.0</td><td>0.0</td><td>0.0</td><td>0.0025323179</td><td>2484701.85</td><td>-0.0</td><td>0.0</td><td>0.0</td><td>0.0</td><td>1e-300</td><td>-0.0</td><td>-0.0</td><td>-0.0</td><td>-0.0</td><td>1e-300</td><td>0.0</td><td>0.0</td><td>0.0</td><td>0.0</td><td>0.0</td></tr>\n",
       "<tr><td>-0.0</td><td>-0.0</td><td>1.16431279e-07</td><td>-0.0</td><td>0.000665766777</td><td>-0.000665650346</td><td>0.0</td><td>0.0</td><td>2323325.91</td><td>-0.0</td><td>-0.0</td><td>0.0</td><td>0.0</td><td>0.0025323179</td><td>2323325.91</td><td>-0.0</td><td>0.0</td><td>0.0</td><td>0.0</td><td>1e-300</td><td>-0.0</td><td>-0.0</td><td>-0.0</td><td>-0.0</td><td>1e-300</td><td>0.0</td><td>0.0</td><td>0.0</td><td>0.0</td><td>0.0</td></tr>\n",
       "<tr><td>-0.0</td><td>-0.0</td><td>1.08845124e-07</td><td>-0.0</td><td>0.000622463338</td><td>-0.000622354492</td><td>0.0</td><td>0.0</td><td>2172446.81</td><td>-0.0</td><td>-0.0</td><td>0.0</td><td>0.0</td><td>0.0025323179</td><td>2172446.8</td><td>-0.0</td><td>0.0</td><td>0.0</td><td>0.0</td><td>1e-300</td><td>-0.0</td><td>-0.0</td><td>-0.0</td><td>-0.0</td><td>1e-300</td><td>0.0</td><td>0.0</td><td>0.0</td><td>0.0</td><td>0.0</td></tr>\n",
       "<tr><td>-0.0</td><td>-0.0</td><td>1.01753548e-07</td><td>-0.0</td><td>0.00058198005</td><td>-0.000581878297</td><td>0.0</td><td>0.0</td><td>2031380.89</td><td>-0.0</td><td>-0.0</td><td>0.0</td><td>0.0</td><td>0.0025323179</td><td>2031380.89</td><td>-0.0</td><td>0.0</td><td>0.0</td><td>0.0</td><td>1e-300</td><td>-0.0</td><td>-0.0</td><td>-0.0</td><td>-0.0</td><td>1e-300</td><td>0.0</td><td>0.0</td><td>0.0</td><td>0.0</td><td>0.0</td></tr>\n",
       "<tr><td>-0.0</td><td>-0.0</td><td>9.51244417e-08</td><td>-0.0</td><td>0.000544133064</td><td>-0.00054403794</td><td>0.0</td><td>0.0</td><td>1899489.1</td><td>-0.0</td><td>-0.0</td><td>0.0</td><td>0.0</td><td>0.0025323179</td><td>1899489.1</td><td>-0.0</td><td>0.0</td><td>0.0</td><td>0.0</td><td>1e-300</td><td>-0.0</td><td>-0.0</td><td>-0.0</td><td>-0.0</td><td>1e-300</td><td>0.0</td><td>0.0</td><td>0.0</td><td>0.0</td><td>0.0</td></tr>\n",
       "<tr><td>-0.0</td><td>-0.0</td><td>8.89275481e-08</td><td>-0.0</td><td>0.000508750524</td><td>-0.000508661596</td><td>0.0</td><td>0.0</td><td>1776174.03</td><td>-0.0</td><td>-0.0</td><td>0.0</td><td>0.0</td><td>0.0025323179</td><td>1776174.03</td><td>-0.0</td><td>0.0</td><td>0.0</td><td>0.0</td><td>1e-300</td><td>-0.0</td><td>-0.0</td><td>-0.0</td><td>-0.0</td><td>1e-300</td><td>0.0</td><td>0.0</td><td>0.0</td><td>0.0</td><td>0.0</td></tr>\n",
       "<tr><td>-0.0</td><td>-0.0</td><td>8.31346191e-08</td><td>-0.0</td><td>0.000475671785</td><td>-0.000475588651</td><td>0.0</td><td>0.0</td><td>1660877.22</td><td>-0.0</td><td>-0.0</td><td>0.0</td><td>0.0</td><td>0.0025323179</td><td>1660877.22</td><td>-0.0</td><td>0.0</td><td>0.0</td><td>0.0</td><td>1e-300</td><td>-0.0</td><td>-0.0</td><td>-0.0</td><td>-0.0</td><td>1e-300</td><td>0.0</td><td>0.0</td><td>0.0</td><td>0.0</td><td>0.0</td></tr>\n",
       "<tr><td>-0.0</td><td>-0.0</td><td>7.7719427e-08</td><td>-0.0</td><td>0.000444746685</td><td>-0.000444668965</td><td>0.0</td><td>0.0</td><td>1553076.62</td><td>-0.0</td><td>-0.0</td><td>0.0</td><td>0.0</td><td>0.0025323179</td><td>1553076.62</td><td>-0.0</td><td>0.0</td><td>0.0</td><td>0.0</td><td>1e-300</td><td>-0.0</td><td>-0.0</td><td>-0.0</td><td>-0.0</td><td>1e-300</td><td>0.0</td><td>0.0</td><td>0.0</td><td>0.0</td><td>0.0</td></tr>\n",
       "<tr><td>-0.0</td><td>-0.0</td><td>7.2657258e-08</td><td>-0.0</td><td>0.000415834854</td><td>-0.000415762196</td><td>0.0</td><td>0.0</td><td>1452284.18</td><td>-0.0</td><td>-0.0</td><td>0.0</td><td>0.0</td><td>0.0025323179</td><td>1452284.18</td><td>-0.0</td><td>0.0</td><td>0.0</td><td>0.0</td><td>1e-300</td><td>-0.0</td><td>-0.0</td><td>-0.0</td><td>-0.0</td><td>1e-300</td><td>0.0</td><td>0.0</td><td>0.0</td><td>0.0</td><td>0.0</td></tr>\n",
       "<tr><td>...</td><td>...</td><td>...</td><td>...</td><td>...</td><td>...</td><td>...</td><td>...</td><td>...</td><td>...</td><td>...</td><td>...</td><td>...</td><td>...</td><td>...</td><td>...</td><td>...</td><td>...</td><td>...</td><td>...</td><td>...</td><td>...</td><td>...</td><td>...</td><td>...</td><td>...</td><td>...</td><td>...</td><td>...</td><td>...</td></tr>\n",
       "<tr><td>-0.0</td><td>-0.0</td><td>-6.79276839e-08</td><td>-0.0</td><td>-0.000388810337</td><td>0.000388742409</td><td>0.0</td><td>0.0</td><td>1358062.05</td><td>-0.0</td><td>-0.0</td><td>0.0</td><td>0.0</td><td>0.0025323179</td><td>1358062.04</td><td>0.0</td><td>0.0</td><td>0.0</td><td>0.0</td><td>1e-300</td><td>-0.0</td><td>-0.0</td><td>0.0</td><td>-0.0</td><td>1e-300</td><td>0.0</td><td>-0.0</td><td>0.0</td><td>0.0</td><td>0.0</td></tr>\n",
       "<tr><td>-0.0</td><td>-0.0</td><td>-7.26600832e-08</td><td>-0.0</td><td>-0.000415840475</td><td>0.000415767815</td><td>0.0</td><td>0.0</td><td>1452303.81</td><td>-0.0</td><td>-0.0</td><td>0.0</td><td>0.0</td><td>0.0025323179</td><td>1452303.81</td><td>0.0</td><td>0.0</td><td>0.0</td><td>0.0</td><td>1e-300</td><td>-0.0</td><td>-0.0</td><td>0.0</td><td>-0.0</td><td>1e-300</td><td>0.0</td><td>-0.0</td><td>0.0</td><td>0.0</td><td>0.0</td></tr>\n",
       "<tr><td>-0.0</td><td>-0.0</td><td>-7.77224401e-08</td><td>-0.0</td><td>-0.000444752697</td><td>0.000444674975</td><td>0.0</td><td>0.0</td><td>1553097.61</td><td>-0.0</td><td>-0.0</td><td>0.0</td><td>0.0</td><td>0.0025323179</td><td>1553097.61</td><td>0.0</td><td>0.0</td><td>0.0</td><td>0.0</td><td>1e-300</td><td>-0.0</td><td>-0.0</td><td>0.0</td><td>-0.0</td><td>1e-300</td><td>0.0</td><td>-0.0</td><td>0.0</td><td>0.0</td><td>0.0</td></tr>\n",
       "<tr><td>-0.0</td><td>-0.0</td><td>-8.31378515e-08</td><td>-0.0</td><td>-0.000475678216</td><td>0.000475595078</td><td>0.0</td><td>0.0</td><td>1660899.67</td><td>-0.0</td><td>-0.0</td><td>0.0</td><td>0.0</td><td>0.0025323179</td><td>1660899.67</td><td>0.0</td><td>0.0</td><td>0.0</td><td>0.0</td><td>1e-300</td><td>-0.0</td><td>-0.0</td><td>0.0</td><td>-0.0</td><td>1e-300</td><td>0.0</td><td>-0.0</td><td>0.0</td><td>0.0</td><td>0.0</td></tr>\n",
       "<tr><td>-0.0</td><td>-0.0</td><td>-8.89310059e-08</td><td>-0.0</td><td>-0.000508757402</td><td>0.000508668471</td><td>0.0</td><td>0.0</td><td>1776198.04</td><td>-0.0</td><td>-0.0</td><td>0.0</td><td>0.0</td><td>0.0025323179</td><td>1776198.03</td><td>0.0</td><td>0.0</td><td>0.0</td><td>0.0</td><td>1e-300</td><td>-0.0</td><td>-0.0</td><td>0.0</td><td>-0.0</td><td>1e-300</td><td>0.0</td><td>-0.0</td><td>0.0</td><td>0.0</td><td>0.0</td></tr>\n",
       "<tr><td>-0.0</td><td>-0.0</td><td>-9.51281292e-08</td><td>-0.0</td><td>-0.000544140421</td><td>0.000544045293</td><td>0.0</td><td>0.0</td><td>1899514.77</td><td>-0.0</td><td>-0.0</td><td>0.0</td><td>0.0</td><td>0.0025323179</td><td>1899514.77</td><td>0.0</td><td>0.0</td><td>0.0</td><td>0.0</td><td>1e-300</td><td>-0.0</td><td>-0.0</td><td>0.0</td><td>-0.0</td><td>1e-300</td><td>0.0</td><td>-0.0</td><td>0.0</td><td>0.0</td><td>0.0</td></tr>\n",
       "<tr><td>-0.0</td><td>-0.0</td><td>-1.01757506e-07</td><td>-0.0</td><td>-0.000581987919</td><td>0.000581886161</td><td>0.0</td><td>0.0</td><td>2031408.34</td><td>-0.0</td><td>-0.0</td><td>0.0</td><td>0.0</td><td>0.0025323179</td><td>2031408.34</td><td>0.0</td><td>0.0</td><td>0.0</td><td>0.0</td><td>1e-300</td><td>-0.0</td><td>-0.0</td><td>0.0</td><td>-0.0</td><td>1e-300</td><td>0.0</td><td>-0.0</td><td>0.0</td><td>0.0</td><td>0.0</td></tr>\n",
       "<tr><td>-0.0</td><td>-0.0</td><td>-1.08849356e-07</td><td>-0.0</td><td>-0.000622471754</td><td>0.000622362904</td><td>0.0</td><td>0.0</td><td>2172476.17</td><td>-0.0</td><td>-0.0</td><td>0.0</td><td>0.0</td><td>0.0025323179</td><td>2172476.17</td><td>0.0</td><td>0.0</td><td>0.0</td><td>0.0</td><td>1e-300</td><td>-0.0</td><td>-0.0</td><td>0.0</td><td>-0.0</td><td>1e-300</td><td>0.0</td><td>-0.0</td><td>0.0</td><td>0.0</td><td>0.0</td></tr>\n",
       "<tr><td>-0.0</td><td>-0.0</td><td>-1.16435794e-07</td><td>-0.0</td><td>-0.000665775779</td><td>0.000665659343</td><td>0.0</td><td>0.0</td><td>2323357.32</td><td>-0.0</td><td>-0.0</td><td>0.0</td><td>0.0</td><td>0.0025323179</td><td>2323357.32</td><td>0.0</td><td>0.0</td><td>0.0</td><td>0.0</td><td>1e-300</td><td>-0.0</td><td>-0.0</td><td>0.0</td><td>-0.0</td><td>1e-300</td><td>0.0</td><td>-0.0</td><td>0.0</td><td>0.0</td><td>0.0</td></tr>\n",
       "<tr><td>-0.0</td><td>-0.0</td><td>-1.24551455e-07</td><td>-0.0</td><td>-0.00071209668</td><td>0.000711972128</td><td>0.0</td><td>0.0</td><td>2484735.44</td><td>-0.0</td><td>-0.0</td><td>0.0</td><td>0.0</td><td>0.0025323179</td><td>2484735.43</td><td>0.0</td><td>0.0</td><td>0.0</td><td>0.0</td><td>1e-300</td><td>-0.0</td><td>-0.0</td><td>0.0</td><td>-0.0</td><td>1e-300</td><td>0.0</td><td>-0.0</td><td>0.0</td><td>0.0</td><td>0.0</td></tr>\n",
       "<tr><td>-0.0</td><td>-0.0</td><td>-1.33233332e-07</td><td>-0.0</td><td>-0.000761644871</td><td>0.000761511638</td><td>0.0</td><td>0.0</td><td>2657341.84</td><td>-0.0</td><td>-0.0</td><td>0.0</td><td>0.0</td><td>0.0025323179</td><td>2657341.84</td><td>0.0</td><td>0.0</td><td>0.0</td><td>0.0</td><td>1e-300</td><td>-0.0</td><td>-0.0</td><td>0.0</td><td>-0.0</td><td>1e-300</td><td>0.0</td><td>-0.0</td><td>0.0</td><td>0.0</td><td>0.0</td></tr>\n",
       "<tr><td>-0.0</td><td>-0.0</td><td>-1.42520751e-07</td><td>-0.0</td><td>-0.000814645455</td><td>0.000814502934</td><td>0.0</td><td>0.0</td><td>2841958.87</td><td>-0.0</td><td>-0.0</td><td>0.0</td><td>0.0</td><td>0.0025323179</td><td>2841958.87</td><td>0.0</td><td>0.0</td><td>0.0</td><td>0.0</td><td>1e-300</td><td>-0.0</td><td>-0.0</td><td>0.0</td><td>-0.0</td><td>1e-300</td><td>0.0</td><td>-0.0</td><td>0.0</td><td>0.0</td><td>0.0</td></tr>\n",
       "<tr><td>-0.0</td><td>-0.0</td><td>-1.52456125e-07</td><td>-0.0</td><td>-0.000871339246</td><td>0.00087118679</td><td>0.0</td><td>0.0</td><td>3039423.42</td><td>-0.0</td><td>-0.0</td><td>0.0</td><td>0.0</td><td>0.0025323179</td><td>3039423.42</td><td>0.0</td><td>0.0</td><td>0.0</td><td>0.0</td><td>1e-300</td><td>-0.0</td><td>-0.0</td><td>0.0</td><td>-0.0</td><td>1e-300</td><td>0.0</td><td>-0.0</td><td>0.0</td><td>0.0</td><td>0.0</td></tr>\n",
       "<tr><td>-0.0</td><td>-0.0</td><td>-1.63084733e-07</td><td>-0.0</td><td>-0.000931983872</td><td>0.000931820787</td><td>0.0</td><td>0.0</td><td>3250630.77</td><td>-0.0</td><td>-0.0</td><td>0.0</td><td>0.0</td><td>0.0025323179</td><td>3250630.77</td><td>0.0</td><td>0.0</td><td>0.0</td><td>0.0</td><td>1e-300</td><td>-0.0</td><td>-0.0</td><td>0.0</td><td>-0.0</td><td>1e-300</td><td>0.0</td><td>-0.0</td><td>0.0</td><td>0.0</td><td>0.0</td></tr>\n",
       "<tr><td>-0.0</td><td>-0.0</td><td>-1.74454733e-07</td><td>-0.0</td><td>-0.000996854944</td><td>0.000996680489</td><td>0.0</td><td>0.0</td><td>3476538.65</td><td>-0.0</td><td>-0.0</td><td>0.0</td><td>0.0</td><td>0.0025323179</td><td>3476538.64</td><td>0.0</td><td>0.0</td><td>0.0</td><td>0.0</td><td>1e-300</td><td>-0.0</td><td>-0.0</td><td>0.0</td><td>-0.0</td><td>1e-300</td><td>0.0</td><td>-0.0</td><td>0.0</td><td>0.0</td><td>0.0</td></tr>\n",
       "<tr><td>-0.0</td><td>-0.0</td><td>-1.86618065e-07</td><td>-0.0</td><td>-0.00106624731</td><td>0.0010660607</td><td>0.0</td><td>0.0</td><td>3718171.6</td><td>-0.0</td><td>-0.0</td><td>0.0</td><td>0.0</td><td>0.0025323179</td><td>3718171.59</td><td>0.0</td><td>0.0</td><td>0.0</td><td>0.0</td><td>1e-300</td><td>-0.0</td><td>-0.0</td><td>0.0</td><td>-0.0</td><td>1e-300</td><td>0.0</td><td>-0.0</td><td>0.0</td><td>0.0</td><td>0.0</td></tr>\n",
       "<tr><td>-0.0</td><td>-0.0</td><td>-1.99630151e-07</td><td>-0.0</td><td>-0.00114047642</td><td>0.00114027679</td><td>0.0</td><td>0.0</td><td>3976625.64</td><td>-0.0</td><td>-0.0</td><td>0.0</td><td>0.0</td><td>0.0025323179</td><td>3976625.64</td><td>0.0</td><td>0.0</td><td>0.0</td><td>0.0</td><td>1e-300</td><td>-0.0</td><td>-0.0</td><td>0.0</td><td>-0.0</td><td>1e-300</td><td>0.0</td><td>-0.0</td><td>0.0</td><td>0.0</td><td>0.0</td></tr>\n",
       "<tr><td>-0.0</td><td>-0.0</td><td>-2.13549963e-07</td><td>-0.0</td><td>-0.00121987972</td><td>0.00121966617</td><td>0.0</td><td>0.0</td><td>4253073.27</td><td>-0.0</td><td>-0.0</td><td>0.0</td><td>0.0</td><td>0.0025323179</td><td>4253073.26</td><td>0.0</td><td>0.0</td><td>0.0</td><td>0.0</td><td>1e-300</td><td>-0.0</td><td>-0.0</td><td>0.0</td><td>-0.0</td><td>1e-300</td><td>0.0</td><td>-0.0</td><td>0.0</td><td>0.0</td><td>0.0</td></tr>\n",
       "<tr><td>-0.0</td><td>-0.0</td><td>-2.28441101e-07</td><td>-0.0</td><td>-0.00130481824</td><td>0.0013045898</td><td>0.0</td><td>0.0</td><td>4548768.77</td><td>-0.0</td><td>-0.0</td><td>0.0</td><td>0.0</td><td>0.0025323179</td><td>4548768.77</td><td>0.0</td><td>0.0</td><td>0.0</td><td>0.0</td><td>1e-300</td><td>-0.0</td><td>-0.0</td><td>0.0</td><td>-0.0</td><td>1e-300</td><td>0.0</td><td>-0.0</td><td>0.0</td><td>0.0</td><td>0.0</td></tr>\n",
       "<tr><td>-0.0</td><td>-0.0</td><td>-2.44371408e-07</td><td>-0.0</td><td>-0.0013956782</td><td>0.00139543383</td><td>0.0</td><td>0.0</td><td>4865053.97</td><td>-0.0</td><td>-0.0</td><td>0.0</td><td>0.0</td><td>0.0025323179</td><td>4865053.97</td><td>0.0</td><td>0.0</td><td>0.0</td><td>0.0</td><td>1e-300</td><td>-0.0</td><td>-0.0</td><td>0.0</td><td>-0.0</td><td>1e-300</td><td>0.0</td><td>-0.0</td><td>0.0</td><td>0.0</td><td>0.0</td></tr>\n",
       "<tr><td>-0.0</td><td>-0.0</td><td>-2.61413098e-07</td><td>-0.0</td><td>-0.0014928728</td><td>0.00149261139</td><td>0.0</td><td>0.0</td><td>5203364.31</td><td>-0.0</td><td>-0.0</td><td>0.0</td><td>0.0</td><td>0.0025323179</td><td>5203364.31</td><td>0.0</td><td>0.0</td><td>0.0</td><td>0.0</td><td>1e-300</td><td>-0.0</td><td>-0.0</td><td>0.0</td><td>-0.0</td><td>1e-300</td><td>0.0</td><td>-0.0</td><td>0.0</td><td>0.0</td><td>0.0</td></tr>\n",
       "<tr><td>-0.0</td><td>-0.0</td><td>-2.79644049e-07</td><td>-0.0</td><td>-0.00159684408</td><td>0.00159656444</td><td>0.0</td><td>0.0</td><td>5565235.39</td><td>-0.0</td><td>-0.0</td><td>0.0</td><td>0.0</td><td>0.0025323179</td><td>5565235.39</td><td>0.0</td><td>0.0</td><td>0.0</td><td>0.0</td><td>1e-300</td><td>-0.0</td><td>-0.0</td><td>0.0</td><td>-0.0</td><td>1e-300</td><td>0.0</td><td>-0.0</td><td>0.0</td><td>0.0</td><td>0.0</td></tr>\n",
       "<tr><td>-0.0</td><td>-0.0</td><td>-2.99147304e-07</td><td>-0.0</td><td>-0.00170806496</td><td>0.00170776581</td><td>0.0</td><td>0.0</td><td>5952310.0</td><td>-0.0</td><td>-0.0</td><td>0.0</td><td>0.0</td><td>0.0025323179</td><td>5952309.99</td><td>0.0</td><td>0.0</td><td>0.0</td><td>0.0</td><td>1e-300</td><td>-0.0</td><td>-0.0</td><td>0.0</td><td>-0.0</td><td>1e-300</td><td>0.0</td><td>-0.0</td><td>0.0</td><td>0.0</td><td>0.0</td></tr>\n",
       "<tr><td>-0.0</td><td>-0.0</td><td>-3.2001129e-07</td><td>-0.0</td><td>-0.00182704136</td><td>0.00182672135</td><td>0.0</td><td>0.0</td><td>6366345.53</td><td>-0.0</td><td>-0.0</td><td>0.0</td><td>0.0</td><td>0.0025323179</td><td>6366345.52</td><td>0.0</td><td>0.0</td><td>0.0</td><td>0.0</td><td>1e-300</td><td>-0.0</td><td>-0.0</td><td>0.0</td><td>-0.0</td><td>1e-300</td><td>0.0</td><td>-0.0</td><td>0.0</td><td>0.0</td><td>0.0</td></tr>\n",
       "<tr><td>-0.0</td><td>-0.0</td><td>-3.42331375e-07</td><td>-0.0</td><td>-0.00195431455</td><td>0.00195397222</td><td>0.0</td><td>0.0</td><td>6809222.05</td><td>-0.0</td><td>-0.0</td><td>0.0</td><td>0.0</td><td>0.0025323179</td><td>6809222.05</td><td>0.0</td><td>0.0</td><td>0.0</td><td>0.0</td><td>1e-300</td><td>-0.0</td><td>-0.0</td><td>0.0</td><td>-0.0</td><td>1e-300</td><td>0.0</td><td>-0.0</td><td>0.0</td><td>0.0</td><td>0.0</td></tr>\n",
       "<tr><td>-0.0</td><td>-0.0</td><td>-4.01166157e-07</td><td>-0.0</td><td>-0.00209049853</td><td>0.00209009737</td><td>0.0</td><td>0.0</td><td>7282950.84</td><td>-0.0</td><td>-0.0</td><td>0.0</td><td>0.0</td><td>0.0025323179</td><td>7282950.83</td><td>0.0</td><td>0.0</td><td>0.0</td><td>0.0</td><td>1e-300</td><td>-0.0</td><td>-0.0</td><td>0.0</td><td>-0.0</td><td>1e-300</td><td>0.0</td><td>-0.0</td><td>0.0</td><td>0.0</td><td>0.0</td></tr>\n",
       "<tr><td>0.0</td><td>0.0</td><td>0.0</td><td>0.0</td><td>0.0</td><td>0.0</td><td>0.0</td><td>0.0</td><td>0.0</td><td>0.0</td><td>0.0</td><td>0.0</td><td>0.0</td><td>0.0</td><td>0.0</td><td>0.0</td><td>0.0</td><td>0.0</td><td>0.0</td><td>0.0</td><td>0.0</td><td>0.0</td><td>0.0</td><td>0.0</td><td>0.0</td><td>0.0</td><td>0.0</td><td>0.0</td><td>0.0</td><td>0.0</td></tr>\n",
       "<tr><td>0.0</td><td>0.0</td><td>0.0</td><td>0.0</td><td>0.0</td><td>0.0</td><td>0.0</td><td>0.0</td><td>0.0</td><td>0.0</td><td>0.0</td><td>0.0</td><td>0.0</td><td>0.0</td><td>0.0</td><td>0.0</td><td>0.0</td><td>0.0</td><td>0.0</td><td>0.0</td><td>0.0</td><td>0.0</td><td>0.0</td><td>0.0</td><td>0.0</td><td>0.0</td><td>0.0</td><td>0.0</td><td>0.0</td><td>0.0</td></tr>\n",
       "</table></div>"
      ],
      "text/plain": [
       "<QTable length=617>\n",
       "mass_drhobydt mass_advection momentum_drho_vbydt ... hydrogen_numerical_viscosity hydrogen_ionization\n",
       " g / (s cm3)   g / (s cm3)      dyn / (s cm3)    ...        erg / (s cm3)            erg / (s cm3)   \n",
       "   float64       float64           float64       ...           float64                  float64      \n",
       "------------- -------------- ------------------- ... ---------------------------- -------------------\n",
       "          0.0            0.0                 0.0 ...                          0.0                 0.0\n",
       "          0.0            0.0                 0.0 ...                          0.0                 0.0\n",
       "         -0.0           -0.0      3.96461446e-07 ...                          0.0                 0.0\n",
       "         -0.0           -0.0      3.42318023e-07 ...                          0.0                 0.0\n",
       "         -0.0           -0.0      3.19998881e-07 ...                          0.0                 0.0\n",
       "         -0.0           -0.0      2.99135675e-07 ...                          0.0                 0.0\n",
       "         -0.0           -0.0      2.79633146e-07 ...                          0.0                 0.0\n",
       "         -0.0           -0.0       2.6140296e-07 ...                          0.0                 0.0\n",
       "         -0.0           -0.0       2.4436191e-07 ...                          0.0                 0.0\n",
       "         -0.0           -0.0      2.28432198e-07 ...                          0.0                 0.0\n",
       "         -0.0           -0.0      2.13541682e-07 ...                          0.0                 0.0\n",
       "         -0.0           -0.0      1.99622391e-07 ...                          0.0                 0.0\n",
       "         -0.0           -0.0      1.86610795e-07 ...                          0.0                 0.0\n",
       "         -0.0           -0.0      1.74447969e-07 ...                          0.0                 0.0\n",
       "         -0.0           -0.0      1.63078394e-07 ...                          0.0                 0.0\n",
       "         -0.0           -0.0      1.52450189e-07 ...                          0.0                 0.0\n",
       "         -0.0           -0.0      1.42515224e-07 ...                          0.0                 0.0\n",
       "         -0.0           -0.0      1.33228152e-07 ...                          0.0                 0.0\n",
       "         -0.0           -0.0      1.24546609e-07 ...                          0.0                 0.0\n",
       "         -0.0           -0.0      1.16431279e-07 ...                          0.0                 0.0\n",
       "         -0.0           -0.0      1.08845124e-07 ...                          0.0                 0.0\n",
       "         -0.0           -0.0      1.01753548e-07 ...                          0.0                 0.0\n",
       "         -0.0           -0.0      9.51244417e-08 ...                          0.0                 0.0\n",
       "         -0.0           -0.0      8.89275481e-08 ...                          0.0                 0.0\n",
       "         -0.0           -0.0      8.31346191e-08 ...                          0.0                 0.0\n",
       "         -0.0           -0.0       7.7719427e-08 ...                          0.0                 0.0\n",
       "         -0.0           -0.0       7.2657258e-08 ...                          0.0                 0.0\n",
       "          ...            ...                 ... ...                          ...                 ...\n",
       "         -0.0           -0.0     -6.79276839e-08 ...                          0.0                 0.0\n",
       "         -0.0           -0.0     -7.26600832e-08 ...                          0.0                 0.0\n",
       "         -0.0           -0.0     -7.77224401e-08 ...                          0.0                 0.0\n",
       "         -0.0           -0.0     -8.31378515e-08 ...                          0.0                 0.0\n",
       "         -0.0           -0.0     -8.89310059e-08 ...                          0.0                 0.0\n",
       "         -0.0           -0.0     -9.51281292e-08 ...                          0.0                 0.0\n",
       "         -0.0           -0.0     -1.01757506e-07 ...                          0.0                 0.0\n",
       "         -0.0           -0.0     -1.08849356e-07 ...                          0.0                 0.0\n",
       "         -0.0           -0.0     -1.16435794e-07 ...                          0.0                 0.0\n",
       "         -0.0           -0.0     -1.24551455e-07 ...                          0.0                 0.0\n",
       "         -0.0           -0.0     -1.33233332e-07 ...                          0.0                 0.0\n",
       "         -0.0           -0.0     -1.42520751e-07 ...                          0.0                 0.0\n",
       "         -0.0           -0.0     -1.52456125e-07 ...                          0.0                 0.0\n",
       "         -0.0           -0.0     -1.63084733e-07 ...                          0.0                 0.0\n",
       "         -0.0           -0.0     -1.74454733e-07 ...                          0.0                 0.0\n",
       "         -0.0           -0.0     -1.86618065e-07 ...                          0.0                 0.0\n",
       "         -0.0           -0.0     -1.99630151e-07 ...                          0.0                 0.0\n",
       "         -0.0           -0.0     -2.13549963e-07 ...                          0.0                 0.0\n",
       "         -0.0           -0.0     -2.28441101e-07 ...                          0.0                 0.0\n",
       "         -0.0           -0.0     -2.44371408e-07 ...                          0.0                 0.0\n",
       "         -0.0           -0.0     -2.61413098e-07 ...                          0.0                 0.0\n",
       "         -0.0           -0.0     -2.79644049e-07 ...                          0.0                 0.0\n",
       "         -0.0           -0.0     -2.99147304e-07 ...                          0.0                 0.0\n",
       "         -0.0           -0.0      -3.2001129e-07 ...                          0.0                 0.0\n",
       "         -0.0           -0.0     -3.42331375e-07 ...                          0.0                 0.0\n",
       "         -0.0           -0.0     -4.01166157e-07 ...                          0.0                 0.0\n",
       "          0.0            0.0                 0.0 ...                          0.0                 0.0\n",
       "          0.0            0.0                 0.0 ...                          0.0                 0.0"
      ]
     },
     "execution_count": 5,
     "metadata": {},
     "output_type": "execute_result"
    }
   ],
   "source": [
    "read_trm_file('hydrad-parsing-testing/Results/profile0.trm')"
   ]
  },
  {
   "cell_type": "code",
   "execution_count": 8,
   "id": "03e09e11-f576-483a-ad30-265c7dd9145f",
   "metadata": {},
   "outputs": [],
   "source": [
    "import pathlib"
   ]
  },
  {
   "cell_type": "code",
   "execution_count": 10,
   "id": "a6309ebc-23e6-457b-ac3a-772742837f45",
   "metadata": {},
   "outputs": [],
   "source": [
    "pop_fracs = read_ine_file(pathlib.Path('hydrad-parsing-testing/Results/profile0.ine'), 617)"
   ]
  },
  {
   "cell_type": "code",
   "execution_count": 12,
   "id": "94da1c63-23b9-4381-b49a-acdf974943c6",
   "metadata": {},
   "outputs": [],
   "source": [
    "import matplotlib.pyplot as plt"
   ]
  },
  {
   "cell_type": "code",
   "execution_count": 18,
   "id": "ccf11b15-5afb-42a8-b690-44cc614e7d93",
   "metadata": {},
   "outputs": [
    {
     "data": {
      "text/plain": [
       "[<matplotlib.lines.Line2D at 0x15f259990>]"
      ]
     },
     "execution_count": 18,
     "metadata": {},
     "output_type": "execute_result"
    },
    {
     "data": {
      "image/png": "[encoded data removed]",
      "text/plain": [
       "<Figure size 640x480 with 1 Axes>"
      ]
     },
     "metadata": {},
     "output_type": "display_data"
    }
   ],
   "source": [
    "plt.plot(pop_fracs['silicon_13'])"
   ]
  },
  {
   "cell_type": "code",
   "execution_count": 12,
   "id": "eba1136b-4a61-4930-8bb9-a3992cf859e3",
   "metadata": {},
   "outputs": [
    {
     "data": {
      "text/plain": [
       "10"
      ]
     },
     "execution_count": 12,
     "metadata": {},
     "output_type": "execute_result"
    }
   ],
   "source": [
    "len(columns)"
   ]
  },
  {
   "cell_type": "code",
   "execution_count": 14,
   "id": "59bf273c-db43-4f30-9f8c-6c8d97061427",
   "metadata": {},
   "outputs": [
    {
     "data": {
      "text/html": [
       "<div><i>QTable length=617</i>\n",
       "<table id=\"table10838435088\" class=\"table-striped table-bordered table-condensed\">\n",
       "<thead><tr><th>coordinate</th><th>velocity</th><th>sound_speed</th><th>electron_density</th><th>ion_density</th><th>electron_pressure</th><th>ion_pressure</th><th>electron_temperature</th><th>ion_temperature</th><th>electron_heat_flux</th><th>ion_heat_flux</th></tr></thead>\n",
       "<thead><tr><th>cm</th><th>cm / s</th><th>cm / s</th><th>1 / cm3</th><th>1 / cm3</th><th>dyn / cm2</th><th>dyn / cm2</th><th>K</th><th>K</th><th>erg / (s cm2)</th><th>erg / (s cm2)</th></tr></thead>\n",
       "<thead><tr><th>float64</th><th>float64</th><th>float64</th><th>float64</th><th>float64</th><th>float64</th><th>float64</th><th>float64</th><th>float64</th><th>float64</th><th>float64</th></tr></thead>\n",
       "<tr><td>1562500.0</td><td>0.0</td><td>1455623.32</td><td>4.0248772e+16</td><td>4.0248772e+16</td><td>55543.3054</td><td>55543.3054</td><td>10000.0</td><td>10000.0</td><td>0.0</td><td>0.0</td></tr>\n",
       "<tr><td>4687500.0</td><td>0.0</td><td>1455623.32</td><td>3.76308126e+16</td><td>3.76308126e+16</td><td>51930.5213</td><td>51930.5213</td><td>10000.0</td><td>10000.0</td><td>0.0</td><td>0.0</td></tr>\n",
       "<tr><td>7812500.0</td><td>0.0</td><td>1455623.32</td><td>3.51828616e+16</td><td>3.51828616e+16</td><td>48552.3491</td><td>48552.3491</td><td>10000.0</td><td>10000.0</td><td>-0.0</td><td>-0.0</td></tr>\n",
       "<tr><td>10937500.0</td><td>0.0</td><td>1455623.32</td><td>3.28943477e+16</td><td>3.28943477e+16</td><td>45394.1999</td><td>45394.1999</td><td>10000.0</td><td>10000.0</td><td>-0.0</td><td>-0.0</td></tr>\n",
       "<tr><td>14062500.0</td><td>0.0</td><td>1455623.32</td><td>3.07548766e+16</td><td>3.07548766e+16</td><td>42441.7296</td><td>42441.7296</td><td>10000.0</td><td>10000.0</td><td>-0.0</td><td>-0.0</td></tr>\n",
       "<tr><td>17187500.0</td><td>0.0</td><td>1455623.32</td><td>2.8754732e+16</td><td>2.8754732e+16</td><td>39681.5301</td><td>39681.5301</td><td>10000.0</td><td>10000.0</td><td>-0.0</td><td>-0.0</td></tr>\n",
       "<tr><td>20312500.0</td><td>0.0</td><td>1455623.32</td><td>2.68848316e+16</td><td>2.68848316e+16</td><td>37101.0677</td><td>37101.0677</td><td>10000.0</td><td>10000.0</td><td>-0.0</td><td>-0.0</td></tr>\n",
       "<tr><td>23437500.0</td><td>0.0</td><td>1455623.32</td><td>2.51366858e+16</td><td>2.51366858e+16</td><td>34688.6264</td><td>34688.6264</td><td>10000.0</td><td>10000.0</td><td>-0.0</td><td>-0.0</td></tr>\n",
       "<tr><td>26562500.0</td><td>0.0</td><td>1455623.32</td><td>2.35023584e+16</td><td>2.35023584e+16</td><td>32433.2546</td><td>32433.2546</td><td>10000.0</td><td>10000.0</td><td>-0.0</td><td>-0.0</td></tr>\n",
       "<tr><td>29687500.0</td><td>0.0</td><td>1455623.32</td><td>2.19744313e+16</td><td>2.19744313e+16</td><td>30324.7152</td><td>30324.7152</td><td>10000.0</td><td>10000.0</td><td>-0.0</td><td>-0.0</td></tr>\n",
       "<tr><td>32812500.0</td><td>0.0</td><td>1455623.32</td><td>2.05459699e+16</td><td>2.05459699e+16</td><td>28353.4384</td><td>28353.4384</td><td>10000.0</td><td>10000.0</td><td>-0.0</td><td>-0.0</td></tr>\n",
       "<tr><td>35937500.0</td><td>0.0</td><td>1455623.32</td><td>1.92104922e+16</td><td>1.92104922e+16</td><td>26510.4792</td><td>26510.4792</td><td>10000.0</td><td>10000.0</td><td>-0.0</td><td>-0.0</td></tr>\n",
       "<tr><td>39062500.0</td><td>0.0</td><td>1455623.32</td><td>1.79619388e+16</td><td>1.79619388e+16</td><td>24787.4755</td><td>24787.4755</td><td>10000.0</td><td>10000.0</td><td>-0.0</td><td>-0.0</td></tr>\n",
       "<tr><td>42187500.0</td><td>0.0</td><td>1455623.32</td><td>1.67946456e+16</td><td>1.67946456e+16</td><td>23176.611</td><td>23176.611</td><td>10000.0</td><td>10000.0</td><td>-0.0</td><td>-0.0</td></tr>\n",
       "<tr><td>45312500.0</td><td>0.0</td><td>1455623.32</td><td>1.5703318e+16</td><td>1.5703318e+16</td><td>21670.5788</td><td>21670.5788</td><td>10000.0</td><td>10000.0</td><td>-0.0</td><td>-0.0</td></tr>\n",
       "<tr><td>48437500.0</td><td>0.0</td><td>1455623.32</td><td>1.46830064e+16</td><td>1.46830064e+16</td><td>20262.5489</td><td>20262.5489</td><td>10000.0</td><td>10000.0</td><td>-0.0</td><td>-0.0</td></tr>\n",
       "<tr><td>51562500.0</td><td>0.0</td><td>1455623.32</td><td>1.37290843e+16</td><td>1.37290843e+16</td><td>18946.1364</td><td>18946.1364</td><td>10000.0</td><td>10000.0</td><td>-0.0</td><td>-0.0</td></tr>\n",
       "<tr><td>54687500.0</td><td>0.0</td><td>1455623.32</td><td>1.28372267e+16</td><td>1.28372267e+16</td><td>17715.3728</td><td>17715.3728</td><td>10000.0</td><td>10000.0</td><td>-0.0</td><td>-0.0</td></tr>\n",
       "<tr><td>57812500.0</td><td>0.0</td><td>1455623.32</td><td>1.20033906e+16</td><td>1.20033906e+16</td><td>16564.679</td><td>16564.679</td><td>10000.0</td><td>10000.0</td><td>-0.0</td><td>-0.0</td></tr>\n",
       "<tr><td>60937500.0</td><td>0.0</td><td>1455623.32</td><td>1.12237967e+16</td><td>1.12237967e+16</td><td>15488.8394</td><td>15488.8394</td><td>10000.0</td><td>10000.0</td><td>-0.0</td><td>-0.0</td></tr>\n",
       "<tr><td>64062500.0</td><td>0.0</td><td>1455623.32</td><td>1.04949121e+16</td><td>1.04949121e+16</td><td>14482.9787</td><td>14482.9787</td><td>10000.0</td><td>10000.0</td><td>-0.0</td><td>-0.0</td></tr>\n",
       "<tr><td>67187500.0</td><td>0.0</td><td>1455623.32</td><td>9813434230000000.0</td><td>9813434230000000.0</td><td>13542.5392</td><td>13542.5392</td><td>10000.0</td><td>10000.0</td><td>-0.0</td><td>-0.0</td></tr>\n",
       "<tr><td>70312500.0</td><td>0.0</td><td>1455623.32</td><td>9176275820000000.0</td><td>9176275820000000.0</td><td>12663.2606</td><td>12663.2606</td><td>10000.0</td><td>10000.0</td><td>-0.0</td><td>-0.0</td></tr>\n",
       "<tr><td>73437500.0</td><td>0.0</td><td>1455623.32</td><td>8580550860000000.0</td><td>8580550860000000.0</td><td>11841.1602</td><td>11841.1602</td><td>10000.0</td><td>10000.0</td><td>-0.0</td><td>-0.0</td></tr>\n",
       "<tr><td>76562500.0</td><td>0.0</td><td>1455623.32</td><td>8023561460000000.0</td><td>8023561460000000.0</td><td>11072.5148</td><td>11072.5148</td><td>10000.0</td><td>10000.0</td><td>-0.0</td><td>-0.0</td></tr>\n",
       "<tr><td>79687500.0</td><td>0.0</td><td>1455623.32</td><td>7502785590000000.0</td><td>7502785590000000.0</td><td>10353.8441</td><td>10353.8441</td><td>10000.0</td><td>10000.0</td><td>-0.0</td><td>-0.0</td></tr>\n",
       "<tr><td>82812500.0</td><td>0.0</td><td>1455623.32</td><td>7015865610000000.0</td><td>7015865610000000.0</td><td>9681.89455</td><td>9681.89455</td><td>10000.0</td><td>10000.0</td><td>-0.0</td><td>-0.0</td></tr>\n",
       "<tr><td>...</td><td>...</td><td>...</td><td>...</td><td>...</td><td>...</td><td>...</td><td>...</td><td>...</td><td>...</td><td>...</td></tr>\n",
       "<tr><td>8914062500.0</td><td>0.0</td><td>1455623.32</td><td>6560686200000000.0</td><td>6560686200000000.0</td><td>9053.74696</td><td>9053.74696</td><td>10000.0</td><td>10000.0</td><td>-0.0</td><td>-0.0</td></tr>\n",
       "<tr><td>8917187500.0</td><td>0.0</td><td>1455623.32</td><td>7015960430000000.0</td><td>7015960430000000.0</td><td>9682.02539</td><td>9682.02539</td><td>10000.0</td><td>10000.0</td><td>-0.0</td><td>-0.0</td></tr>\n",
       "<tr><td>8920312500.0</td><td>0.0</td><td>1455623.32</td><td>7502886990000000.0</td><td>7502886990000000.0</td><td>10353.984</td><td>10353.984</td><td>10000.0</td><td>10000.0</td><td>-0.0</td><td>-0.0</td></tr>\n",
       "<tr><td>8923437500.0</td><td>0.0</td><td>1455623.32</td><td>8023669900000000.0</td><td>8023669900000000.0</td><td>11072.6645</td><td>11072.6645</td><td>10000.0</td><td>10000.0</td><td>-0.0</td><td>-0.0</td></tr>\n",
       "<tr><td>8926562500.0</td><td>0.0</td><td>1455623.32</td><td>8580666830000000.0</td><td>8580666830000000.0</td><td>11841.3202</td><td>11841.3202</td><td>10000.0</td><td>10000.0</td><td>-0.0</td><td>-0.0</td></tr>\n",
       "<tr><td>8929687500.0</td><td>0.0</td><td>1455623.32</td><td>9176399850000000.0</td><td>9176399850000000.0</td><td>12663.4318</td><td>12663.4318</td><td>10000.0</td><td>10000.0</td><td>-0.0</td><td>-0.0</td></tr>\n",
       "<tr><td>8932812500.0</td><td>0.0</td><td>1455623.32</td><td>9813566870000000.0</td><td>9813566870000000.0</td><td>13542.7223</td><td>13542.7223</td><td>10000.0</td><td>10000.0</td><td>-0.0</td><td>-0.0</td></tr>\n",
       "<tr><td>8935937500.0</td><td>0.0</td><td>1455623.32</td><td>1.04950539e+16</td><td>1.04950539e+16</td><td>14483.1744</td><td>14483.1744</td><td>10000.0</td><td>10000.0</td><td>-0.0</td><td>-0.0</td></tr>\n",
       "<tr><td>8939062500.0</td><td>0.0</td><td>1455623.32</td><td>1.12239484e+16</td><td>1.12239484e+16</td><td>15489.0488</td><td>15489.0488</td><td>10000.0</td><td>10000.0</td><td>-0.0</td><td>-0.0</td></tr>\n",
       "<tr><td>8942187500.0</td><td>0.0</td><td>1455623.32</td><td>1.20035528e+16</td><td>1.20035528e+16</td><td>16564.9029</td><td>16564.9029</td><td>10000.0</td><td>10000.0</td><td>-0.0</td><td>-0.0</td></tr>\n",
       "<tr><td>8945312500.0</td><td>0.0</td><td>1455623.32</td><td>1.28374002e+16</td><td>1.28374002e+16</td><td>17715.6123</td><td>17715.6123</td><td>10000.0</td><td>10000.0</td><td>-0.0</td><td>-0.0</td></tr>\n",
       "<tr><td>8948437500.0</td><td>0.0</td><td>1455623.32</td><td>1.37292699e+16</td><td>1.37292699e+16</td><td>18946.3925</td><td>18946.3925</td><td>10000.0</td><td>10000.0</td><td>-0.0</td><td>-0.0</td></tr>\n",
       "<tr><td>8951562500.0</td><td>0.0</td><td>1455623.32</td><td>1.46832049e+16</td><td>1.46832049e+16</td><td>20262.8228</td><td>20262.8228</td><td>10000.0</td><td>10000.0</td><td>-0.0</td><td>-0.0</td></tr>\n",
       "<tr><td>8954687500.0</td><td>0.0</td><td>1455623.32</td><td>1.57035303e+16</td><td>1.57035303e+16</td><td>21670.8718</td><td>21670.8718</td><td>10000.0</td><td>10000.0</td><td>-0.0</td><td>-0.0</td></tr>\n",
       "<tr><td>8957812500.0</td><td>0.0</td><td>1455623.32</td><td>1.67948727e+16</td><td>1.67948727e+16</td><td>23176.9243</td><td>23176.9243</td><td>10000.0</td><td>10000.0</td><td>-0.0</td><td>-0.0</td></tr>\n",
       "<tr><td>8960937500.0</td><td>0.0</td><td>1455623.32</td><td>1.79621816e+16</td><td>1.79621816e+16</td><td>24787.8106</td><td>24787.8106</td><td>10000.0</td><td>10000.0</td><td>-0.0</td><td>-0.0</td></tr>\n",
       "<tr><td>8964062500.0</td><td>0.0</td><td>1455623.32</td><td>1.92107519e+16</td><td>1.92107519e+16</td><td>26510.8376</td><td>26510.8376</td><td>10000.0</td><td>10000.0</td><td>-0.0</td><td>-0.0</td></tr>\n",
       "<tr><td>8967187500.0</td><td>0.0</td><td>1455623.32</td><td>2.05462476e+16</td><td>2.05462476e+16</td><td>28353.8218</td><td>28353.8218</td><td>10000.0</td><td>10000.0</td><td>-0.0</td><td>-0.0</td></tr>\n",
       "<tr><td>8970312500.0</td><td>0.0</td><td>1455623.32</td><td>2.19747284e+16</td><td>2.19747284e+16</td><td>30325.1251</td><td>30325.1251</td><td>10000.0</td><td>10000.0</td><td>-0.0</td><td>-0.0</td></tr>\n",
       "<tr><td>8973437500.0</td><td>0.0</td><td>1455623.32</td><td>2.35026762e+16</td><td>2.35026762e+16</td><td>32433.6931</td><td>32433.6931</td><td>10000.0</td><td>10000.0</td><td>-0.0</td><td>-0.0</td></tr>\n",
       "<tr><td>8976562500.0</td><td>0.0</td><td>1455623.32</td><td>2.51370256e+16</td><td>2.51370256e+16</td><td>34689.0954</td><td>34689.0954</td><td>10000.0</td><td>10000.0</td><td>-0.0</td><td>-0.0</td></tr>\n",
       "<tr><td>8979687500.0</td><td>0.0</td><td>1455623.32</td><td>2.68851951e+16</td><td>2.68851951e+16</td><td>37101.5693</td><td>37101.5693</td><td>10000.0</td><td>10000.0</td><td>-0.0</td><td>-0.0</td></tr>\n",
       "<tr><td>8982812500.0</td><td>0.0</td><td>1455623.32</td><td>2.87551207e+16</td><td>2.87551207e+16</td><td>39682.0666</td><td>39682.0666</td><td>10000.0</td><td>10000.0</td><td>-0.0</td><td>-0.0</td></tr>\n",
       "<tr><td>8985937500.0</td><td>0.0</td><td>1455623.32</td><td>3.07552924e+16</td><td>3.07552924e+16</td><td>42442.3035</td><td>42442.3035</td><td>10000.0</td><td>10000.0</td><td>-0.0</td><td>-0.0</td></tr>\n",
       "<tr><td>8989062500.0</td><td>0.0</td><td>1455623.32</td><td>3.28947925e+16</td><td>3.28947925e+16</td><td>45394.8136</td><td>45394.8136</td><td>10000.0</td><td>10000.0</td><td>-0.0</td><td>-0.0</td></tr>\n",
       "<tr><td>8992187500.0</td><td>0.0</td><td>1455623.32</td><td>3.51833374e+16</td><td>3.51833374e+16</td><td>48553.0056</td><td>48553.0056</td><td>10000.0</td><td>10000.0</td><td>-0.0</td><td>-0.0</td></tr>\n",
       "<tr><td>8995312500.0</td><td>0.0</td><td>1455623.32</td><td>3.76313214e+16</td><td>3.76313214e+16</td><td>51931.2235</td><td>51931.2235</td><td>10000.0</td><td>10000.0</td><td>0.0</td><td>0.0</td></tr>\n",
       "<tr><td>8998437500.0</td><td>0.0</td><td>1455623.32</td><td>4.02492313e+16</td><td>4.02492313e+16</td><td>55543.9392</td><td>55543.9392</td><td>10000.0</td><td>10000.0</td><td>0.0</td><td>0.0</td></tr>\n",
       "</table></div>"
      ],
      "text/plain": [
       "<QTable length=617>\n",
       " coordinate  velocity sound_speed  electron_density  ... ion_temperature electron_heat_flux ion_heat_flux\n",
       "     cm       cm / s     cm / s        1 / cm3       ...        K          erg / (s cm2)    erg / (s cm2)\n",
       "  float64    float64    float64        float64       ...     float64          float64          float64   \n",
       "------------ -------- ----------- ------------------ ... --------------- ------------------ -------------\n",
       "   1562500.0      0.0  1455623.32      4.0248772e+16 ...         10000.0                0.0           0.0\n",
       "   4687500.0      0.0  1455623.32     3.76308126e+16 ...         10000.0                0.0           0.0\n",
       "   7812500.0      0.0  1455623.32     3.51828616e+16 ...         10000.0               -0.0          -0.0\n",
       "  10937500.0      0.0  1455623.32     3.28943477e+16 ...         10000.0               -0.0          -0.0\n",
       "  14062500.0      0.0  1455623.32     3.07548766e+16 ...         10000.0               -0.0          -0.0\n",
       "  17187500.0      0.0  1455623.32      2.8754732e+16 ...         10000.0               -0.0          -0.0\n",
       "  20312500.0      0.0  1455623.32     2.68848316e+16 ...         10000.0               -0.0          -0.0\n",
       "  23437500.0      0.0  1455623.32     2.51366858e+16 ...         10000.0               -0.0          -0.0\n",
       "  26562500.0      0.0  1455623.32     2.35023584e+16 ...         10000.0               -0.0          -0.0\n",
       "  29687500.0      0.0  1455623.32     2.19744313e+16 ...         10000.0               -0.0          -0.0\n",
       "  32812500.0      0.0  1455623.32     2.05459699e+16 ...         10000.0               -0.0          -0.0\n",
       "  35937500.0      0.0  1455623.32     1.92104922e+16 ...         10000.0               -0.0          -0.0\n",
       "  39062500.0      0.0  1455623.32     1.79619388e+16 ...         10000.0               -0.0          -0.0\n",
       "  42187500.0      0.0  1455623.32     1.67946456e+16 ...         10000.0               -0.0          -0.0\n",
       "  45312500.0      0.0  1455623.32      1.5703318e+16 ...         10000.0               -0.0          -0.0\n",
       "  48437500.0      0.0  1455623.32     1.46830064e+16 ...         10000.0               -0.0          -0.0\n",
       "  51562500.0      0.0  1455623.32     1.37290843e+16 ...         10000.0               -0.0          -0.0\n",
       "  54687500.0      0.0  1455623.32     1.28372267e+16 ...         10000.0               -0.0          -0.0\n",
       "  57812500.0      0.0  1455623.32     1.20033906e+16 ...         10000.0               -0.0          -0.0\n",
       "  60937500.0      0.0  1455623.32     1.12237967e+16 ...         10000.0               -0.0          -0.0\n",
       "  64062500.0      0.0  1455623.32     1.04949121e+16 ...         10000.0               -0.0          -0.0\n",
       "  67187500.0      0.0  1455623.32 9813434230000000.0 ...         10000.0               -0.0          -0.0\n",
       "  70312500.0      0.0  1455623.32 9176275820000000.0 ...         10000.0               -0.0          -0.0\n",
       "  73437500.0      0.0  1455623.32 8580550860000000.0 ...         10000.0               -0.0          -0.0\n",
       "  76562500.0      0.0  1455623.32 8023561460000000.0 ...         10000.0               -0.0          -0.0\n",
       "  79687500.0      0.0  1455623.32 7502785590000000.0 ...         10000.0               -0.0          -0.0\n",
       "  82812500.0      0.0  1455623.32 7015865610000000.0 ...         10000.0               -0.0          -0.0\n",
       "         ...      ...         ...                ... ...             ...                ...           ...\n",
       "8914062500.0      0.0  1455623.32 6560686200000000.0 ...         10000.0               -0.0          -0.0\n",
       "8917187500.0      0.0  1455623.32 7015960430000000.0 ...         10000.0               -0.0          -0.0\n",
       "8920312500.0      0.0  1455623.32 7502886990000000.0 ...         10000.0               -0.0          -0.0\n",
       "8923437500.0      0.0  1455623.32 8023669900000000.0 ...         10000.0               -0.0          -0.0\n",
       "8926562500.0      0.0  1455623.32 8580666830000000.0 ...         10000.0               -0.0          -0.0\n",
       "8929687500.0      0.0  1455623.32 9176399850000000.0 ...         10000.0               -0.0          -0.0\n",
       "8932812500.0      0.0  1455623.32 9813566870000000.0 ...         10000.0               -0.0          -0.0\n",
       "8935937500.0      0.0  1455623.32     1.04950539e+16 ...         10000.0               -0.0          -0.0\n",
       "8939062500.0      0.0  1455623.32     1.12239484e+16 ...         10000.0               -0.0          -0.0\n",
       "8942187500.0      0.0  1455623.32     1.20035528e+16 ...         10000.0               -0.0          -0.0\n",
       "8945312500.0      0.0  1455623.32     1.28374002e+16 ...         10000.0               -0.0          -0.0\n",
       "8948437500.0      0.0  1455623.32     1.37292699e+16 ...         10000.0               -0.0          -0.0\n",
       "8951562500.0      0.0  1455623.32     1.46832049e+16 ...         10000.0               -0.0          -0.0\n",
       "8954687500.0      0.0  1455623.32     1.57035303e+16 ...         10000.0               -0.0          -0.0\n",
       "8957812500.0      0.0  1455623.32     1.67948727e+16 ...         10000.0               -0.0          -0.0\n",
       "8960937500.0      0.0  1455623.32     1.79621816e+16 ...         10000.0               -0.0          -0.0\n",
       "8964062500.0      0.0  1455623.32     1.92107519e+16 ...         10000.0               -0.0          -0.0\n",
       "8967187500.0      0.0  1455623.32     2.05462476e+16 ...         10000.0               -0.0          -0.0\n",
       "8970312500.0      0.0  1455623.32     2.19747284e+16 ...         10000.0               -0.0          -0.0\n",
       "8973437500.0      0.0  1455623.32     2.35026762e+16 ...         10000.0               -0.0          -0.0\n",
       "8976562500.0      0.0  1455623.32     2.51370256e+16 ...         10000.0               -0.0          -0.0\n",
       "8979687500.0      0.0  1455623.32     2.68851951e+16 ...         10000.0               -0.0          -0.0\n",
       "8982812500.0      0.0  1455623.32     2.87551207e+16 ...         10000.0               -0.0          -0.0\n",
       "8985937500.0      0.0  1455623.32     3.07552924e+16 ...         10000.0               -0.0          -0.0\n",
       "8989062500.0      0.0  1455623.32     3.28947925e+16 ...         10000.0               -0.0          -0.0\n",
       "8992187500.0      0.0  1455623.32     3.51833374e+16 ...         10000.0               -0.0          -0.0\n",
       "8995312500.0      0.0  1455623.32     3.76313214e+16 ...         10000.0                0.0           0.0\n",
       "8998437500.0      0.0  1455623.32     4.02492313e+16 ...         10000.0                0.0           0.0"
      ]
     },
     "execution_count": 14,
     "metadata": {},
     "output_type": "execute_result"
    }
   ],
   "source": [
    "columns = [\n",
    "    'coordinate',\n",
    "    'velocity', \n",
    "    'sound_speed',\n",
    "    'electron_density',\n",
    "    'ion_density',\n",
    "    'electron_pressure',\n",
    "    'ion_pressure',\n",
    "    'electron_temperature',\n",
    "    'ion_temperature',\n",
    "    'electron_heat_flux', \n",
    "    'ion_heat_flux',\n",
    "]\n",
    "units = {\n",
    "    'coordinate': 'cm',\n",
    "    'velocity': 'cm / s',\n",
    "    'sound_speed': 'cm / s',\n",
    "    'electron_density': 'cm-3',\n",
    "    'ion_density': 'cm-3',\n",
    "    'electron_pressure': 'dyne cm-2',\n",
    "    'ion_pressure': 'dyne cm-2',\n",
    "    'electron_temperature': 'K',\n",
    "    'ion_temperature': 'K',\n",
    "    'electron_heat_flux': 'erg s-1 cm-2',\n",
    "    'ion_heat_flux': 'erg s-1 cm-2',\n",
    "}\n",
    "\n",
    "import astropy.table\n",
    "astropy.table.QTable.read(\n",
    "    'hydrad-parsing-testing/Results/profile0.phy',\n",
    "    format='ascii',\n",
    "    names=columns,\n",
    "    #guess=False,\n",
    "    units=units,\n",
    ")"
   ]
  },
  {
   "cell_type": "code",
   "execution_count": 28,
   "id": "1c70a749-706d-4417-bf69-8fc25505f20d",
   "metadata": {},
   "outputs": [],
   "source": [
    "import astropy.table"
   ]
  },
  {
   "cell_type": "code",
   "execution_count": 29,
   "id": "5aa0764b-5c79-4f2a-a6d2-096a01839a43",
   "metadata": {},
   "outputs": [],
   "source": [
    "foo = astropy.table.QTable.read(\n",
    "    'hydrad-gallery-example/Results/profile0.amr',\n",
    "    format='ascii',\n",
    "    data_start=4,\n",
    ")"
   ]
  },
  {
   "cell_type": "code",
   "execution_count": 37,
   "id": "30d3f6ff-69c0-4b1d-8d34-01cabc5938bc",
   "metadata": {},
   "outputs": [],
   "source": [
    "foo['col1'].unit = 'cm'"
   ]
  },
  {
   "cell_type": "code",
   "execution_count": 40,
   "id": "d7b2b69a-6da6-44e6-8f9d-f94b8b1534b3",
   "metadata": {},
   "outputs": [
    {
     "data": {
      "text/plain": [
       "<TableColumns names=('col1','col2','col3','col4','col5','col6')>"
      ]
     },
     "execution_count": 40,
     "metadata": {},
     "output_type": "execute_result"
    }
   ],
   "source": [
    "foo.columns[:6]"
   ]
  },
  {
   "cell_type": "code",
   "execution_count": 2,
   "id": "f4693901-d506-4540-9cb0-bf3e9fb69572",
   "metadata": {},
   "outputs": [],
   "source": [
    "from pydrad.parse.util import read_amr_file"
   ]
  },
  {
   "cell_type": "code",
   "execution_count": 3,
   "id": "d063f953-f311-43af-a956-32ae9b112b27",
   "metadata": {},
   "outputs": [
    {
     "data": {
      "text/html": [
       "<div><i>QTable length=202</i>\n",
       "<table id=\"table4831477712\" class=\"table-striped table-bordered table-condensed\">\n",
       "<thead><tr><th>grid_centers</th><th>grid_widths</th><th>ion_mass_density</th><th>momentum_density</th><th>electron_energy_density</th><th>ion_energy_density</th><th>col7</th><th>col8</th><th>col9</th><th>col10</th><th>col11</th><th>col12</th><th>col13</th></tr></thead>\n",
       "<thead><tr><th>cm</th><th>cm</th><th>g / cm3</th><th>g / (s cm2)</th><th>erg / cm3</th><th>erg / cm3</th><th></th><th></th><th></th><th></th><th></th><th></th><th></th></tr></thead>\n",
       "<thead><tr><th>float64</th><th>float64</th><th>float64</th><th>float64</th><th>float64</th><th>float64</th><th>int64</th><th>int64</th><th>int64</th><th>int64</th><th>int64</th><th>int64</th><th>int64</th></tr></thead>\n",
       "<tr><td>6250000.0</td><td>12500000.0</td><td>3.9032583639489504e-11</td><td>0.0</td><td>74.43339302970364</td><td>74.43339302970364</td><td>2</td><td>0</td><td>100</td><td>0</td><td>0</td><td>0</td><td>0</td></tr>\n",
       "<tr><td>18750000.0</td><td>12500000.0</td><td>3.4120025755606984e-11</td><td>0.0</td><td>65.06536463759232</td><td>65.06536463759232</td><td>2</td><td>0</td><td>100</td><td>0</td><td>0</td><td>0</td><td>0</td></tr>\n",
       "<tr><td>31250000.0</td><td>12500000.0</td><td>2.9827238805812324e-11</td><td>0.0</td><td>56.879211725501165</td><td>56.879211725501165</td><td>2</td><td>0</td><td>101</td><td>0</td><td>0</td><td>0</td><td>0</td></tr>\n",
       "<tr><td>43750000.0</td><td>12500000.0</td><td>2.6076290419902056e-11</td><td>0.0</td><td>49.72632074546039</td><td>49.72632074546039</td><td>2</td><td>0</td><td>101</td><td>0</td><td>0</td><td>0</td><td>0</td></tr>\n",
       "<tr><td>56250000.0</td><td>12500000.0</td><td>2.2798761879417744e-11</td><td>0.0</td><td>43.47622025830928</td><td>43.47622025830928</td><td>2</td><td>1</td><td>102</td><td>0</td><td>0</td><td>0</td><td>0</td></tr>\n",
       "<tr><td>68750000.0</td><td>12500000.0</td><td>1.9934853186478763e-11</td><td>0.0</td><td>38.01487433994569</td><td>38.01487433994569</td><td>2</td><td>1</td><td>102</td><td>0</td><td>0</td><td>0</td><td>0</td></tr>\n",
       "<tr><td>81250000.0</td><td>12500000.0</td><td>1.743230307036554e-11</td><td>0.0</td><td>33.2426230821342</td><td>33.2426230821342</td><td>2</td><td>1</td><td>103</td><td>0</td><td>0</td><td>0</td><td>0</td></tr>\n",
       "<tr><td>93750000.0</td><td>12500000.0</td><td>1.5245443198239422e-11</td><td>0.0</td><td>29.07237901460673</td><td>29.07237901460673</td><td>2</td><td>1</td><td>103</td><td>0</td><td>0</td><td>0</td><td>0</td></tr>\n",
       "<tr><td>106250000.0</td><td>12500000.0</td><td>1.3334370107639402e-11</td><td>0.0</td><td>25.428048017331705</td><td>25.428048017331705</td><td>2</td><td>2</td><td>104</td><td>0</td><td>0</td><td>0</td><td>0</td></tr>\n",
       "<tr><td>118750000.0</td><td>12500000.0</td><td>1.1664220369154866e-11</td><td>0.0</td><td>22.243147088116604</td><td>22.243147088116604</td><td>2</td><td>2</td><td>104</td><td>0</td><td>0</td><td>0</td><td>0</td></tr>\n",
       "<tr><td>131250000.0</td><td>12500000.0</td><td>1.0204536255905389e-11</td><td>0.0</td><td>19.459594702647774</td><td>19.459594702647774</td><td>2</td><td>2</td><td>105</td><td>0</td><td>0</td><td>0</td><td>0</td></tr>\n",
       "<tr><td>143750000.0</td><td>12500000.0</td><td>8.928710731786073e-12</td><td>0.0</td><td>17.026652431872108</td><td>17.026652431872108</td><td>2</td><td>2</td><td>105</td><td>0</td><td>0</td><td>0</td><td>0</td></tr>\n",
       "<tr><td>156250000.0</td><td>12500000.0</td><td>7.813501933472227e-12</td><td>0.0</td><td>14.899999080872881</td><td>14.899999080872881</td><td>2</td><td>3</td><td>106</td><td>0</td><td>0</td><td>0</td><td>0</td></tr>\n",
       "<tr><td>168750000.0</td><td>12500000.0</td><td>6.8386085291639146e-12</td><td>0.0</td><td>13.040920916968496</td><td>13.040920916968496</td><td>2</td><td>3</td><td>106</td><td>0</td><td>0</td><td>0</td><td>0</td></tr>\n",
       "<tr><td>181250000.0</td><td>12500000.0</td><td>5.986298387095878e-12</td><td>0.0</td><td>11.415603557151975</td><td>11.415603557151975</td><td>2</td><td>3</td><td>107</td><td>0</td><td>0</td><td>0</td><td>0</td></tr>\n",
       "<tr><td>193750000.0</td><td>12500000.0</td><td>5.241083913409735e-12</td><td>0.0</td><td>9.994512851919072</td><td>9.994512851919072</td><td>2</td><td>3</td><td>107</td><td>0</td><td>0</td><td>0</td><td>0</td></tr>\n",
       "<tr><td>...</td><td>...</td><td>...</td><td>...</td><td>...</td><td>...</td><td>...</td><td>...</td><td>...</td><td>...</td><td>...</td><td>...</td><td>...</td></tr>\n",
       "<tr><td>4793750000.0</td><td>12500000.0</td><td>4.589493331908154e-12</td><td>0.0</td><td>8.751958725978701</td><td>8.751958725978701</td><td>2</td><td>95</td><td>291</td><td>0</td><td>0</td><td>0</td><td>0</td></tr>\n",
       "<tr><td>4806250000.0</td><td>12500000.0</td><td>5.241146828796452e-12</td><td>0.0</td><td>9.99463282875049</td><td>9.99463282875049</td><td>2</td><td>96</td><td>292</td><td>0</td><td>0</td><td>0</td><td>0</td></tr>\n",
       "<tr><td>4818750000.0</td><td>12500000.0</td><td>5.986370252249191e-12</td><td>0.0</td><td>11.415740600788416</td><td>11.415740600788416</td><td>2</td><td>96</td><td>292</td><td>0</td><td>0</td><td>0</td><td>0</td></tr>\n",
       "<tr><td>4831250000.0</td><td>12500000.0</td><td>6.838690630786476e-12</td><td>0.0</td><td>13.041077481094433</td><td>13.041077481094433</td><td>2</td><td>96</td><td>293</td><td>0</td><td>0</td><td>0</td><td>0</td></tr>\n",
       "<tr><td>4843750000.0</td><td>12500000.0</td><td>7.813595744548944e-12</td><td>0.0</td><td>14.90017797440471</td><td>14.90017797440471</td><td>2</td><td>96</td><td>293</td><td>0</td><td>0</td><td>0</td><td>0</td></tr>\n",
       "<tr><td>4856250000.0</td><td>12500000.0</td><td>8.928817938439356e-12</td><td>0.0</td><td>17.026856870169937</td><td>17.026856870169937</td><td>2</td><td>97</td><td>294</td><td>0</td><td>0</td><td>0</td><td>0</td></tr>\n",
       "<tr><td>4868750000.0</td><td>12500000.0</td><td>1.0204658788199243e-11</td><td>0.0</td><td>19.459828366257426</td><td>19.459828366257426</td><td>2</td><td>97</td><td>294</td><td>0</td><td>0</td><td>0</td><td>0</td></tr>\n",
       "<tr><td>4881250000.0</td><td>12500000.0</td><td>1.1664360436745289e-11</td><td>0.0</td><td>22.243414190753338</td><td>22.243414190753338</td><td>2</td><td>97</td><td>295</td><td>0</td><td>0</td><td>0</td><td>0</td></tr>\n",
       "<tr><td>4893750000.0</td><td>12500000.0</td><td>1.3334530240100603e-11</td><td>0.0</td><td>25.42835338278052</td><td>25.42835338278052</td><td>2</td><td>97</td><td>295</td><td>0</td><td>0</td><td>0</td><td>0</td></tr>\n",
       "<tr><td>4906250000.0</td><td>12500000.0</td><td>1.524562629102864e-11</td><td>0.0</td><td>29.072728164375203</td><td>29.072728164375203</td><td>2</td><td>98</td><td>296</td><td>0</td><td>0</td><td>0</td><td>0</td></tr>\n",
       "<tr><td>4918750000.0</td><td>12500000.0</td><td>1.743251243836588e-11</td><td>0.0</td><td>33.2430223375563</td><td>33.2430223375563</td><td>2</td><td>98</td><td>296</td><td>0</td><td>0</td><td>0</td><td>0</td></tr>\n",
       "<tr><td>4931250000.0</td><td>12500000.0</td><td>1.9935092624924014e-11</td><td>0.0</td><td>38.0153309383627</td><td>38.0153309383627</td><td>2</td><td>98</td><td>297</td><td>0</td><td>0</td><td>0</td><td>0</td></tr>\n",
       "<tr><td>4943750000.0</td><td>12500000.0</td><td>2.2799035731883587e-11</td><td>0.0</td><td>43.47674248272596</td><td>43.47674248272596</td><td>2</td><td>98</td><td>297</td><td>0</td><td>0</td><td>0</td><td>0</td></tr>\n",
       "<tr><td>4956250000.0</td><td>12500000.0</td><td>2.6076603658826177e-11</td><td>0.0</td><td>49.72691807809321</td><td>49.72691807809321</td><td>2</td><td>99</td><td>298</td><td>0</td><td>0</td><td>0</td><td>0</td></tr>\n",
       "<tr><td>4968750000.0</td><td>12500000.0</td><td>2.982759712360239e-11</td><td>0.0</td><td>56.87989502151723</td><td>56.87989502151723</td><td>2</td><td>99</td><td>298</td><td>0</td><td>0</td><td>0</td><td>0</td></tr>\n",
       "<tr><td>4981250000.0</td><td>12500000.0</td><td>3.412043566628228e-11</td><td>0.0</td><td>65.06614631893535</td><td>65.06614631893535</td><td>2</td><td>99</td><td>299</td><td>0</td><td>0</td><td>0</td><td>0</td></tr>\n",
       "<tr><td>4993750000.0</td><td>12500000.0</td><td>3.903298249427311e-11</td><td>0.0</td><td>74.43415362795518</td><td>74.43415362795518</td><td>2</td><td>99</td><td>299</td><td>0</td><td>0</td><td>0</td><td>0</td></tr>\n",
       "</table></div>"
      ],
      "text/plain": [
       "<QTable length=202>\n",
       "grid_centers grid_widths    ion_mass_density    momentum_density electron_energy_density ion_energy_density  col7  col8  col9 col10 col11 col12 col13\n",
       "     cm           cm            g / cm3           g / (s cm2)           erg / cm3            erg / cm3                                               \n",
       "  float64      float64          float64             float64              float64              float64       int64 int64 int64 int64 int64 int64 int64\n",
       "------------ ----------- ---------------------- ---------------- ----------------------- ------------------ ----- ----- ----- ----- ----- ----- -----\n",
       "   6250000.0  12500000.0 3.9032583639489504e-11              0.0       74.43339302970364  74.43339302970364     2     0   100     0     0     0     0\n",
       "  18750000.0  12500000.0 3.4120025755606984e-11              0.0       65.06536463759232  65.06536463759232     2     0   100     0     0     0     0\n",
       "  31250000.0  12500000.0 2.9827238805812324e-11              0.0      56.879211725501165 56.879211725501165     2     0   101     0     0     0     0\n",
       "  43750000.0  12500000.0 2.6076290419902056e-11              0.0       49.72632074546039  49.72632074546039     2     0   101     0     0     0     0\n",
       "  56250000.0  12500000.0 2.2798761879417744e-11              0.0       43.47622025830928  43.47622025830928     2     1   102     0     0     0     0\n",
       "  68750000.0  12500000.0 1.9934853186478763e-11              0.0       38.01487433994569  38.01487433994569     2     1   102     0     0     0     0\n",
       "  81250000.0  12500000.0  1.743230307036554e-11              0.0        33.2426230821342   33.2426230821342     2     1   103     0     0     0     0\n",
       "  93750000.0  12500000.0 1.5245443198239422e-11              0.0       29.07237901460673  29.07237901460673     2     1   103     0     0     0     0\n",
       " 106250000.0  12500000.0 1.3334370107639402e-11              0.0      25.428048017331705 25.428048017331705     2     2   104     0     0     0     0\n",
       " 118750000.0  12500000.0 1.1664220369154866e-11              0.0      22.243147088116604 22.243147088116604     2     2   104     0     0     0     0\n",
       " 131250000.0  12500000.0 1.0204536255905389e-11              0.0      19.459594702647774 19.459594702647774     2     2   105     0     0     0     0\n",
       " 143750000.0  12500000.0  8.928710731786073e-12              0.0      17.026652431872108 17.026652431872108     2     2   105     0     0     0     0\n",
       " 156250000.0  12500000.0  7.813501933472227e-12              0.0      14.899999080872881 14.899999080872881     2     3   106     0     0     0     0\n",
       " 168750000.0  12500000.0 6.8386085291639146e-12              0.0      13.040920916968496 13.040920916968496     2     3   106     0     0     0     0\n",
       " 181250000.0  12500000.0  5.986298387095878e-12              0.0      11.415603557151975 11.415603557151975     2     3   107     0     0     0     0\n",
       " 193750000.0  12500000.0  5.241083913409735e-12              0.0       9.994512851919072  9.994512851919072     2     3   107     0     0     0     0\n",
       "         ...         ...                    ...              ...                     ...                ...   ...   ...   ...   ...   ...   ...   ...\n",
       "4793750000.0  12500000.0  4.589493331908154e-12              0.0       8.751958725978701  8.751958725978701     2    95   291     0     0     0     0\n",
       "4806250000.0  12500000.0  5.241146828796452e-12              0.0        9.99463282875049   9.99463282875049     2    96   292     0     0     0     0\n",
       "4818750000.0  12500000.0  5.986370252249191e-12              0.0      11.415740600788416 11.415740600788416     2    96   292     0     0     0     0\n",
       "4831250000.0  12500000.0  6.838690630786476e-12              0.0      13.041077481094433 13.041077481094433     2    96   293     0     0     0     0\n",
       "4843750000.0  12500000.0  7.813595744548944e-12              0.0       14.90017797440471  14.90017797440471     2    96   293     0     0     0     0\n",
       "4856250000.0  12500000.0  8.928817938439356e-12              0.0      17.026856870169937 17.026856870169937     2    97   294     0     0     0     0\n",
       "4868750000.0  12500000.0 1.0204658788199243e-11              0.0      19.459828366257426 19.459828366257426     2    97   294     0     0     0     0\n",
       "4881250000.0  12500000.0 1.1664360436745289e-11              0.0      22.243414190753338 22.243414190753338     2    97   295     0     0     0     0\n",
       "4893750000.0  12500000.0 1.3334530240100603e-11              0.0       25.42835338278052  25.42835338278052     2    97   295     0     0     0     0\n",
       "4906250000.0  12500000.0  1.524562629102864e-11              0.0      29.072728164375203 29.072728164375203     2    98   296     0     0     0     0\n",
       "4918750000.0  12500000.0  1.743251243836588e-11              0.0        33.2430223375563   33.2430223375563     2    98   296     0     0     0     0\n",
       "4931250000.0  12500000.0 1.9935092624924014e-11              0.0        38.0153309383627   38.0153309383627     2    98   297     0     0     0     0\n",
       "4943750000.0  12500000.0 2.2799035731883587e-11              0.0       43.47674248272596  43.47674248272596     2    98   297     0     0     0     0\n",
       "4956250000.0  12500000.0 2.6076603658826177e-11              0.0       49.72691807809321  49.72691807809321     2    99   298     0     0     0     0\n",
       "4968750000.0  12500000.0  2.982759712360239e-11              0.0       56.87989502151723  56.87989502151723     2    99   298     0     0     0     0\n",
       "4981250000.0  12500000.0  3.412043566628228e-11              0.0       65.06614631893535  65.06614631893535     2    99   299     0     0     0     0\n",
       "4993750000.0  12500000.0  3.903298249427311e-11              0.0       74.43415362795518  74.43415362795518     2    99   299     0     0     0     0"
      ]
     },
     "execution_count": 3,
     "metadata": {},
     "output_type": "execute_result"
    }
   ],
   "source": [
    "read_amr_file('hydrad-gallery-example/Results/profile0.amr')"
   ]
  },
  {
   "cell_type": "code",
   "execution_count": null,
   "id": "edf10378-d965-496f-b397-182768089e15",
   "metadata": {},
   "outputs": [],
   "source": []
  }
 ],
 "metadata": {
  "kernelspec": {
   "display_name": "Python [conda env:pydrad-dev]",
   "language": "python",
   "name": "conda-env-pydrad-dev-py"
  },
  "language_info": {
   "codemirror_mode": {
    "name": "ipython",
    "version": 3
   },
   "file_extension": ".py",
   "mimetype": "text/x-python",
   "name": "python",
   "nbconvert_exporter": "python",
   "pygments_lexer": "ipython3",
   "version": "3.11.6"
  }
 },
 "nbformat": 4,
 "nbformat_minor": 5
}
