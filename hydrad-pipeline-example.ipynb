{
 "cells": [
  {
   "cell_type": "markdown",
   "id": "06372edf-113c-48a3-9480-e5aeaa0c347d",
   "metadata": {},
   "source": [
    "# HYDRAD Configuration Example"
   ]
  },
  {
   "cell_type": "code",
   "execution_count": null,
   "id": "8c64bbe5-4922-462c-99b5-fa2b6b4e7195",
   "metadata": {},
   "outputs": [],
   "source": [
    "import copy\n",
    "import pathlib\n",
    "\n",
    "import astropy.units as u\n",
    "import matplotlib.pyplot as plt\n",
    "import numpy as np\n",
    "from astropy.coordinates import SkyCoord\n",
    "from sunpy.coordinates import get_horizons_coord\n",
    "\n",
    "import synthesizAR\n",
    "from synthesizAR.models import semi_circular_arcade, semi_circular_bundle\n",
    "from synthesizAR.interfaces.hydrad import HYDRADInterface\n",
    "\n",
    "import pydrad.configure\n",
    "import pydrad.configure.data"
   ]
  },
  {
   "cell_type": "markdown",
   "id": "17375b26-4ba1-4519-b2ee-eee93d0b6ae8",
   "metadata": {},
   "source": [
    "## Set up strand geometry"
   ]
  },
  {
   "cell_type": "code",
   "execution_count": null,
   "id": "8e4307e4-b4ba-4b80-81ba-590dc02e0ee8",
   "metadata": {},
   "outputs": [],
   "source": [
    "@u.quantity_input\n",
    "def mikic_bfield_model(strand, B0=1*u.G, B1=10*u.G, ell=14*u.Mm):\n",
    "    s = strand.field_aligned_coordinate\n",
    "    L = strand.length\n",
    "    return B0 + B1*(np.exp(-s/ell) + np.exp(-(L-s)/ell))"
   ]
  },
  {
   "cell_type": "code",
   "execution_count": null,
   "id": "8a476048-9aba-4e16-bb35-9f2b280a7f84",
   "metadata": {},
   "outputs": [],
   "source": [
    "date = '2020-01-01'\n",
    "view = SkyCoord(lon=20*u.deg, lat=5*u.deg, radius=1*u.Rsun, obstime=date, frame='heliographic_stonyhurst')"
   ]
  },
  {
   "cell_type": "code",
   "execution_count": null,
   "id": "2d9309c4-7f25-44cc-9f83-3de1d906c730",
   "metadata": {},
   "outputs": [],
   "source": [
    "sdo = get_horizons_coord('SDO', time=date)"
   ]
  },
  {
   "cell_type": "code",
   "execution_count": null,
   "id": "b598f6f6-bd0f-4207-b681-d88df791e506",
   "metadata": {},
   "outputs": [],
   "source": [
    "arcade = semi_circular_bundle(100*u.Mm, 3*u.Mm, 10, inclination=5*u.deg, observer=view)\n",
    "strands = [synthesizAR.Strand(f'strand{i}', s) for i,s in enumerate(arcade)]\n",
    "for s in strands:\n",
    "    s.field_strength = mikic_bfield_model(s, B1=25*u.G)"
   ]
  },
  {
   "cell_type": "code",
   "execution_count": null,
   "id": "dced747e-6aa8-41cf-921c-901e318d0a35",
   "metadata": {},
   "outputs": [],
   "source": [
    "skeleton = synthesizAR.Skeleton(strands)"
   ]
  },
  {
   "cell_type": "code",
   "execution_count": null,
   "id": "d2c646c4-c0a8-48b2-b121-99e6c53813fa",
   "metadata": {},
   "outputs": [],
   "source": [
    "skeleton.peek(observer=sdo)"
   ]
  },
  {
   "cell_type": "code",
   "execution_count": null,
   "id": "3cc12830-4797-4631-846d-6eafef3fc5fb",
   "metadata": {},
   "outputs": [],
   "source": [
    "skeleton.peek(\n",
    "    observer=sdo,\n",
    "    axes_limits=((-1000,1000)*u.arcsec, (-1000,1000)*u.arcsec)\n",
    ")"
   ]
  },
  {
   "cell_type": "code",
   "execution_count": null,
   "id": "867afd19-a885-43c9-862f-df3b8e9089be",
   "metadata": {},
   "outputs": [],
   "source": [
    "for s in skeleton.strands:\n",
    "    plt.plot(s.field_aligned_coordinate_center_norm, s.field_strength_center, color='k', alpha=0.1)"
   ]
  },
  {
   "cell_type": "markdown",
   "id": "98e1f55b-8f02-4949-a0ee-57de50183bc7",
   "metadata": {},
   "source": [
    "## Configure HYDRAD Simulations"
   ]
  },
  {
   "cell_type": "code",
   "execution_count": null,
   "id": "cf667c3e-43c7-4345-b495-0c679b5e1e76",
   "metadata": {},
   "outputs": [],
   "source": [
    "hydrad_path = pathlib.Path('hydrad-clean')"
   ]
  },
  {
   "cell_type": "code",
   "execution_count": null,
   "id": "09db0e65-4b65-49e4-87ef-96d2c49a24c7",
   "metadata": {},
   "outputs": [],
   "source": [
    "pydrad.configure.util.get_clean_hydrad(hydrad_path, from_github=True, overwrite=True)"
   ]
  },
  {
   "cell_type": "code",
   "execution_count": null,
   "id": "bb1f6b30-0ce9-48e2-b93e-b96f3c96d177",
   "metadata": {},
   "outputs": [],
   "source": [
    "default_hydrad_config = pydrad.configure.data.get_defaults()\n",
    "default_hydrad_config['general']['total_time'] = 13 * u.h\n",
    "default_hydrad_config['general']['output_interval'] = 6 * u.s\n",
    "default_hydrad_config['general']['logging_frequency'] = 10000\n",
    "default_hydrad_config['general']['write_file_equation_terms'] = False\n",
    "default_hydrad_config['general']['write_file_hydrogen_level_populations'] = False\n",
    "default_hydrad_config['general']['write_file_timescales'] = False\n",
    "default_hydrad_config['general']['write_file_physical'] = False\n",
    "default_hydrad_config['general']['write_file_ion_populations'] = True\n",
    "default_hydrad_config['general']['poly_fit_gravity'] = {\n",
    "    'order': 6,\n",
    "    'domains': np.linspace(0,1,5),\n",
    "}\n",
    "default_hydrad_config['general']['poly_fit_magnetic_field'] = {\n",
    "    'order': 6,\n",
    "    'domains': np.linspace(0,1,5),\n",
    "}\n",
    "# make any modifications to defaults that will apply to all strands here\n",
    "default_hydrad_config['grid']['maximum_cell_width'] = 1 * u.Mm\n",
    "# NOTE: Pinning this explicitly as using a low refinement level can result in a \n",
    "default_hydrad_config['grid']['maximum_cells'] = 30000\n",
    "# NOTE: Setting this fairly low as we will use TRAC to deal with the refinement\n",
    "default_hydrad_config['grid']['maximum_refinement_level'] = 4\n",
    "default_hydrad_config['grid']['initial_refinement_level'] = 4\n",
    "default_hydrad_config['grid']['linear_restriction'] = True\n",
    "default_hydrad_config['grid']['enforce_conservation'] = False\n",
    "default_hydrad_config['grid']['refine_on_hydrogen_energy'] = False\n",
    "default_hydrad_config['grid']['adapt_every_n_time_steps'] = 10\n",
    "default_hydrad_config['radiation']['decouple_ionization_state_solver'] = True\n",
    "default_hydrad_config['radiation']['use_power_law_radiative_losses'] = True\n",
    "default_hydrad_config['radiation']['elements_nonequilibrium'] = [\n",
    "    'Fe',\n",
    "\t'Si',\n",
    "\t'Mg',\n",
    "\t'Ca',\n",
    "\t'O',\n",
    "\t'Ne',\n",
    "]\n",
    "default_hydrad_config['radiation']['rates_dataset'] = 'chianti_v10'\n",
    "default_hydrad_config['initial_conditions']['footpoint_temperature'] = 1e4 * u.K\n",
    "default_hydrad_config['solver']['minimum_temperature'] = 5e3 * u.K\n",
    "default_hydrad_config['solver']['minimum_radiation_temperature'] = 1e4 * u.K\n",
    "default_hydrad_config['solver']['safety_radiation'] = 0.01\n",
    "default_hydrad_config['solver']['cutoff_temperature_fraction'] = 0.2"
   ]
  },
  {
   "cell_type": "code",
   "execution_count": 17,
   "id": "2d881983-808a-47e1-878a-e5cc64a21814",
   "metadata": {},
   "outputs": [
    {
     "name": "stdout",
     "output_type": "stream",
     "text": [
      "9.9184e+08\n"
     ]
    }
   ],
   "source": [
    "import astropy.units as u\n",
    "foo = 9.91840105492 * u.Mm\n",
    "print(f'{foo.to_value('cm'):1.4e}')"
   ]
  },
  {
   "cell_type": "code",
   "execution_count": null,
   "id": "76b09c37-9426-497b-ab1f-69984cbc3bd6",
   "metadata": {},
   "outputs": [],
   "source": [
    "class HeatingModel:\n",
    "\n",
    "    def calculate_event_properties(self, config, loop):\n",
    "        return config"
   ]
  },
  {
   "cell_type": "code",
   "execution_count": null,
   "id": "45372ab4-1aec-412e-b146-4747b0523baa",
   "metadata": {},
   "outputs": [],
   "source": [
    "hydrad_interface = HYDRADInterface(\n",
    "    'hydrad_results',\n",
    "    base_config=default_hydrad_config,\n",
    "    hydrad_dir=hydrad_path,\n",
    "    use_gravity=True,\n",
    "    use_magnetic_field=True,\n",
    "    heating_model=HeatingModel(),\n",
    ")"
   ]
  },
  {
   "cell_type": "code",
   "execution_count": null,
   "id": "86dcd674-d806-4550-a301-ee3187b13b2b",
   "metadata": {
    "scrolled": true
   },
   "outputs": [],
   "source": [
    "skeleton.configure_loop_simulations(hydrad_interface)"
   ]
  },
  {
   "cell_type": "code",
   "execution_count": null,
   "id": "6f9ff680-3709-4067-a41e-71b2b689706d",
   "metadata": {},
   "outputs": [],
   "source": []
  }
 ],
 "metadata": {
  "kernelspec": {
   "display_name": "Python [conda env:iswat-ar-modeling]",
   "language": "python",
   "name": "conda-env-iswat-ar-modeling-py"
  },
  "language_info": {
   "codemirror_mode": {
    "name": "ipython",
    "version": 3
   },
   "file_extension": ".py",
   "mimetype": "text/x-python",
   "name": "python",
   "nbconvert_exporter": "python",
   "pygments_lexer": "ipython3",
   "version": "3.12.6"
  }
 },
 "nbformat": 4,
 "nbformat_minor": 5
}
